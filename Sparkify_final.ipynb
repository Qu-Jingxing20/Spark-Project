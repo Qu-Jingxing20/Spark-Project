{
 "cells": [
  {
   "cell_type": "markdown",
   "metadata": {},
   "source": [
    "# Sparkify 项目 Workspace\n",
    "这个 Workspace 包括一个迷你的子数据集（128MB），是完整数据集（12GB）的一个子集。在将你的项目部署到云上之前，你可以自由使用 Workspace 来创建你的项目或用Spark来探索这个较小数据集。设置 Spark 集群的指南可以在选修 Spark 课程的内容里找到。\n",
    "\n",
    "你可以依照下面的步骤进行项目的数据分析和模型搭建部分。"
   ]
  },
  {
   "cell_type": "code",
   "execution_count": 1,
   "metadata": {},
   "outputs": [],
   "source": [
    "# import libraries\n",
    "from pyspark.sql import SparkSession\n",
    "from pyspark.sql.types import IntegerType\n",
    "from pyspark.sql.functions import udf, avg, count, sum, min, max, desc, asc, col, variance, when, lit\n",
    "from pyspark.ml.feature import StandardScaler, VectorAssembler, StringIndexer, VectorIndexer\n",
    "from pyspark.ml.pipeline import Pipeline\n",
    "from pyspark.ml.evaluation import MulticlassClassificationEvaluator\n",
    "from pyspark.ml.tuning import CrossValidator, ParamGridBuilder\n",
    "from pyspark.ml.classification import LogisticRegression, LinearSVC, RandomForestClassifier, GBTClassifier\n",
    "import numpy as np\n",
    "import pandas as pd\n",
    "import datetime\n",
    "from scipy.stats import norm\n",
    "import matplotlib.pyplot as plt\n",
    "import seaborn as sns\n",
    "import time\n",
    "%matplotlib inline"
   ]
  },
  {
   "cell_type": "code",
   "execution_count": 2,
   "metadata": {},
   "outputs": [],
   "source": [
    "# create a Spark session\n",
    "spark = SparkSession \\\n",
    "        .builder \\\n",
    "        .appName('mini project') \\\n",
    "        .getOrCreate()"
   ]
  },
  {
   "cell_type": "markdown",
   "metadata": {},
   "source": [
    "# 加载和清洗数据\n",
    "在这个 Workspace 中，小数据集的名称是 `mini_sparkify_event_data.json`.加载和清洗数据集，检查是否有无效或缺失数据——例如，没有userid或sessionid的数据。 "
   ]
  },
  {
   "cell_type": "code",
   "execution_count": 3,
   "metadata": {},
   "outputs": [
    {
     "data": {
      "text/plain": [
       "[Row(artist='Martha Tilston', auth='Logged In', firstName='Colin', gender='M', itemInSession=50, lastName='Freeman', length=277.89016, level='paid', location='Bakersfield, CA', method='PUT', page='NextSong', registration=1538173362000, sessionId=29, song='Rockpools', status=200, ts=1538352117000, userAgent='Mozilla/5.0 (Windows NT 6.1; WOW64; rv:31.0) Gecko/20100101 Firefox/31.0', userId='30'),\n",
       " Row(artist='Five Iron Frenzy', auth='Logged In', firstName='Micah', gender='M', itemInSession=79, lastName='Long', length=236.09424, level='free', location='Boston-Cambridge-Newton, MA-NH', method='PUT', page='NextSong', registration=1538331630000, sessionId=8, song='Canada', status=200, ts=1538352180000, userAgent='\"Mozilla/5.0 (Windows NT 6.1; WOW64) AppleWebKit/537.36 (KHTML, like Gecko) Chrome/37.0.2062.103 Safari/537.36\"', userId='9'),\n",
       " Row(artist='Adam Lambert', auth='Logged In', firstName='Colin', gender='M', itemInSession=51, lastName='Freeman', length=282.8273, level='paid', location='Bakersfield, CA', method='PUT', page='NextSong', registration=1538173362000, sessionId=29, song='Time For Miracles', status=200, ts=1538352394000, userAgent='Mozilla/5.0 (Windows NT 6.1; WOW64; rv:31.0) Gecko/20100101 Firefox/31.0', userId='30'),\n",
       " Row(artist='Enigma', auth='Logged In', firstName='Micah', gender='M', itemInSession=80, lastName='Long', length=262.71302, level='free', location='Boston-Cambridge-Newton, MA-NH', method='PUT', page='NextSong', registration=1538331630000, sessionId=8, song='Knocking On Forbidden Doors', status=200, ts=1538352416000, userAgent='\"Mozilla/5.0 (Windows NT 6.1; WOW64) AppleWebKit/537.36 (KHTML, like Gecko) Chrome/37.0.2062.103 Safari/537.36\"', userId='9'),\n",
       " Row(artist='Daft Punk', auth='Logged In', firstName='Colin', gender='M', itemInSession=52, lastName='Freeman', length=223.60771, level='paid', location='Bakersfield, CA', method='PUT', page='NextSong', registration=1538173362000, sessionId=29, song='Harder Better Faster Stronger', status=200, ts=1538352676000, userAgent='Mozilla/5.0 (Windows NT 6.1; WOW64; rv:31.0) Gecko/20100101 Firefox/31.0', userId='30')]"
      ]
     },
     "execution_count": 3,
     "metadata": {},
     "output_type": "execute_result"
    }
   ],
   "source": [
    "df = spark.read.json('mini_sparkify_event_data.json')\n",
    "df.take(5)"
   ]
  },
  {
   "cell_type": "code",
   "execution_count": 4,
   "metadata": {},
   "outputs": [
    {
     "name": "stdout",
     "output_type": "stream",
     "text": [
      "root\n",
      " |-- artist: string (nullable = true)\n",
      " |-- auth: string (nullable = true)\n",
      " |-- firstName: string (nullable = true)\n",
      " |-- gender: string (nullable = true)\n",
      " |-- itemInSession: long (nullable = true)\n",
      " |-- lastName: string (nullable = true)\n",
      " |-- length: double (nullable = true)\n",
      " |-- level: string (nullable = true)\n",
      " |-- location: string (nullable = true)\n",
      " |-- method: string (nullable = true)\n",
      " |-- page: string (nullable = true)\n",
      " |-- registration: long (nullable = true)\n",
      " |-- sessionId: long (nullable = true)\n",
      " |-- song: string (nullable = true)\n",
      " |-- status: long (nullable = true)\n",
      " |-- ts: long (nullable = true)\n",
      " |-- userAgent: string (nullable = true)\n",
      " |-- userId: string (nullable = true)\n",
      "\n"
     ]
    }
   ],
   "source": [
    "df.printSchema()"
   ]
  },
  {
   "cell_type": "code",
   "execution_count": 5,
   "metadata": {},
   "outputs": [
    {
     "data": {
      "text/plain": [
       "286500"
      ]
     },
     "execution_count": 5,
     "metadata": {},
     "output_type": "execute_result"
    }
   ],
   "source": [
    "df.count()"
   ]
  },
  {
   "cell_type": "code",
   "execution_count": 6,
   "metadata": {},
   "outputs": [
    {
     "name": "stdout",
     "output_type": "stream",
     "text": [
      "+-------+-----------------+-----------------+\n",
      "|summary|        sessionId|           userId|\n",
      "+-------+-----------------+-----------------+\n",
      "|  count|           286500|           286500|\n",
      "|   mean|1041.526554973822|59682.02278593872|\n",
      "| stddev|726.7762634630741|109091.9499991047|\n",
      "|    min|                1|                 |\n",
      "|    max|             2474|               99|\n",
      "+-------+-----------------+-----------------+\n",
      "\n"
     ]
    }
   ],
   "source": [
    "df.describe(['sessionId', 'userId']).show()"
   ]
  },
  {
   "cell_type": "code",
   "execution_count": 7,
   "metadata": {},
   "outputs": [
    {
     "name": "stdout",
     "output_type": "stream",
     "text": [
      "The artist column has 0 blank records.\n",
      "The auth column has 0 blank records.\n",
      "The firstName column has 0 blank records.\n",
      "The gender column has 0 blank records.\n",
      "The itemInSession column has 0 blank records.\n",
      "The lastName column has 0 blank records.\n",
      "The length column has 0 blank records.\n",
      "The level column has 0 blank records.\n",
      "The location column has 0 blank records.\n",
      "The method column has 0 blank records.\n",
      "The page column has 0 blank records.\n",
      "The registration column has 0 blank records.\n",
      "The sessionId column has 0 blank records.\n",
      "The song column has 0 blank records.\n",
      "The status column has 0 blank records.\n",
      "The ts column has 0 blank records.\n",
      "The userAgent column has 0 blank records.\n",
      "The userId column has 8346 blank records.\n"
     ]
    }
   ],
   "source": [
    "for column in df.columns:\n",
    "    print('The {} column has {} blank records.'.format(column, df.filter((df[column]=='') | (df[column]==np.nan)).count()))"
   ]
  },
  {
   "cell_type": "markdown",
   "metadata": {},
   "source": [
    "观察发现有userId为空的无效数据，这些数据产生在用户未登陆的状态，与后面预测用户流失或留存的需求无关，故可以删去"
   ]
  },
  {
   "cell_type": "code",
   "execution_count": 4,
   "metadata": {},
   "outputs": [],
   "source": [
    "df = df.filter(df.userId != '')"
   ]
  },
  {
   "cell_type": "markdown",
   "metadata": {},
   "source": [
    "# 探索性数据分析\n",
    "当你使用完整数据集时，通过加载小数据集，在 Spark 中完成基础操作来实现探索性数据分析。在这个 Workspace 中，我们已经提供给你一个你可以探索的小数据集。\n",
    "\n",
    "### 定义客户流失\n",
    "\n",
    "在你完成初步分析之后，创建一列 `Churn` 作为模型的标签。我建议你使用 `Cancellation Confirmation` 事件来定义客户流失，该事件在付费或免费客户身上都有发生。作为一个奖励任务，你也可以深入了解 `Downgrade` 事件。\n",
    "\n",
    "### 探索数据\n",
    "你定义好客户流失后，就可以执行一些探索性数据分析，观察留存用户和流失用户的行为。你可以首先把这两类用户的数据聚合到一起，观察固定时间内某个特定动作出现的次数或者播放音乐的数量。"
   ]
  },
  {
   "cell_type": "markdown",
   "metadata": {},
   "source": [
    "##### gender"
   ]
  },
  {
   "cell_type": "code",
   "execution_count": 9,
   "metadata": {},
   "outputs": [
    {
     "name": "stdout",
     "output_type": "stream",
     "text": [
      "+------+-----+\n",
      "|gender|count|\n",
      "+------+-----+\n",
      "|     F|  104|\n",
      "|     M|  121|\n",
      "+------+-----+\n",
      "\n"
     ]
    }
   ],
   "source": [
    "df.select('userId', 'gender').dropDuplicates().groupBy('gender').count().show()"
   ]
  },
  {
   "cell_type": "code",
   "execution_count": 10,
   "metadata": {},
   "outputs": [
    {
     "data": {
      "image/png": "[encoded data removed]",
      "text/plain": [
       "<matplotlib.figure.Figure at 0x7fd039c958d0>"
      ]
     },
     "metadata": {
      "needs_background": "light"
     },
     "output_type": "display_data"
    }
   ],
   "source": [
    "gender_pd = df.select('userId', 'gender').dropDuplicates().groupBy('gender').count().toPandas()\n",
    "sns.barplot(x='gender', y='count', data=gender_pd)\n",
    "plt.title(\"The Gender of Users\", fontsize=15)\n",
    "plt.xlabel(\"Gender\", fontsize=12)\n",
    "plt.ylabel(\"Count\", fontsize=12);"
   ]
  },
  {
   "cell_type": "markdown",
   "metadata": {},
   "source": [
    "##### level"
   ]
  },
  {
   "cell_type": "code",
   "execution_count": 11,
   "metadata": {},
   "outputs": [
    {
     "name": "stdout",
     "output_type": "stream",
     "text": [
      "+-----+-----+\n",
      "|level|count|\n",
      "+-----+-----+\n",
      "| free|  195|\n",
      "| paid|  165|\n",
      "+-----+-----+\n",
      "\n"
     ]
    }
   ],
   "source": [
    "df.select('userId', 'level').dropDuplicates().groupBy('level').count().show()"
   ]
  },
  {
   "cell_type": "code",
   "execution_count": 12,
   "metadata": {},
   "outputs": [
    {
     "data": {
      "image/png": "[encoded data removed]",
      "text/plain": [
       "<matplotlib.figure.Figure at 0x7fd039b77978>"
      ]
     },
     "metadata": {
      "needs_background": "light"
     },
     "output_type": "display_data"
    }
   ],
   "source": [
    "level_pd = df.select('userId', 'level').dropDuplicates().groupBy('level').count().toPandas()\n",
    "sns.barplot(x='level', y='count', data=level_pd)\n",
    "plt.title(\"The Level of Users\", fontsize=15)\n",
    "plt.xlabel(\"Level\", fontsize=12)\n",
    "plt.ylabel(\"Count\", fontsize=12);"
   ]
  },
  {
   "cell_type": "markdown",
   "metadata": {},
   "source": [
    "有些用户拥有2个level"
   ]
  },
  {
   "cell_type": "markdown",
   "metadata": {},
   "source": [
    "##### page"
   ]
  },
  {
   "cell_type": "code",
   "execution_count": 13,
   "metadata": {},
   "outputs": [
    {
     "name": "stdout",
     "output_type": "stream",
     "text": [
      "+--------------------+------+\n",
      "|                page| count|\n",
      "+--------------------+------+\n",
      "|              Cancel|    52|\n",
      "|    Submit Downgrade|    63|\n",
      "|         Thumbs Down|  2546|\n",
      "|                Home| 10082|\n",
      "|           Downgrade|  2055|\n",
      "|         Roll Advert|  3933|\n",
      "|              Logout|  3226|\n",
      "|       Save Settings|   310|\n",
      "|Cancellation Conf...|    52|\n",
      "|               About|   495|\n",
      "|            Settings|  1514|\n",
      "|     Add to Playlist|  6526|\n",
      "|          Add Friend|  4277|\n",
      "|            NextSong|228108|\n",
      "|           Thumbs Up| 12551|\n",
      "|                Help|  1454|\n",
      "|             Upgrade|   499|\n",
      "|               Error|   252|\n",
      "|      Submit Upgrade|   159|\n",
      "+--------------------+------+\n",
      "\n"
     ]
    }
   ],
   "source": [
    "df.groupBy('page').count().show()"
   ]
  },
  {
   "cell_type": "code",
   "execution_count": 14,
   "metadata": {},
   "outputs": [
    {
     "data": {
      "image/png": "[encoded data removed]",
      "text/plain": [
       "<matplotlib.figure.Figure at 0x7fd039b4a9e8>"
      ]
     },
     "metadata": {
      "needs_background": "light"
     },
     "output_type": "display_data"
    }
   ],
   "source": [
    "fig = plt.figure(figsize=(15, 10))\n",
    "ax = fig.add_subplot(1, 1, 1)\n",
    "page_pd = df.groupBy('page').count().toPandas()\n",
    "sns.barplot(x='count', y='page', data=page_pd, ax=ax)\n",
    "plt.title(\"The Page Distribution\", fontsize=15)\n",
    "plt.xlabel(\"Count\", fontsize=12)\n",
    "plt.ylabel(\"Page\", fontsize=12);"
   ]
  },
  {
   "cell_type": "markdown",
   "metadata": {},
   "source": [
    "##### artist"
   ]
  },
  {
   "cell_type": "code",
   "execution_count": 15,
   "metadata": {},
   "outputs": [
    {
     "name": "stdout",
     "output_type": "stream",
     "text": [
      "+--------------------+-----+\n",
      "|              artist|count|\n",
      "+--------------------+-----+\n",
      "|                null|50046|\n",
      "|       Kings Of Leon| 1841|\n",
      "|            Coldplay| 1813|\n",
      "|Florence + The Ma...| 1236|\n",
      "|       Dwight Yoakam| 1135|\n",
      "|            BjÃÂ¶rk| 1133|\n",
      "|      The Black Keys| 1125|\n",
      "|                Muse| 1090|\n",
      "|       Justin Bieber| 1044|\n",
      "|        Jack Johnson| 1007|\n",
      "|              Eminem|  953|\n",
      "|           Radiohead|  884|\n",
      "|     Alliance Ethnik|  876|\n",
      "|               Train|  854|\n",
      "|        Taylor Swift|  840|\n",
      "|         OneRepublic|  828|\n",
      "|         The Killers|  822|\n",
      "|         Linkin Park|  787|\n",
      "|         Evanescence|  781|\n",
      "|            Harmonia|  729|\n",
      "+--------------------+-----+\n",
      "only showing top 20 rows\n",
      "\n"
     ]
    }
   ],
   "source": [
    "df.select('artist').groupBy('artist').count().orderBy(desc('count')).show()"
   ]
  },
  {
   "cell_type": "markdown",
   "metadata": {},
   "source": [
    "##### Location"
   ]
  },
  {
   "cell_type": "code",
   "execution_count": 16,
   "metadata": {},
   "outputs": [],
   "source": [
    "location_state = udf(lambda x: x.split(',')[-1].strip())\n",
    "df = df.withColumn('locationState', location_state(df.location))"
   ]
  },
  {
   "cell_type": "code",
   "execution_count": 17,
   "metadata": {},
   "outputs": [
    {
     "data": {
      "text/plain": [
       "[Row(locationState='CA', count=33),\n",
       " Row(locationState='TX', count=16),\n",
       " Row(locationState='NY-NJ-PA', count=15),\n",
       " Row(locationState='FL', count=14),\n",
       " Row(locationState='AZ', count=7),\n",
       " Row(locationState='CT', count=7),\n",
       " Row(locationState='NC', count=6),\n",
       " Row(locationState='IL-IN-WI', count=6),\n",
       " Row(locationState='MO-IL', count=6),\n",
       " Row(locationState='NC-SC', count=6),\n",
       " Row(locationState='MI', count=5),\n",
       " Row(locationState='NY', count=5),\n",
       " Row(locationState='PA-NJ-DE-MD', count=5),\n",
       " Row(locationState='MA-NH', count=5),\n",
       " Row(locationState='WA', count=4),\n",
       " Row(locationState='AL', count=4),\n",
       " Row(locationState='DC-VA-MD-WV', count=4),\n",
       " Row(locationState='GA', count=4),\n",
       " Row(locationState='CO', count=4),\n",
       " Row(locationState='MN-WI', count=3),\n",
       " Row(locationState='KY', count=3),\n",
       " Row(locationState='NV', count=3),\n",
       " Row(locationState='IL', count=3),\n",
       " Row(locationState='MS', count=3),\n",
       " Row(locationState='IN', count=3),\n",
       " Row(locationState='OH', count=3),\n",
       " Row(locationState='PA', count=3),\n",
       " Row(locationState='SC', count=2),\n",
       " Row(locationState='GA-AL', count=2),\n",
       " Row(locationState='LA', count=2),\n",
       " Row(locationState='RI-MA', count=2),\n",
       " Row(locationState='NJ', count=2),\n",
       " Row(locationState='VA', count=2),\n",
       " Row(locationState='NH', count=2),\n",
       " Row(locationState='MT', count=2),\n",
       " Row(locationState='MD', count=2),\n",
       " Row(locationState='MO-KS', count=2),\n",
       " Row(locationState='VA-NC', count=2),\n",
       " Row(locationState='OR-WA', count=2),\n",
       " Row(locationState='OH-KY-IN', count=2),\n",
       " Row(locationState='AK', count=2),\n",
       " Row(locationState='UT-ID', count=1),\n",
       " Row(locationState='IL-MO', count=1),\n",
       " Row(locationState='OR', count=1),\n",
       " Row(locationState='PA-NJ', count=1),\n",
       " Row(locationState='SC-NC', count=1),\n",
       " Row(locationState='MD-WV', count=1),\n",
       " Row(locationState='WI', count=1),\n",
       " Row(locationState='NE-IA', count=1),\n",
       " Row(locationState='TN', count=1),\n",
       " Row(locationState='IA', count=1),\n",
       " Row(locationState='KY-IN', count=1),\n",
       " Row(locationState='WV', count=1),\n",
       " Row(locationState='AR', count=1),\n",
       " Row(locationState='TN-MS-AR', count=1),\n",
       " Row(locationState='OK', count=1),\n",
       " Row(locationState='TN-VA', count=1),\n",
       " Row(locationState='UT', count=1)]"
      ]
     },
     "execution_count": 17,
     "metadata": {},
     "output_type": "execute_result"
    }
   ],
   "source": [
    "df.select('userId', 'locationState').dropDuplicates().groupBy('locationState').count().orderBy(desc('count')).collect()"
   ]
  },
  {
   "cell_type": "markdown",
   "metadata": {},
   "source": [
    "##### Define churned user"
   ]
  },
  {
   "cell_type": "code",
   "execution_count": 5,
   "metadata": {},
   "outputs": [
    {
     "data": {
      "text/plain": [
       "Row(artist='Martha Tilston', auth='Logged In', firstName='Colin', gender='M', itemInSession=50, lastName='Freeman', length=277.89016, level='paid', location='Bakersfield, CA', method='PUT', page='NextSong', registration=1538173362000, sessionId=29, song='Rockpools', status=200, ts=1538352117000, userAgent='Mozilla/5.0 (Windows NT 6.1; WOW64; rv:31.0) Gecko/20100101 Firefox/31.0', userId='30', Churn=0)"
      ]
     },
     "execution_count": 5,
     "metadata": {},
     "output_type": "execute_result"
    }
   ],
   "source": [
    "churn_lst = []\n",
    "churn_user = df.select('userId').filter(df.page==\"Cancellation Confirmation\").collect()\n",
    "for i in range(len(churn_user)):\n",
    "    churn_lst.append(churn_user[i][0])\n",
    "churn = udf(lambda x: 1 if x in churn_lst else 0, IntegerType())\n",
    "df = df.withColumn('Churn', churn(df.userId))\n",
    "df.head()"
   ]
  },
  {
   "cell_type": "code",
   "execution_count": 6,
   "metadata": {},
   "outputs": [
    {
     "name": "stdout",
     "output_type": "stream",
     "text": [
      "+-----+-----+\n",
      "|Churn|count|\n",
      "+-----+-----+\n",
      "|    1|   52|\n",
      "|    0|  173|\n",
      "+-----+-----+\n",
      "\n"
     ]
    }
   ],
   "source": [
    "df.select('userId', 'Churn').dropDuplicates().groupBy('Churn').count().show()"
   ]
  },
  {
   "cell_type": "code",
   "execution_count": 7,
   "metadata": {},
   "outputs": [
    {
     "data": {
      "image/png": "[encoded data removed]",
      "text/plain": [
       "<matplotlib.figure.Figure at 0x7f393e5b9400>"
      ]
     },
     "metadata": {
      "needs_background": "light"
     },
     "output_type": "display_data"
    }
   ],
   "source": [
    "churn_pd = df.select('userId', 'Churn').dropDuplicates().groupBy('Churn').count().toPandas()\n",
    "churn_pd.Churn = churn_pd.Churn.apply(lambda x: \"Churned\" if x==1 else \"Stayed\")\n",
    "sns.barplot(x=\"Churn\", y=\"count\", data=churn_pd)\n",
    "plt.title(\"The Churned User Vs Stayed User\", fontsize=15)\n",
    "plt.xlabel(\"Groups\", fontsize=12)\n",
    "plt.ylabel(\"Count\", fontsize=12);"
   ]
  },
  {
   "cell_type": "code",
   "execution_count": 8,
   "metadata": {},
   "outputs": [
    {
     "name": "stdout",
     "output_type": "stream",
     "text": [
      "52 173 225\n"
     ]
    }
   ],
   "source": [
    "churn_number = churn_pd.loc[churn_pd.Churn==\"Churned\", \"count\"][0]\n",
    "stay_number = churn_pd.loc[churn_pd.Churn==\"Stayed\", \"count\"][1]\n",
    "total_user_number = churn_number + stay_number\n",
    "print(churn_number, stay_number, total_user_number)"
   ]
  },
  {
   "cell_type": "markdown",
   "metadata": {},
   "source": [
    "###### Activity of userId 30 (Stayed user)"
   ]
  },
  {
   "cell_type": "code",
   "execution_count": 22,
   "metadata": {},
   "outputs": [
    {
     "data": {
      "text/plain": [
       "[Row(userId='30', firstname='Colin', page='NextSong', song='Rockpools', level='paid', Churn=0),\n",
       " Row(userId='30', firstname='Colin', page='NextSong', song='Time For Miracles', level='paid', Churn=0),\n",
       " Row(userId='30', firstname='Colin', page='NextSong', song='Harder Better Faster Stronger', level='paid', Churn=0),\n",
       " Row(userId='30', firstname='Colin', page='NextSong', song='Passengers (Old Album Version)', level='paid', Churn=0),\n",
       " Row(userId='30', firstname='Colin', page='Add to Playlist', song=None, level='paid', Churn=0),\n",
       " Row(userId='30', firstname='Colin', page='NextSong', song='Fuck Kitty', level='paid', Churn=0),\n",
       " Row(userId='30', firstname='Colin', page='NextSong', song='Jade', level='paid', Churn=0),\n",
       " Row(userId='30', firstname='Colin', page='NextSong', song='So-Called Friends', level='paid', Churn=0),\n",
       " Row(userId='30', firstname='Colin', page='NextSong', song='Represent', level='paid', Churn=0),\n",
       " Row(userId='30', firstname='Colin', page='NextSong', song='Here I Am', level='paid', Churn=0),\n",
       " Row(userId='30', firstname='Colin', page='NextSong', song='Rebirthing (Album Version)', level='paid', Churn=0),\n",
       " Row(userId='30', firstname='Colin', page='NextSong', song='Dog Days Are Over (Radio Edit)', level='paid', Churn=0),\n",
       " Row(userId='30', firstname='Colin', page='NextSong', song='Tomorrow Is A Long Time', level='paid', Churn=0),\n",
       " Row(userId='30', firstname='Colin', page='NextSong', song='Halloween Spooks', level='paid', Churn=0),\n",
       " Row(userId='30', firstname='Colin', page='NextSong', song='Stronger', level='paid', Churn=0),\n",
       " Row(userId='30', firstname='Colin', page='NextSong', song='Dis Iz Brick City', level='paid', Churn=0),\n",
       " Row(userId='30', firstname='Colin', page='NextSong', song='Move Along', level='paid', Churn=0),\n",
       " Row(userId='30', firstname='Colin', page='NextSong', song='Manhattan', level='paid', Churn=0),\n",
       " Row(userId='30', firstname='Colin', page='NextSong', song='Undo', level='paid', Churn=0),\n",
       " Row(userId='30', firstname='Colin', page='NextSong', song='The Big Gundown', level='paid', Churn=0),\n",
       " Row(userId='30', firstname='Colin', page='NextSong', song='Black Bird', level='paid', Churn=0),\n",
       " Row(userId='30', firstname='Colin', page='Thumbs Down', song=None, level='paid', Churn=0),\n",
       " Row(userId='30', firstname='Colin', page='NextSong', song='Nausea', level='paid', Churn=0),\n",
       " Row(userId='30', firstname='Colin', page='NextSong', song='Matricide', level='paid', Churn=0),\n",
       " Row(userId='30', firstname='Colin', page='NextSong', song='Valerie', level='paid', Churn=0),\n",
       " Row(userId='30', firstname='Colin', page='NextSong', song='Margarita', level='paid', Churn=0),\n",
       " Row(userId='30', firstname='Colin', page='NextSong', song=\"Le Jardin d'Hiver\", level='paid', Churn=0),\n",
       " Row(userId='30', firstname='Colin', page='Thumbs Up', song=None, level='paid', Churn=0),\n",
       " Row(userId='30', firstname='Colin', page='NextSong', song='Soon As I Get Home(Album Version)', level='paid', Churn=0),\n",
       " Row(userId='30', firstname='Colin', page='Thumbs Up', song=None, level='paid', Churn=0),\n",
       " Row(userId='30', firstname='Colin', page='NextSong', song='Vamos a la Playa', level='paid', Churn=0),\n",
       " Row(userId='30', firstname='Colin', page='NextSong', song='Perfecta', level='paid', Churn=0),\n",
       " Row(userId='30', firstname='Colin', page='NextSong', song='Requiem', level='paid', Churn=0),\n",
       " Row(userId='30', firstname='Colin', page='NextSong', song='Who Can Compare', level='paid', Churn=0),\n",
       " Row(userId='30', firstname='Colin', page='NextSong', song='240 Years Before Your Time', level='paid', Churn=0),\n",
       " Row(userId='30', firstname='Colin', page='NextSong', song='Rosa Pastel', level='paid', Churn=0),\n",
       " Row(userId='30', firstname='Colin', page='Roll Advert', song=None, level='paid', Churn=0),\n",
       " Row(userId='30', firstname='Colin', page='NextSong', song=\"I'm Ready (Album Version)\", level='paid', Churn=0),\n",
       " Row(userId='30', firstname='Colin', page='NextSong', song='No Other Saviour', level='paid', Churn=0),\n",
       " Row(userId='30', firstname='Colin', page='NextSong', song='Hints', level='paid', Churn=0),\n",
       " Row(userId='30', firstname='Colin', page='NextSong', song='Yellow', level='paid', Churn=0),\n",
       " Row(userId='30', firstname='Colin', page='Add to Playlist', song=None, level='paid', Churn=0),\n",
       " Row(userId='30', firstname='Colin', page='NextSong', song='Kill The Director [Radio Edit]', level='paid', Churn=0),\n",
       " Row(userId='30', firstname='Colin', page='Add Friend', song=None, level='paid', Churn=0),\n",
       " Row(userId='30', firstname='Colin', page='Home', song=None, level='paid', Churn=0),\n",
       " Row(userId='30', firstname='Colin', page='NextSong', song='Third Party', level='paid', Churn=0),\n",
       " Row(userId='30', firstname='Colin', page='NextSong', song=\"It's Working\", level='paid', Churn=0),\n",
       " Row(userId='30', firstname='Colin', page='NextSong', song=\"I'll Remember April (Digitally Remastered 01)\", level='paid', Churn=0),\n",
       " Row(userId='30', firstname='Colin', page='NextSong', song='Atmosphere Station', level='paid', Churn=0),\n",
       " Row(userId='30', firstname='Colin', page='NextSong', song='There_ There', level='paid', Churn=0),\n",
       " Row(userId='30', firstname='Colin', page='NextSong', song=\"'Til We Die (Album Version)\", level='paid', Churn=0),\n",
       " Row(userId='30', firstname='Colin', page='NextSong', song='Lies (Album Version)', level='paid', Churn=0),\n",
       " Row(userId='30', firstname='Colin', page='NextSong', song='The Ballad of Michael Valentine', level='paid', Churn=0),\n",
       " Row(userId='30', firstname='Colin', page='NextSong', song='Gears', level='paid', Churn=0),\n",
       " Row(userId='30', firstname='Colin', page='NextSong', song='These Eyes', level='paid', Churn=0),\n",
       " Row(userId='30', firstname='Colin', page='Help', song=None, level='paid', Churn=0),\n",
       " Row(userId='30', firstname='Colin', page='Home', song=None, level='paid', Churn=0),\n",
       " Row(userId='30', firstname='Colin', page='NextSong', song='Stronger', level='paid', Churn=0),\n",
       " Row(userId='30', firstname='Colin', page='NextSong', song='This Is Such A Pity', level='paid', Churn=0),\n",
       " Row(userId='30', firstname='Colin', page='NextSong', song='Strut (1993 Digital Remaster)', level='paid', Churn=0),\n",
       " Row(userId='30', firstname='Colin', page='NextSong', song='Fader', level='paid', Churn=0),\n",
       " Row(userId='30', firstname='Colin', page='NextSong', song='Se Quiere_ Se Mata', level='paid', Churn=0),\n",
       " Row(userId='30', firstname='Colin', page='NextSong', song='Somewhere', level='paid', Churn=0),\n",
       " Row(userId='30', firstname='Colin', page='NextSong', song='Canada', level='paid', Churn=0),\n",
       " Row(userId='30', firstname='Colin', page='NextSong', song='Dream On Dreamer', level='paid', Churn=0),\n",
       " Row(userId='30', firstname='Colin', page='NextSong', song='HÃ\\x83Â¡ Uma MÃ\\x83Âºsica Do Povo (Live)', level='paid', Churn=0),\n",
       " Row(userId='30', firstname='Colin', page='NextSong', song=\"Money Ain't A Thang\", level='paid', Churn=0),\n",
       " Row(userId='30', firstname='Colin', page='NextSong', song='Howlin\\x19 For You', level='paid', Churn=0),\n",
       " Row(userId='30', firstname='Colin', page='NextSong', song='Fireflies', level='paid', Churn=0),\n",
       " Row(userId='30', firstname='Colin', page='NextSong', song='Stadium Love', level='paid', Churn=0),\n",
       " Row(userId='30', firstname='Colin', page='Downgrade', song=None, level='paid', Churn=0),\n",
       " Row(userId='30', firstname='Colin', page='NextSong', song='Again & Again', level='paid', Churn=0),\n",
       " Row(userId='30', firstname='Colin', page='NextSong', song='The Trooper (1998 Digital Remaster)', level='paid', Churn=0),\n",
       " Row(userId='30', firstname='Colin', page='NextSong', song='Get Off My Elevator', level='paid', Churn=0),\n",
       " Row(userId='30', firstname='Colin', page='NextSong', song='Speed Trials', level='paid', Churn=0),\n",
       " Row(userId='30', firstname='Colin', page='NextSong', song='Invalid', level='paid', Churn=0),\n",
       " Row(userId='30', firstname='Colin', page='NextSong', song='Frenchy\\x19s', level='paid', Churn=0),\n",
       " Row(userId='30', firstname='Colin', page='NextSong', song='Between Two Lungs', level='paid', Churn=0),\n",
       " Row(userId='30', firstname='Colin', page='NextSong', song='Hiding', level='paid', Churn=0),\n",
       " Row(userId='30', firstname='Colin', page='NextSong', song='Alone Again (Naturally)', level='paid', Churn=0),\n",
       " Row(userId='30', firstname='Colin', page='NextSong', song='You Found Me', level='paid', Churn=0),\n",
       " Row(userId='30', firstname='Colin', page='NextSong', song='Our Song', level='paid', Churn=0),\n",
       " Row(userId='30', firstname='Colin', page='NextSong', song='Rock Hard', level='paid', Churn=0),\n",
       " Row(userId='30', firstname='Colin', page='NextSong', song='Waiting For Tonight', level='paid', Churn=0),\n",
       " Row(userId='30', firstname='Colin', page='NextSong', song='Pioneer to The Falls', level='paid', Churn=0),\n",
       " Row(userId='30', firstname='Colin', page='NextSong', song=\"You're The One\", level='paid', Churn=0),\n",
       " Row(userId='30', firstname='Colin', page='NextSong', song='Trash And Ready', level='paid', Churn=0),\n",
       " Row(userId='30', firstname='Colin', page='NextSong', song=\"Keep On Movin'\", level='paid', Churn=0),\n",
       " Row(userId='30', firstname='Colin', page='NextSong', song='Quase Um Segundo', level='paid', Churn=0),\n",
       " Row(userId='30', firstname='Colin', page='NextSong', song='Costumbres Argentinas', level='paid', Churn=0),\n",
       " Row(userId='30', firstname='Colin', page='NextSong', song='Nine Times Out Of Ten (1998 Digital Remaster)', level='paid', Churn=0),\n",
       " Row(userId='30', firstname='Colin', page='NextSong', song='Bass Solo', level='paid', Churn=0),\n",
       " Row(userId='30', firstname='Colin', page='NextSong', song='The Memory Remains', level='paid', Churn=0),\n",
       " Row(userId='30', firstname='Colin', page='NextSong', song='Clock', level='paid', Churn=0),\n",
       " Row(userId='30', firstname='Colin', page='NextSong', song='I Don\\x19t Wanna Go To The Party', level='paid', Churn=0),\n",
       " Row(userId='30', firstname='Colin', page='NextSong', song=\"She's So Cold\", level='paid', Churn=0),\n",
       " Row(userId='30', firstname='Colin', page='NextSong', song='Drops In The River', level='paid', Churn=0),\n",
       " Row(userId='30', firstname='Colin', page='NextSong', song='Didgeridoo', level='paid', Churn=0),\n",
       " Row(userId='30', firstname='Colin', page='NextSong', song='Sex_ Love & Money', level='paid', Churn=0),\n",
       " Row(userId='30', firstname='Colin', page='NextSong', song='Rayando el sol', level='paid', Churn=0),\n",
       " Row(userId='30', firstname='Colin', page='NextSong', song='Lights And Sounds', level='paid', Churn=0),\n",
       " Row(userId='30', firstname='Colin', page='NextSong', song='You Make Me Wanna...', level='paid', Churn=0),\n",
       " Row(userId='30', firstname='Colin', page='NextSong', song=\"When It's Love (Remastered Album Version)\", level='paid', Churn=0),\n",
       " Row(userId='30', firstname='Colin', page='NextSong', song='Red Tide', level='paid', Churn=0),\n",
       " Row(userId='30', firstname='Colin', page='NextSong', song='Man Of Two Minds', level='paid', Churn=0),\n",
       " Row(userId='30', firstname='Colin', page='NextSong', song='Ruled By Secrecy', level='paid', Churn=0),\n",
       " Row(userId='30', firstname='Colin', page='NextSong', song='Untitled #5', level='paid', Churn=0),\n",
       " Row(userId='30', firstname='Colin', page='NextSong', song='Misery Business (Single Version)', level='paid', Churn=0),\n",
       " Row(userId='30', firstname='Colin', page='NextSong', song='Hold My Heart', level='paid', Churn=0),\n",
       " Row(userId='30', firstname='Colin', page='NextSong', song='Risen (Rolling Stone Original)', level='paid', Churn=0),\n",
       " Row(userId='30', firstname='Colin', page='NextSong', song='Sonne', level='paid', Churn=0),\n",
       " Row(userId='30', firstname='Colin', page='Thumbs Up', song=None, level='paid', Churn=0),\n",
       " Row(userId='30', firstname='Colin', page='NextSong', song='Out Of Exile', level='paid', Churn=0),\n",
       " Row(userId='30', firstname='Colin', page='Thumbs Up', song=None, level='paid', Churn=0),\n",
       " Row(userId='30', firstname='Colin', page='NextSong', song='Old Yellow Bricks', level='paid', Churn=0),\n",
       " Row(userId='30', firstname='Colin', page='NextSong', song='GalÃ\\x83Â©rer', level='paid', Churn=0),\n",
       " Row(userId='30', firstname='Colin', page='NextSong', song='Casting A Spell (Remixed) (1998 Digital Remaster)', level='paid', Churn=0),\n",
       " Row(userId='30', firstname='Colin', page='NextSong', song='Operation Uppsala', level='paid', Churn=0),\n",
       " Row(userId='30', firstname='Colin', page='NextSong', song='Detached (Album Version)', level='paid', Churn=0),\n",
       " Row(userId='30', firstname='Colin', page='NextSong', song='Echo Beach (2002 Digital Remaster)', level='paid', Churn=0),\n",
       " Row(userId='30', firstname='Colin', page='NextSong', song='Te Va A Doler', level='paid', Churn=0),\n",
       " Row(userId='30', firstname='Colin', page='NextSong', song='paranoid android', level='paid', Churn=0),\n",
       " Row(userId='30', firstname='Colin', page='Home', song=None, level='paid', Churn=0),\n",
       " Row(userId='30', firstname='Colin', page='NextSong', song='Banned from Heaven', level='paid', Churn=0),\n",
       " Row(userId='30', firstname='Colin', page='NextSong', song='Trashcan', level='paid', Churn=0),\n",
       " Row(userId='30', firstname='Colin', page='NextSong', song='Go Go Gadget Flow (Explicit Album Version)', level='paid', Churn=0),\n",
       " Row(userId='30', firstname='Colin', page='NextSong', song='Home For A Rest', level='paid', Churn=0),\n",
       " Row(userId='30', firstname='Colin', page='NextSong', song=\"When You're Gone\", level='paid', Churn=0),\n",
       " Row(userId='30', firstname='Colin', page='NextSong', song='The Slam (Welcome To Diverse City Album Version)', level='paid', Churn=0),\n",
       " Row(userId='30', firstname='Colin', page='NextSong', song='You Raise Me Up', level='paid', Churn=0),\n",
       " Row(userId='30', firstname='Colin', page='Add to Playlist', song=None, level='paid', Churn=0),\n",
       " Row(userId='30', firstname='Colin', page='NextSong', song='There Is A Light That Never Goes Out', level='paid', Churn=0),\n",
       " Row(userId='30', firstname='Colin', page='NextSong', song='The High Way', level='paid', Churn=0),\n",
       " Row(userId='30', firstname='Colin', page='Thumbs Up', song=None, level='paid', Churn=0),\n",
       " Row(userId='30', firstname='Colin', page='Add to Playlist', song=None, level='paid', Churn=0),\n",
       " Row(userId='30', firstname='Colin', page='NextSong', song=\"The Final Episode (Let's Change The Channel)\", level='paid', Churn=0),\n",
       " Row(userId='30', firstname='Colin', page='NextSong', song='Candy', level='paid', Churn=0),\n",
       " Row(userId='30', firstname='Colin', page='Thumbs Up', song=None, level='paid', Churn=0),\n",
       " Row(userId='30', firstname='Colin', page='Add to Playlist', song=None, level='paid', Churn=0),\n",
       " Row(userId='30', firstname='Colin', page='NextSong', song='re:stacks', level='paid', Churn=0),\n",
       " Row(userId='30', firstname='Colin', page='Add to Playlist', song=None, level='paid', Churn=0),\n",
       " Row(userId='30', firstname='Colin', page='NextSong', song='Converting Vegetarians', level='paid', Churn=0),\n",
       " Row(userId='30', firstname='Colin', page='NextSong', song='Airwar', level='paid', Churn=0),\n",
       " Row(userId='30', firstname='Colin', page='NextSong', song='Unplayed Piano (Chris Lord-Alge Mix)', level='paid', Churn=0),\n",
       " Row(userId='30', firstname='Colin', page='NextSong', song=\"Don't Mean Nothing\", level='paid', Churn=0),\n",
       " Row(userId='30', firstname='Colin', page='NextSong', song='Let Me', level='paid', Churn=0),\n",
       " Row(userId='30', firstname='Colin', page='NextSong', song='Ã\\x82Â¿Por quÃ\\x83Â© te vas?', level='paid', Churn=0),\n",
       " Row(userId='30', firstname='Colin', page='NextSong', song='In My Place', level='paid', Churn=0),\n",
       " Row(userId='30', firstname='Colin', page='NextSong', song='Beautiful', level='paid', Churn=0),\n",
       " Row(userId='30', firstname='Colin', page='Thumbs Up', song=None, level='paid', Churn=0),\n",
       " Row(userId='30', firstname='Colin', page='NextSong', song='Miniature Disasters', level='paid', Churn=0),\n",
       " Row(userId='30', firstname='Colin', page='NextSong', song='Brothers In Arms', level='paid', Churn=0),\n",
       " Row(userId='30', firstname='Colin', page='Home', song=None, level='paid', Churn=0),\n",
       " Row(userId='30', firstname='Colin', page='NextSong', song='Billy Breathes', level='paid', Churn=0),\n",
       " Row(userId='30', firstname='Colin', page='NextSong', song='Revelry', level='paid', Churn=0),\n",
       " Row(userId='30', firstname='Colin', page='NextSong', song='Ignition', level='paid', Churn=0),\n",
       " Row(userId='30', firstname='Colin', page='Add Friend', song=None, level='paid', Churn=0),\n",
       " Row(userId='30', firstname='Colin', page='NextSong', song='Sweet Escape', level='paid', Churn=0),\n",
       " Row(userId='30', firstname='Colin', page='NextSong', song='Disturbia Money', level='paid', Churn=0),\n",
       " Row(userId='30', firstname='Colin', page='NextSong', song='15 Step', level='paid', Churn=0),\n",
       " Row(userId='30', firstname='Colin', page='NextSong', song=\"Surfin' Bird\", level='paid', Churn=0),\n",
       " Row(userId='30', firstname='Colin', page='Thumbs Up', song=None, level='paid', Churn=0),\n",
       " Row(userId='30', firstname='Colin', page='NextSong', song='Strange Machines', level='paid', Churn=0),\n",
       " Row(userId='30', firstname='Colin', page='NextSong', song='DÃ\\x83Â¬', level='paid', Churn=0),\n",
       " Row(userId='30', firstname='Colin', page='NextSong', song='Devotion And Desire', level='paid', Churn=0),\n",
       " Row(userId='30', firstname='Colin', page='NextSong', song='The Fire Still Burns', level='paid', Churn=0),\n",
       " Row(userId='30', firstname='Colin', page='NextSong', song='My Little Brother', level='paid', Churn=0),\n",
       " Row(userId='30', firstname='Colin', page='NextSong', song=\"These Things You Can't Unlearn\", level='paid', Churn=0),\n",
       " Row(userId='30', firstname='Colin', page='NextSong', song='Nobody (Featuring Athena Cage) (LP Version)', level='paid', Churn=0),\n",
       " Row(userId='30', firstname='Colin', page='NextSong', song='Mr. Jones', level='paid', Churn=0),\n",
       " Row(userId='30', firstname='Colin', page='NextSong', song='You Had Me At Hello', level='paid', Churn=0),\n",
       " Row(userId='30', firstname='Colin', page='NextSong', song='Rally', level='paid', Churn=0),\n",
       " Row(userId='30', firstname='Colin', page='NextSong', song=\"Adam's Song\", level='paid', Churn=0),\n",
       " Row(userId='30', firstname='Colin', page='NextSong', song='Too Much', level='paid', Churn=0),\n",
       " Row(userId='30', firstname='Colin', page='NextSong', song=\"I'm On A Boat\", level='paid', Churn=0),\n",
       " Row(userId='30', firstname='Colin', page='NextSong', song='Questo Pazzo Pazzo Mondo Di Tasse', level='paid', Churn=0),\n",
       " Row(userId='30', firstname='Colin', page='NextSong', song='You Are Not Stubborn', level='paid', Churn=0),\n",
       " Row(userId='30', firstname='Colin', page='NextSong', song='P.I.M.P.', level='paid', Churn=0),\n",
       " Row(userId='30', firstname='Colin', page='NextSong', song='Explosive', level='paid', Churn=0),\n",
       " Row(userId='30', firstname='Colin', page='NextSong', song='Conteo', level='paid', Churn=0),\n",
       " Row(userId='30', firstname='Colin', page='NextSong', song='Blue', level='paid', Churn=0),\n",
       " Row(userId='30', firstname='Colin', page='Thumbs Up', song=None, level='paid', Churn=0),\n",
       " Row(userId='30', firstname='Colin', page='NextSong', song='These Days', level='paid', Churn=0),\n",
       " Row(userId='30', firstname='Colin', page='Home', song=None, level='paid', Churn=0),\n",
       " Row(userId='30', firstname='Colin', page='NextSong', song='Twenty-Six Temptations (Album version)', level='paid', Churn=0),\n",
       " Row(userId='30', firstname='Colin', page='NextSong', song='Janglin', level='paid', Churn=0),\n",
       " Row(userId='30', firstname='Colin', page='NextSong', song='I Write Sins Not Tragedies [Live In Chicago]', level='paid', Churn=0),\n",
       " Row(userId='30', firstname='Colin', page='NextSong', song='Wore Out', level='paid', Churn=0),\n",
       " Row(userId='30', firstname='Colin', page='NextSong', song='JOG-O-MOTION PART 1', level='paid', Churn=0),\n",
       " Row(userId='30', firstname='Colin', page='Thumbs Up', song=None, level='paid', Churn=0),\n",
       " Row(userId='30', firstname='Colin', page='NextSong', song='No Remorse', level='paid', Churn=0),\n",
       " Row(userId='30', firstname='Colin', page='NextSong', song='Small', level='paid', Churn=0),\n",
       " Row(userId='30', firstname='Colin', page='NextSong', song='Cover Me', level='paid', Churn=0),\n",
       " Row(userId='30', firstname='Colin', page='NextSong', song='No Air duet with Chris Brown', level='paid', Churn=0),\n",
       " Row(userId='30', firstname='Colin', page='NextSong', song='Between Us And Them', level='paid', Churn=0),\n",
       " Row(userId='30', firstname='Colin', page='NextSong', song='ParaÃ\\x83Â\\xadso', level='paid', Churn=0),\n",
       " Row(userId='30', firstname='Colin', page='NextSong', song='Untitled', level='paid', Churn=0),\n",
       " Row(userId='30', firstname='Colin', page='NextSong', song='Fire With Fire', level='paid', Churn=0),\n",
       " Row(userId='30', firstname='Colin', page='NextSong', song='Rainbow', level='paid', Churn=0),\n",
       " Row(userId='30', firstname='Colin', page='NextSong', song='Dusk Till Dawn', level='paid', Churn=0),\n",
       " Row(userId='30', firstname='Colin', page='NextSong', song='Three Pope (feat. Monty Alexander)', level='paid', Churn=0),\n",
       " Row(userId='30', firstname='Colin', page='NextSong', song='She Hates Me', level='paid', Churn=0),\n",
       " Row(userId='30', firstname='Colin', page='NextSong', song=\"You'll Be In My Heart\", level='paid', Churn=0),\n",
       " Row(userId='30', firstname='Colin', page='NextSong', song='The Bunting Song', level='paid', Churn=0),\n",
       " Row(userId='30', firstname='Colin', page='NextSong', song='Beer', level='paid', Churn=0),\n",
       " Row(userId='30', firstname='Colin', page='NextSong', song='With Or Without You', level='paid', Churn=0),\n",
       " Row(userId='30', firstname='Colin', page='NextSong', song='Going North [Commentary]', level='paid', Churn=0),\n",
       " Row(userId='30', firstname='Colin', page='NextSong', song='Greece 2000', level='paid', Churn=0),\n",
       " Row(userId='30', firstname='Colin', page='NextSong', song='What A Feeling', level='paid', Churn=0),\n",
       " Row(userId='30', firstname='Colin', page='Thumbs Up', song=None, level='paid', Churn=0),\n",
       " Row(userId='30', firstname='Colin', page='NextSong', song='The Legend of Finn MacCumhail (Album Version)', level='paid', Churn=0),\n",
       " Row(userId='30', firstname='Colin', page='NextSong', song='Love Story', level='paid', Churn=0),\n",
       " Row(userId='30', firstname='Colin', page='Add Friend', song=None, level='paid', Churn=0),\n",
       " Row(userId='30', firstname='Colin', page='Add Friend', song=None, level='paid', Churn=0),\n",
       " Row(userId='30', firstname='Colin', page='NextSong', song='Gafas de pasta', level='paid', Churn=0),\n",
       " Row(userId='30', firstname='Colin', page='Add to Playlist', song=None, level='paid', Churn=0),\n",
       " Row(userId='30', firstname='Colin', page='NextSong', song=\"You've Got A Friend (Live Version)\", level='paid', Churn=0),\n",
       " Row(userId='30', firstname='Colin', page='NextSong', song='Diamonds From Sierra Leone', level='paid', Churn=0),\n",
       " Row(userId='30', firstname='Colin', page='NextSong', song='No Use', level='paid', Churn=0),\n",
       " Row(userId='30', firstname='Colin', page='Settings', song=None, level='paid', Churn=0),\n",
       " Row(userId='30', firstname='Colin', page='NextSong', song='Bring Me To Life', level='paid', Churn=0),\n",
       " Row(userId='30', firstname='Colin', page='NextSong', song='Be Like You', level='paid', Churn=0),\n",
       " Row(userId='30', firstname='Colin', page='NextSong', song='U.S. History', level='paid', Churn=0),\n",
       " Row(userId='30', firstname='Colin', page='NextSong', song='La Cocinera', level='paid', Churn=0),\n",
       " Row(userId='30', firstname='Colin', page='Thumbs Up', song=None, level='paid', Churn=0),\n",
       " Row(userId='30', firstname='Colin', page='NextSong', song='All Summer Long', level='paid', Churn=0),\n",
       " Row(userId='30', firstname='Colin', page='NextSong', song=\"D'Evils\", level='paid', Churn=0),\n",
       " Row(userId='30', firstname='Colin', page='NextSong', song='Hard To Concentrate (Album Version)', level='paid', Churn=0),\n",
       " Row(userId='30', firstname='Colin', page='NextSong', song='Bad Omen (24-Bit Digitally Remastered 04) ()', level='paid', Churn=0),\n",
       " Row(userId='30', firstname='Colin', page='NextSong', song='Put Your Hands Up For Detroit', level='paid', Churn=0),\n",
       " Row(userId='30', firstname='Colin', page='NextSong', song='Bad Trails', level='paid', Churn=0),\n",
       " Row(userId='30', firstname='Colin', page='NextSong', song='Bring Me Down', level='paid', Churn=0),\n",
       " Row(userId='30', firstname='Colin', page='NextSong', song='Last Time (Album Version)', level='paid', Churn=0),\n",
       " Row(userId='30', firstname='Colin', page='NextSong', song='Apply Some Pressure', level='paid', Churn=0),\n",
       " Row(userId='30', firstname='Colin', page='NextSong', song='Tailor Made', level='paid', Churn=0),\n",
       " Row(userId='30', firstname='Colin', page='NextSong', song='I Can Tell', level='paid', Churn=0),\n",
       " Row(userId='30', firstname='Colin', page='NextSong', song='Angels We Have Heard On High', level='paid', Churn=0),\n",
       " Row(userId='30', firstname='Colin', page='Add to Playlist', song=None, level='paid', Churn=0),\n",
       " Row(userId='30', firstname='Colin', page='NextSong', song='Catch You Baby (Steve Pitron & Max Sanna Radio Edit)', level='paid', Churn=0),\n",
       " Row(userId='30', firstname='Colin', page='NextSong', song='Picture Perfect', level='paid', Churn=0),\n",
       " Row(userId='30', firstname='Colin', page='Error', song=None, level='paid', Churn=0),\n",
       " Row(userId='30', firstname='Colin', page='NextSong', song='Ours Alone', level='paid', Churn=0),\n",
       " Row(userId='30', firstname='Colin', page='NextSong', song='Master Of Puppets', level='paid', Churn=0),\n",
       " Row(userId='30', firstname='Colin', page='NextSong', song='Costruire', level='paid', Churn=0),\n",
       " Row(userId='30', firstname='Colin', page='NextSong', song='Sparks', level='paid', Churn=0),\n",
       " Row(userId='30', firstname='Colin', page='NextSong', song='Wildlife', level='paid', Churn=0),\n",
       " Row(userId='30', firstname='Colin', page='NextSong', song='Hello', level='paid', Churn=0),\n",
       " Row(userId='30', firstname='Colin', page='NextSong', song='Even If Kills Me (Cd)', level='paid', Churn=0),\n",
       " Row(userId='30', firstname='Colin', page='NextSong', song='Drinking In L.A.', level='paid', Churn=0),\n",
       " Row(userId='30', firstname='Colin', page='NextSong', song='Xehasmeni Melodia', level='paid', Churn=0),\n",
       " Row(userId='30', firstname='Colin', page='NextSong', song=\"You Can't Break A Broken Heart\", level='paid', Churn=0),\n",
       " Row(userId='30', firstname='Colin', page='Downgrade', song=None, level='paid', Churn=0),\n",
       " Row(userId='30', firstname='Colin', page='NextSong', song='Truth In The Age Of Lies (Album Version)', level='paid', Churn=0),\n",
       " Row(userId='30', firstname='Colin', page='NextSong', song='Donde Vamos', level='paid', Churn=0),\n",
       " Row(userId='30', firstname='Colin', page='NextSong', song=\"Lady '95\", level='paid', Churn=0),\n",
       " Row(userId='30', firstname='Colin', page='NextSong', song='Horseshoes and Hand Grenades', level='paid', Churn=0),\n",
       " Row(userId='30', firstname='Colin', page='NextSong', song='Jamaica Roots II(Agora E Sempre)', level='paid', Churn=0),\n",
       " Row(userId='30', firstname='Colin', page='Downgrade', song=None, level='paid', Churn=0),\n",
       " Row(userId='30', firstname='Colin', page='Submit Downgrade', song=None, level='paid', Churn=0),\n",
       " Row(userId='30', firstname='Colin', page='Home', song=None, level='free', Churn=0),\n",
       " Row(userId='30', firstname='Colin', page='NextSong', song='Crimewave (Crystal Castles vs Health)', level='free', Churn=0),\n",
       " Row(userId='30', firstname='Colin', page='NextSong', song='Hey (Album Version)', level='free', Churn=0),\n",
       " Row(userId='30', firstname='Colin', page='NextSong', song='I Believe In Forever', level='free', Churn=0),\n",
       " Row(userId='30', firstname='Colin', page='Add to Playlist', song=None, level='free', Churn=0),\n",
       " Row(userId='30', firstname='Colin', page='NextSong', song=\"Don't Stop The Music\", level='free', Churn=0),\n",
       " Row(userId='30', firstname='Colin', page='NextSong', song='City Of The Dead', level='free', Churn=0),\n",
       " Row(userId='30', firstname='Colin', page='NextSong', song='Too Afraid To Love', level='free', Churn=0),\n",
       " Row(userId='30', firstname='Colin', page='Home', song=None, level='free', Churn=0),\n",
       " Row(userId='30', firstname='Colin', page='NextSong', song='Hasir', level='free', Churn=0),\n",
       " Row(userId='30', firstname='Colin', page='NextSong', song='Bloat On (featuring the Bloaters) (LP Version)', level='free', Churn=0),\n",
       " Row(userId='30', firstname='Colin', page='NextSong', song=\"Frisch und g'sund\", level='free', Churn=0),\n",
       " Row(userId='30', firstname='Colin', page='NextSong', song='Boom Boom', level='free', Churn=0),\n",
       " Row(userId='30', firstname='Colin', page='Thumbs Up', song=None, level='free', Churn=0),\n",
       " Row(userId='30', firstname='Colin', page='NextSong', song='Undo', level='free', Churn=0),\n",
       " Row(userId='30', firstname='Colin', page='Add to Playlist', song=None, level='free', Churn=0),\n",
       " Row(userId='30', firstname='Colin', page='NextSong', song='Hunting For Witches', level='free', Churn=0),\n",
       " Row(userId='30', firstname='Colin', page='NextSong', song='Blindsided', level='free', Churn=0),\n",
       " Row(userId='30', firstname='Colin', page='NextSong', song='Survive', level='free', Churn=0),\n",
       " Row(userId='30', firstname='Colin', page='NextSong', song='Alice', level='free', Churn=0),\n",
       " Row(userId='30', firstname='Colin', page='NextSong', song='Dog Days Are Over (Radio Edit)', level='free', Churn=0),\n",
       " Row(userId='30', firstname='Colin', page='NextSong', song=\"Lovin' You\", level='free', Churn=0),\n",
       " Row(userId='30', firstname='Colin', page='NextSong', song=\"Everybody's Fool (Live in Europe)\", level='free', Churn=0),\n",
       " Row(userId='30', firstname='Colin', page='NextSong', song='Jeune Et Con', level='free', Churn=0),\n",
       " Row(userId='30', firstname='Colin', page='NextSong', song='Somebody (Loves You) (Explicit Album Version)', level='free', Churn=0),\n",
       " Row(userId='30', firstname='Colin', page='NextSong', song='Not Big', level='free', Churn=0),\n",
       " Row(userId='30', firstname='Colin', page='NextSong', song='Paint You', level='free', Churn=0),\n",
       " Row(userId='30', firstname='Colin', page='NextSong', song='Block Of Ice', level='free', Churn=0),\n",
       " Row(userId='30', firstname='Colin', page='Upgrade', song=None, level='free', Churn=0),\n",
       " Row(userId='30', firstname='Colin', page='NextSong', song='Sun It Rises', level='free', Churn=0),\n",
       " Row(userId='30', firstname='Colin', page='Upgrade', song=None, level='free', Churn=0),\n",
       " Row(userId='30', firstname='Colin', page='NextSong', song='Paralyzer', level='free', Churn=0),\n",
       " Row(userId='30', firstname='Colin', page='NextSong', song='Bleed It Out [Live At Milton Keynes]', level='free', Churn=0),\n",
       " Row(userId='30', firstname='Colin', page='Add to Playlist', song=None, level='free', Churn=0),\n",
       " Row(userId='30', firstname='Colin', page='NextSong', song='Ven Conmigo (Solamente TÃ\\x83Âº)', level='free', Churn=0),\n",
       " Row(userId='30', firstname='Colin', page='NextSong', song='Give In', level='free', Churn=0),\n",
       " Row(userId='30', firstname='Colin', page='NextSong', song='Arrepentida', level='free', Churn=0),\n",
       " Row(userId='30', firstname='Colin', page='NextSong', song=\"I Don't Want To Wait (Album Version)\", level='free', Churn=0),\n",
       " Row(userId='30', firstname='Colin', page='NextSong', song='Down To The River To Pray', level='free', Churn=0),\n",
       " Row(userId='30', firstname='Colin', page='NextSong', song='Castles In The Sky', level='free', Churn=0),\n",
       " Row(userId='30', firstname='Colin', page='Thumbs Up', song=None, level='free', Churn=0),\n",
       " Row(userId='30', firstname='Colin', page='NextSong', song='Sitting On Top Of The World', level='free', Churn=0),\n",
       " Row(userId='30', firstname='Colin', page='NextSong', song='The Way Things Go', level='free', Churn=0),\n",
       " Row(userId='30', firstname='Colin', page='NextSong', song='Recruiting Soldiers (2002 Digital Remaster)', level='free', Churn=0),\n",
       " Row(userId='30', firstname='Colin', page='Thumbs Up', song=None, level='free', Churn=0),\n",
       " Row(userId='30', firstname='Colin', page='NextSong', song='Clara meets Slope - Hard To Say', level='free', Churn=0),\n",
       " Row(userId='30', firstname='Colin', page='NextSong', song='Timeless', level='free', Churn=0),\n",
       " Row(userId='30', firstname='Colin', page='NextSong', song=\"Punta D'Alba\", level='free', Churn=0),\n",
       " Row(userId='30', firstname='Colin', page='Roll Advert', song=None, level='free', Churn=0),\n",
       " Row(userId='30', firstname='Colin', page='NextSong', song=\"Ghosts 'n' Stuff (Original Instrumental Mix)\", level='free', Churn=0),\n",
       " Row(userId='30', firstname='Colin', page='NextSong', song=\"I Couldn't Help It If I Tried\", level='free', Churn=0),\n",
       " Row(userId='30', firstname='Colin', page='NextSong', song='The Blood_ The Sweat_ The Tears (Album Version)', level='free', Churn=0),\n",
       " Row(userId='30', firstname='Colin', page='Add to Playlist', song=None, level='free', Churn=0),\n",
       " Row(userId='30', firstname='Colin', page='NextSong', song='She Said', level='free', Churn=0),\n",
       " Row(userId='30', firstname='Colin', page='Home', song=None, level='free', Churn=0),\n",
       " Row(userId='30', firstname='Colin', page='NextSong', song='Undo', level='free', Churn=0),\n",
       " Row(userId='30', firstname='Colin', page='NextSong', song='Bust A Move', level='free', Churn=0),\n",
       " Row(userId='30', firstname='Colin', page='Thumbs Up', song=None, level='free', Churn=0),\n",
       " Row(userId='30', firstname='Colin', page='NextSong', song='Catch You Baby (Steve Pitron & Max Sanna Radio Edit)', level='free', Churn=0),\n",
       " Row(userId='30', firstname='Colin', page='NextSong', song='White Light/White Heat', level='free', Churn=0),\n",
       " Row(userId='30', firstname='Colin', page='NextSong', song='Infinity', level='free', Churn=0),\n",
       " Row(userId='30', firstname='Colin', page='NextSong', song='Bros Sto Rimagmeno Spiti (2003 Digital Remaster)', level='free', Churn=0),\n",
       " Row(userId='30', firstname='Colin', page='Add Friend', song=None, level='free', Churn=0),\n",
       " Row(userId='30', firstname='Colin', page='Add Friend', song=None, level='free', Churn=0),\n",
       " Row(userId='30', firstname='Colin', page='Home', song=None, level='free', Churn=0),\n",
       " Row(userId='30', firstname='Colin', page='NextSong', song='Gear Box', level='free', Churn=0),\n",
       " Row(userId='30', firstname='Colin', page='Roll Advert', song=None, level='free', Churn=0),\n",
       " Row(userId='30', firstname='Colin', page='NextSong', song='In Liverpool', level='free', Churn=0),\n",
       " Row(userId='30', firstname='Colin', page='NextSong', song='Work It Out', level='free', Churn=0),\n",
       " Row(userId='30', firstname='Colin', page='NextSong', song='Timberwolves At New Jersey (Album Version)', level='free', Churn=0),\n",
       " Row(userId='30', firstname='Colin', page='Home', song=None, level='free', Churn=0),\n",
       " Row(userId='30', firstname='Colin', page='NextSong', song='Great Escape', level='free', Churn=0),\n",
       " Row(userId='30', firstname='Colin', page='NextSong', song='Drop The World', level='free', Churn=0),\n",
       " Row(userId='30', firstname='Colin', page='NextSong', song='My Poor Old Heart', level='free', Churn=0),\n",
       " Row(userId='30', firstname='Colin', page='NextSong', song='Hey! (A Lil Gratitude) (Album Version) ()', level='free', Churn=0),\n",
       " Row(userId='30', firstname='Colin', page='Home', song=None, level='free', Churn=0),\n",
       " Row(userId='30', firstname='Colin', page='NextSong', song='Map Of The Problematique', level='free', Churn=0),\n",
       " Row(userId='30', firstname='Colin', page='NextSong', song='Gente Que No', level='free', Churn=0),\n",
       " Row(userId='30', firstname='Colin', page='NextSong', song='Half Of My Heart', level='free', Churn=0),\n",
       " Row(userId='30', firstname='Colin', page='NextSong', song='All My Love', level='free', Churn=0),\n",
       " Row(userId='30', firstname='Colin', page='NextSong', song='Dog Eat Dog', level='free', Churn=0),\n",
       " Row(userId='30', firstname='Colin', page='Home', song=None, level='free', Churn=0),\n",
       " Row(userId='30', firstname='Colin', page='Home', song=None, level='free', Churn=0),\n",
       " Row(userId='30', firstname='Colin', page='Home', song=None, level='free', Churn=0),\n",
       " Row(userId='30', firstname='Colin', page='NextSong', song='The Laws Have Changed', level='free', Churn=0),\n",
       " Row(userId='30', firstname='Colin', page='NextSong', song=\"She's My Baby\", level='free', Churn=0),\n",
       " Row(userId='30', firstname='Colin', page='NextSong', song=\"Don't Give Up On Us\", level='free', Churn=0),\n",
       " Row(userId='30', firstname='Colin', page='NextSong', song=\"What's Left of the Flag\", level='free', Churn=0),\n",
       " Row(userId='30', firstname='Colin', page='NextSong', song='Why Do You Laugh At Me', level='free', Churn=0),\n",
       " Row(userId='30', firstname='Colin', page='NextSong', song='Eskimo - Album Version (not as hidden track)', level='free', Churn=0),\n",
       " Row(userId='30', firstname='Colin', page='Roll Advert', song=None, level='free', Churn=0),\n",
       " Row(userId='30', firstname='Colin', page='NextSong', song='A Beggar On A Beach Of Gold', level='free', Churn=0),\n",
       " Row(userId='30', firstname='Colin', page='Upgrade', song=None, level='free', Churn=0),\n",
       " Row(userId='30', firstname='Colin', page='NextSong', song='Ragoo', level='free', Churn=0),\n",
       " Row(userId='30', firstname='Colin', page='NextSong', song='Unreachable', level='free', Churn=0),\n",
       " Row(userId='30', firstname='Colin', page='NextSong', song='Misunderstood', level='free', Churn=0),\n",
       " Row(userId='30', firstname='Colin', page='NextSong', song='Seize The Day (Album Version)', level='free', Churn=0),\n",
       " Row(userId='30', firstname='Colin', page='NextSong', song='All Over Again (Album Version)', level='free', Churn=0),\n",
       " Row(userId='30', firstname='Colin', page='NextSong', song='Car (Album)', level='free', Churn=0),\n",
       " Row(userId='30', firstname='Colin', page='NextSong', song=\"You're The One\", level='free', Churn=0),\n",
       " Row(userId='30', firstname='Colin', page='NextSong', song='(You Drive Me) Crazy (The Stop Remix!)', level='free', Churn=0),\n",
       " Row(userId='30', firstname='Colin', page='NextSong', song='The Battery', level='free', Churn=0),\n",
       " Row(userId='30', firstname='Colin', page='NextSong', song='Ordinary Man', level='free', Churn=0),\n",
       " Row(userId='30', firstname='Colin', page='NextSong', song=\"I CAN'T GET STARTED\", level='free', Churn=0),\n",
       " Row(userId='30', firstname='Colin', page='Thumbs Up', song=None, level='free', Churn=0),\n",
       " Row(userId='30', firstname='Colin', page='NextSong', song='Corrido Al Torero', level='free', Churn=0),\n",
       " Row(userId='30', firstname='Colin', page='NextSong', song='Dull Life', level='free', Churn=0),\n",
       " Row(userId='30', firstname='Colin', page='NextSong', song='Aht Uh Mi Hed', level='free', Churn=0),\n",
       " Row(userId='30', firstname='Colin', page='Roll Advert', song=None, level='free', Churn=0),\n",
       " Row(userId='30', firstname='Colin', page='Roll Advert', song=None, level='free', Churn=0),\n",
       " Row(userId='30', firstname='Colin', page='NextSong', song='Fisticuffs (LP Version)', level='free', Churn=0),\n",
       " Row(userId='30', firstname='Colin', page='NextSong', song='More Than This', level='free', Churn=0),\n",
       " Row(userId='30', firstname='Colin', page='NextSong', song='Baby I Want You', level='free', Churn=0),\n",
       " Row(userId='30', firstname='Colin', page='NextSong', song='I Miss You', level='free', Churn=0),\n",
       " Row(userId='30', firstname='Colin', page='Roll Advert', song=None, level='free', Churn=0),\n",
       " Row(userId='30', firstname='Colin', page='NextSong', song='Alejate De Mi', level='free', Churn=0),\n",
       " Row(userId='30', firstname='Colin', page='NextSong', song='Crazy Bitch (Album Version)', level='free', Churn=0),\n",
       " Row(userId='30', firstname='Colin', page='NextSong', song='Por segunda vez', level='free', Churn=0),\n",
       " Row(userId='30', firstname='Colin', page='Thumbs Up', song=None, level='free', Churn=0),\n",
       " Row(userId='30', firstname='Colin', page='NextSong', song='Antibodies', level='free', Churn=0),\n",
       " Row(userId='30', firstname='Colin', page='NextSong', song='Toxic Girl', level='free', Churn=0),\n",
       " Row(userId='30', firstname='Colin', page='NextSong', song='Lowlands', level='free', Churn=0),\n",
       " Row(userId='30', firstname='Colin', page='NextSong', song='Even Deeper', level='free', Churn=0),\n",
       " Row(userId='30', firstname='Colin', page='Roll Advert', song=None, level='free', Churn=0),\n",
       " Row(userId='30', firstname='Colin', page='NextSong', song='I Second That Emotion', level='free', Churn=0),\n",
       " Row(userId='30', firstname='Colin', page='NextSong', song='Scatman (Ski-Ba-Bop-Ba-Dop-Bop)', level='free', Churn=0),\n",
       " Row(userId='30', firstname='Colin', page='NextSong', song='Countdown', level='free', Churn=0),\n",
       " Row(userId='30', firstname='Colin', page='NextSong', song='Forever', level='free', Churn=0),\n",
       " Row(userId='30', firstname='Colin', page='NextSong', song='Bootzilla', level='free', Churn=0),\n",
       " Row(userId='30', firstname='Colin', page='Thumbs Up', song=None, level='free', Churn=0),\n",
       " Row(userId='30', firstname='Colin', page='NextSong', song=\"I'd Rather Fuck You (Explicit) (Feat. Eazy-E)\", level='free', Churn=0),\n",
       " Row(userId='30', firstname='Colin', page='NextSong', song='New Generation', level='free', Churn=0),\n",
       " Row(userId='30', firstname='Colin', page='NextSong', song='Follow You', level='free', Churn=0),\n",
       " Row(userId='30', firstname='Colin', page='NextSong', song='Shine On (Album Version)', level='free', Churn=0),\n",
       " Row(userId='30', firstname='Colin', page='NextSong', song='Venice Queen (Album Version)', level='free', Churn=0),\n",
       " Row(userId='30', firstname='Colin', page='NextSong', song='Tear You Apart', level='free', Churn=0),\n",
       " Row(userId='30', firstname='Colin', page='NextSong', song='Horn Concerto No. 4 in E flat K495: II. Romance (Andante cantabile)', level='free', Churn=0),\n",
       " Row(userId='30', firstname='Colin', page='Thumbs Up', song=None, level='free', Churn=0),\n",
       " Row(userId='30', firstname='Colin', page='NextSong', song='Over Now', level='free', Churn=0),\n",
       " Row(userId='30', firstname='Colin', page='Upgrade', song=None, level='free', Churn=0),\n",
       " Row(userId='30', firstname='Colin', page='NextSong', song='Superbeast', level='free', Churn=0),\n",
       " Row(userId='30', firstname='Colin', page='Logout', song=None, level='free', Churn=0),\n",
       " Row(userId='30', firstname='Colin', page='Home', song=None, level='free', Churn=0),\n",
       " Row(userId='30', firstname='Colin', page='NextSong', song='Broke Up The Time', level='free', Churn=0),\n",
       " Row(userId='30', firstname='Colin', page='Add to Playlist', song=None, level='free', Churn=0),\n",
       " Row(userId='30', firstname='Colin', page='NextSong', song='Roll Over Beethoven', level='free', Churn=0),\n",
       " Row(userId='30', firstname='Colin', page='NextSong', song='Way Back Home', level='free', Churn=0),\n",
       " Row(userId='30', firstname='Colin', page='NextSong', song='Back To Life (Album Version)', level='free', Churn=0),\n",
       " Row(userId='30', firstname='Colin', page='NextSong', song='Strut (1993 Digital Remaster)', level='free', Churn=0),\n",
       " Row(userId='30', firstname='Colin', page='NextSong', song='Super Inuit (Studio) [Bonus Track]', level='free', Churn=0),\n",
       " Row(userId='30', firstname='Colin', page='NextSong', song='16 Candles', level='free', Churn=0),\n",
       " Row(userId='30', firstname='Colin', page='NextSong', song='The Outlaw', level='free', Churn=0),\n",
       " Row(userId='30', firstname='Colin', page='NextSong', song='Geek In The Pink [Phil Tan Remix]', level='free', Churn=0),\n",
       " Row(userId='30', firstname='Colin', page='NextSong', song='The Chosen Legacy', level='free', Churn=0),\n",
       " Row(userId='30', firstname='Colin', page='NextSong', song=\"Don't You Run With Him\", level='free', Churn=0),\n",
       " Row(userId='30', firstname='Colin', page='Roll Advert', song=None, level='free', Churn=0),\n",
       " Row(userId='30', firstname='Colin', page='NextSong', song='Brianstorm', level='free', Churn=0),\n",
       " Row(userId='30', firstname='Colin', page='NextSong', song='To Zion', level='free', Churn=0),\n",
       " Row(userId='30', firstname='Colin', page='Home', song=None, level='free', Churn=0),\n",
       " Row(userId='30', firstname='Colin', page='NextSong', song='Lucy (Album Version)', level='free', Churn=0),\n",
       " Row(userId='30', firstname='Colin', page='NextSong', song='What Goes Around...Comes Around', level='free', Churn=0),\n",
       " Row(userId='30', firstname='Colin', page='NextSong', song='Bang On The Drum', level='free', Churn=0),\n",
       " Row(userId='30', firstname='Colin', page='NextSong', song='Bill Sykes', level='free', Churn=0),\n",
       " Row(userId='30', firstname='Colin', page='NextSong', song='Rhyme & Reason', level='free', Churn=0),\n",
       " Row(userId='30', firstname='Colin', page='NextSong', song='Schifrin and Variations', level='free', Churn=0),\n",
       " Row(userId='30', firstname='Colin', page='Thumbs Up', song=None, level='free', Churn=0),\n",
       " Row(userId='30', firstname='Colin', page='NextSong', song='Teach Me How To Dougie', level='free', Churn=0),\n",
       " Row(userId='30', firstname='Colin', page='NextSong', song='We Deal In Dreams', level='free', Churn=0),\n",
       " Row(userId='30', firstname='Colin', page='NextSong', song='Undo', level='free', Churn=0),\n",
       " Row(userId='30', firstname='Colin', page='NextSong', song='Pushing Me Away (Album Version)', level='free', Churn=0),\n",
       " Row(userId='30', firstname='Colin', page='Roll Advert', song=None, level='free', Churn=0),\n",
       " Row(userId='30', firstname='Colin', page='Logout', song=None, level='free', Churn=0),\n",
       " Row(userId='30', firstname='Colin', page='Home', song=None, level='free', Churn=0),\n",
       " Row(userId='30', firstname='Colin', page='NextSong', song='Trouble Dub - FAMS Mix', level='free', Churn=0),\n",
       " Row(userId='30', firstname='Colin', page='NextSong', song='Electric Avenue', level='free', Churn=0),\n",
       " Row(userId='30', firstname='Colin', page='NextSong', song=\"If I Ain't Got You\", level='free', Churn=0),\n",
       " Row(userId='30', firstname='Colin', page='Roll Advert', song=None, level='free', Churn=0),\n",
       " Row(userId='30', firstname='Colin', page='Roll Advert', song=None, level='free', Churn=0),\n",
       " Row(userId='30', firstname='Colin', page='NextSong', song='Dream', level='free', Churn=0),\n",
       " Row(userId='30', firstname='Colin', page='NextSong', song='Pak Dit Grej (1998 Digital Remaster)', level='free', Churn=0),\n",
       " Row(userId='30', firstname='Colin', page='NextSong', song='My Moon My Man', level='free', Churn=0),\n",
       " Row(userId='30', firstname='Colin', page='Thumbs Up', song=None, level='free', Churn=0),\n",
       " Row(userId='30', firstname='Colin', page='NextSong', song='Constellations', level='free', Churn=0),\n",
       " Row(userId='30', firstname='Colin', page='NextSong', song='Kiss (LP Version)', level='free', Churn=0),\n",
       " Row(userId='30', firstname='Colin', page='NextSong', song='Ven AquÃ\\x83Â\\xad', level='free', Churn=0),\n",
       " Row(userId='30', firstname='Colin', page='NextSong', song='Christmas Journey', level='free', Churn=0),\n",
       " Row(userId='30', firstname='Colin', page='NextSong', song='Little Fighter', level='free', Churn=0),\n",
       " Row(userId='30', firstname='Colin', page='NextSong', song='Always Coming Back Home To You', level='free', Churn=0),\n",
       " Row(userId='30', firstname='Colin', page='NextSong', song='Alarm!', level='free', Churn=0),\n",
       " Row(userId='30', firstname='Colin', page='NextSong', song='Run', level='free', Churn=0),\n",
       " Row(userId='30', firstname='Colin', page='NextSong', song='Do You Dream', level='free', Churn=0),\n",
       " Row(userId='30', firstname='Colin', page='NextSong', song='The Only Exception (Album Version)', level='free', Churn=0),\n",
       " Row(userId='30', firstname='Colin', page='Roll Advert', song=None, level='free', Churn=0),\n",
       " Row(userId='30', firstname='Colin', page='NextSong', song='Spiderwebs', level='free', Churn=0),\n",
       " Row(userId='30', firstname='Colin', page='NextSong', song=\"Please Don't Go\", level='free', Churn=0),\n",
       " Row(userId='30', firstname='Colin', page='Add to Playlist', song=None, level='free', Churn=0),\n",
       " Row(userId='30', firstname='Colin', page='NextSong', song='Pursuit Of Happiness (nightmare)', level='free', Churn=0),\n",
       " Row(userId='30', firstname='Colin', page='NextSong', song=\"Breakin' Dishes\", level='free', Churn=0),\n",
       " Row(userId='30', firstname='Colin', page='NextSong', song='Hall of Fame', level='free', Churn=0),\n",
       " Row(userId='30', firstname='Colin', page='NextSong', song='Brothers', level='free', Churn=0),\n",
       " Row(userId='30', firstname='Colin', page='NextSong', song='Hide & Seek', level='free', Churn=0),\n",
       " Row(userId='30', firstname='Colin', page='Add to Playlist', song=None, level='free', Churn=0),\n",
       " Row(userId='30', firstname='Colin', page='NextSong', song=\"It's No Good (Single Version)\", level='free', Churn=0),\n",
       " Row(userId='30', firstname='Colin', page='NextSong', song='Here We Are (Family In The Hallways)', level='free', Churn=0),\n",
       " Row(userId='30', firstname='Colin', page='NextSong', song='Love Is Blue', level='free', Churn=0),\n",
       " Row(userId='30', firstname='Colin', page='Thumbs Up', song=None, level='free', Churn=0),\n",
       " Row(userId='30', firstname='Colin', page='NextSong', song='Wounded', level='free', Churn=0),\n",
       " Row(userId='30', firstname='Colin', page='NextSong', song='Selling The Drama', level='free', Churn=0),\n",
       " Row(userId='30', firstname='Colin', page='NextSong', song='My Michelle', level='free', Churn=0),\n",
       " Row(userId='30', firstname='Colin', page='Logout', song=None, level='free', Churn=0),\n",
       " Row(userId='30', firstname='Colin', page='Home', song=None, level='free', Churn=0),\n",
       " Row(userId='30', firstname='Colin', page='NextSong', song='Superstition', level='free', Churn=0),\n",
       " Row(userId='30', firstname='Colin', page='NextSong', song='The Scientist', level='free', Churn=0),\n",
       " Row(userId='30', firstname='Colin', page='Help', song=None, level='free', Churn=0),\n",
       " Row(userId='30', firstname='Colin', page='NextSong', song='Make Love To Your Mind', level='free', Churn=0),\n",
       " Row(userId='30', firstname='Colin', page='NextSong', song='Art is Hard', level='free', Churn=0),\n",
       " Row(userId='30', firstname='Colin', page='Home', song=None, level='free', Churn=0),\n",
       " Row(userId='30', firstname='Colin', page='Add Friend', song=None, level='free', Churn=0),\n",
       " Row(userId='30', firstname='Colin', page='Settings', song=None, level='free', Churn=0),\n",
       " Row(userId='30', firstname='Colin', page='Home', song=None, level='free', Churn=0),\n",
       " Row(userId='30', firstname='Colin', page='Logout', song=None, level='free', Churn=0),\n",
       " Row(userId='30', firstname='Colin', page='Home', song=None, level='free', Churn=0),\n",
       " Row(userId='30', firstname='Colin', page='NextSong', song='Silent Running', level='free', Churn=0),\n",
       " Row(userId='30', firstname='Colin', page='NextSong', song='The Unforgiven II', level='free', Churn=0),\n",
       " Row(userId='30', firstname='Colin', page='NextSong', song=\"Valjean's Soliloquy\", level='free', Churn=0),\n",
       " Row(userId='30', firstname='Colin', page='NextSong', song='Tonight', level='free', Churn=0),\n",
       " Row(userId='30', firstname='Colin', page='NextSong', song='Playing To Win (24-Bit Digitally Remastered 02)', level='free', Churn=0),\n",
       " Row(userId='30', firstname='Colin', page='NextSong', song='El nazareno', level='free', Churn=0),\n",
       " Row(userId='30', firstname='Colin', page='NextSong', song='Your Song', level='free', Churn=0),\n",
       " Row(userId='30', firstname='Colin', page='NextSong', song='Thunderbird', level='free', Churn=0),\n",
       " Row(userId='30', firstname='Colin', page='NextSong', song='Rayando el sol', level='free', Churn=0),\n",
       " Row(userId='30', firstname='Colin', page='NextSong', song='Mama Your Boys Will Find A Home', level='free', Churn=0),\n",
       " Row(userId='30', firstname='Colin', page='NextSong', song='Absolution: Of Flight and Failure', level='free', Churn=0),\n",
       " Row(userId='30', firstname='Colin', page='NextSong', song='The Bones Of You', level='free', Churn=0),\n",
       " Row(userId='30', firstname='Colin', page='NextSong', song='Kickstarts', level='free', Churn=0),\n",
       " Row(userId='30', firstname='Colin', page='NextSong', song='Mrs. Robinson (LP Version)', level='free', Churn=0),\n",
       " Row(userId='30', firstname='Colin', page='Add to Playlist', song=None, level='free', Churn=0),\n",
       " Row(userId='30', firstname='Colin', page='NextSong', song='Rain Is A Good Thing', level='free', Churn=0),\n",
       " Row(userId='30', firstname='Colin', page='NextSong', song='Barco a Venus', level='free', Churn=0),\n",
       " Row(userId='30', firstname='Colin', page='NextSong', song='Planet Caravan (Remastered LP Version)', level='free', Churn=0),\n",
       " Row(userId='30', firstname='Colin', page='NextSong', song='I Melt With You', level='free', Churn=0),\n",
       " Row(userId='30', firstname='Colin', page='NextSong', song='Failures Burden', level='free', Churn=0),\n",
       " Row(userId='30', firstname='Colin', page='Roll Advert', song=None, level='free', Churn=0),\n",
       " Row(userId='30', firstname='Colin', page='NextSong', song='I Get It', level='free', Churn=0),\n",
       " Row(userId='30', firstname='Colin', page='NextSong', song='Lie To Me', level='free', Churn=0),\n",
       " Row(userId='30', firstname='Colin', page='Add to Playlist', song=None, level='free', Churn=0),\n",
       " Row(userId='30', firstname='Colin', page='NextSong', song=\"Sonny's Dream\", level='free', Churn=0),\n",
       " Row(userId='30', firstname='Colin', page='Roll Advert', song=None, level='free', Churn=0),\n",
       " Row(userId='30', firstname='Colin', page='NextSong', song='Mandy', level='free', Churn=0),\n",
       " Row(userId='30', firstname='Colin', page='Thumbs Down', song=None, level='free', Churn=0),\n",
       " Row(userId='30', firstname='Colin', page='NextSong', song='Still', level='free', Churn=0),\n",
       " Row(userId='30', firstname='Colin', page='Roll Advert', song=None, level='free', Churn=0),\n",
       " Row(userId='30', firstname='Colin', page='NextSong', song='Future Says Run', level='free', Churn=0),\n",
       " Row(userId='30', firstname='Colin', page='NextSong', song='Not So Usual (Eagles Ballroom Live Version)', level='free', Churn=0),\n",
       " Row(userId='30', firstname='Colin', page='NextSong', song='Troublemaker', level='free', Churn=0),\n",
       " Row(userId='30', firstname='Colin', page='Thumbs Up', song=None, level='free', Churn=0),\n",
       " Row(userId='30', firstname='Colin', page='NextSong', song=\"Our Lawyer Made Us Change The Name Of This Song So We Wouldn't Get Sued\", level='free', Churn=0),\n",
       " Row(userId='30', firstname='Colin', page='NextSong', song='The Vanishing', level='free', Churn=0),\n",
       " Row(userId='30', firstname='Colin', page='Home', song=None, level='free', Churn=0),\n",
       " Row(userId='30', firstname='Colin', page='NextSong', song='Forget Me', level='free', Churn=0),\n",
       " Row(userId='30', firstname='Colin', page='NextSong', song='Wayfaring Stranger', level='free', Churn=0),\n",
       " Row(userId='30', firstname='Colin', page='NextSong', song='The Runner', level='free', Churn=0),\n",
       " Row(userId='30', firstname='Colin', page='NextSong', song='Harder To Breathe', level='free', Churn=0),\n",
       " Row(userId='30', firstname='Colin', page='Thumbs Up', song=None, level='free', Churn=0),\n",
       " Row(userId='30', firstname='Colin', page='NextSong', song='Rain', level='free', Churn=0),\n",
       " Row(userId='30', firstname='Colin', page='NextSong', song='Bon Voyage', level='free', Churn=0),\n",
       " Row(userId='30', firstname='Colin', page='NextSong', song='Calm Down Dearest (Explicit)', level='free', Churn=0),\n",
       " Row(userId='30', firstname='Colin', page='NextSong', song=\"What's Left of the Flag\", level='free', Churn=0),\n",
       " Row(userId='30', firstname='Colin', page='NextSong', song='Enigma (Album Version)', level='free', Churn=0),\n",
       " Row(userId='30', firstname='Colin', page='NextSong', song='Lay Me Down', level='free', Churn=0),\n",
       " Row(userId='30', firstname='Colin', page='NextSong', song='I Repeat', level='free', Churn=0),\n",
       " Row(userId='30', firstname='Colin', page='NextSong', song='Catch You Baby (Steve Pitron & Max Sanna Radio Edit)', level='free', Churn=0),\n",
       " Row(userId='30', firstname='Colin', page='NextSong', song='Burgalveist', level='free', Churn=0),\n",
       " Row(userId='30', firstname='Colin', page='NextSong', song=\"It's Time I Go (Jazz)\", level='free', Churn=0),\n",
       " Row(userId='30', firstname='Colin', page='NextSong', song='COLORADOSUNRISE (Explicit Album Version)', level='free', Churn=0),\n",
       " Row(userId='30', firstname='Colin', page='NextSong', song='Deseret', level='free', Churn=0),\n",
       " Row(userId='30', firstname='Colin', page='NextSong', song='Pink', level='free', Churn=0),\n",
       " Row(userId='30', firstname='Colin', page='Settings', song=None, level='free', Churn=0),\n",
       " Row(userId='30', firstname='Colin', page='NextSong', song='Ras Trent', level='free', Churn=0),\n",
       " Row(userId='30', firstname='Colin', page='Roll Advert', song=None, level='free', Churn=0),\n",
       " Row(userId='30', firstname='Colin', page='NextSong', song=\"Help I'm Alive\", level='free', Churn=0),\n",
       " Row(userId='30', firstname='Colin', page='NextSong', song=\"Prodigal Son (Harvey's A Star In Your Own Mind Mix)\", level='free', Churn=0),\n",
       " Row(userId='30', firstname='Colin', page='NextSong', song='Rhinestone Eyes', level='free', Churn=0),\n",
       " Row(userId='30', firstname='Colin', page='Add Friend', song=None, level='free', Churn=0),\n",
       " Row(userId='30', firstname='Colin', page='NextSong', song=\"When It's Over (Remastered Album Version)\", level='free', Churn=0),\n",
       " Row(userId='30', firstname='Colin', page='NextSong', song='Punch Drunk Love', level='free', Churn=0),\n",
       " Row(userId='30', firstname='Colin', page='NextSong', song=\"She's Got The Time\", level='free', Churn=0),\n",
       " Row(userId='30', firstname='Colin', page='NextSong', song='The Strength To Go On', level='free', Churn=0),\n",
       " Row(userId='30', firstname='Colin', page='NextSong', song='The Stakes Are High', level='free', Churn=0),\n",
       " Row(userId='30', firstname='Colin', page='NextSong', song=\"Hustler's Prayer\", level='free', Churn=0),\n",
       " Row(userId='30', firstname='Colin', page='NextSong', song='Fleur blanche', level='free', Churn=0),\n",
       " Row(userId='30', firstname='Colin', page='Thumbs Down', song=None, level='free', Churn=0),\n",
       " Row(userId='30', firstname='Colin', page='NextSong', song='Live And Let Die', level='free', Churn=0),\n",
       " Row(userId='30', firstname='Colin', page='NextSong', song='Fast As I Can', level='free', Churn=0),\n",
       " Row(userId='30', firstname='Colin', page='NextSong', song='One In A Million', level='free', Churn=0),\n",
       " Row(userId='30', firstname='Colin', page='NextSong', song='Book Of Brilliant Things (2002 Digital Remaster)', level='free', Churn=0),\n",
       " Row(userId='30', firstname='Colin', page='NextSong', song='Glad All Over', level='free', Churn=0),\n",
       " Row(userId='30', firstname='Colin', page='NextSong', song='Arma dispuesta', level='free', Churn=0),\n",
       " Row(userId='30', firstname='Colin', page='NextSong', song='Heavyweight', level='free', Churn=0),\n",
       " Row(userId='30', firstname='Colin', page='Roll Advert', song=None, level='free', Churn=0),\n",
       " Row(userId='30', firstname='Colin', page='NextSong', song='Deeply Disturbed', level='free', Churn=0),\n",
       " Row(userId='30', firstname='Colin', page='NextSong', song='Signifying', level='free', Churn=0),\n",
       " Row(userId='30', firstname='Colin', page='NextSong', song='Boy From School (Hot Chip Re-Work)', level='free', Churn=0),\n",
       " Row(userId='30', firstname='Colin', page='Roll Advert', song=None, level='free', Churn=0),\n",
       " Row(userId='30', firstname='Colin', page='NextSong', song='Sehr kosmisch', level='free', Churn=0),\n",
       " Row(userId='30', firstname='Colin', page='NextSong', song='Clocks', level='free', Churn=0),\n",
       " Row(userId='30', firstname='Colin', page='Roll Advert', song=None, level='free', Churn=0),\n",
       " Row(userId='30', firstname='Colin', page='NextSong', song='Shut Up & Kiss Me', level='free', Churn=0),\n",
       " Row(userId='30', firstname='Colin', page='NextSong', song='Use Somebody', level='free', Churn=0),\n",
       " Row(userId='30', firstname='Colin', page='NextSong', song='Sparkover', level='free', Churn=0),\n",
       " Row(userId='30', firstname='Colin', page='NextSong', song='Do You Feel Their Pain?', level='free', Churn=0),\n",
       " Row(userId='30', firstname='Colin', page='NextSong', song='Back Against The Wall', level='free', Churn=0),\n",
       " Row(userId='30', firstname='Colin', page='Home', song=None, level='free', Churn=0),\n",
       " Row(userId='30', firstname='Colin', page='NextSong', song='Lonely', level='free', Churn=0),\n",
       " Row(userId='30', firstname='Colin', page='Roll Advert', song=None, level='free', Churn=0),\n",
       " Row(userId='30', firstname='Colin', page='NextSong', song='It Was A Good Day', level='free', Churn=0),\n",
       " Row(userId='30', firstname='Colin', page='NextSong', song='Bliss', level='free', Churn=0),\n",
       " Row(userId='30', firstname='Colin', page='NextSong', song='Marry Me', level='free', Churn=0),\n",
       " Row(userId='30', firstname='Colin', page='Add to Playlist', song=None, level='free', Churn=0),\n",
       " Row(userId='30', firstname='Colin', page='NextSong', song='Paint The Town Red', level='free', Churn=0),\n",
       " Row(userId='30', firstname='Colin', page='NextSong', song='Butterfly', level='free', Churn=0),\n",
       " Row(userId='30', firstname='Colin', page='NextSong', song='The Breaking of the Dawn (LP Version)', level='free', Churn=0),\n",
       " Row(userId='30', firstname='Colin', page='NextSong', song='Prenzlauerberg', level='free', Churn=0),\n",
       " Row(userId='30', firstname='Colin', page='NextSong', song='Not Fair (Clean Radio Edit)', level='free', Churn=0),\n",
       " Row(userId='30', firstname='Colin', page='Logout', song=None, level='free', Churn=0),\n",
       " Row(userId='30', firstname='Colin', page='Home', song=None, level='free', Churn=0),\n",
       " Row(userId='30', firstname='Colin', page='NextSong', song='Ribbons', level='free', Churn=0),\n",
       " Row(userId='30', firstname='Colin', page='NextSong', song='Please Forgive Me', level='free', Churn=0),\n",
       " Row(userId='30', firstname='Colin', page='NextSong', song='Kiss With A Fist', level='free', Churn=0),\n",
       " Row(userId='30', firstname='Colin', page='NextSong', song='Surf Wax America', level='free', Churn=0),\n",
       " Row(userId='30', firstname='Colin', page='NextSong', song='Smooth Sailing Remix', level='free', Churn=0),\n",
       " Row(userId='30', firstname='Colin', page='Settings', song=None, level='free', Churn=0),\n",
       " Row(userId='30', firstname='Colin', page='NextSong', song='Hey Baby', level='free', Churn=0),\n",
       " Row(userId='30', firstname='Colin', page='NextSong', song='Pump It', level='free', Churn=0),\n",
       " Row(userId='30', firstname='Colin', page='Roll Advert', song=None, level='free', Churn=0),\n",
       " Row(userId='30', firstname='Colin', page='NextSong', song='Superballs', level='free', Churn=0),\n",
       " Row(userId='30', firstname='Colin', page='NextSong', song='Away From Me', level='free', Churn=0),\n",
       " Row(userId='30', firstname='Colin', page='NextSong', song='The shooting company of Captain Frans B.Cocq', level='free', Churn=0),\n",
       " Row(userId='30', firstname='Colin', page='NextSong', song='Just', level='free', Churn=0),\n",
       " Row(userId='30', firstname='Colin', page='NextSong', song='Le Soir', level='free', Churn=0),\n",
       " Row(userId='30', firstname='Colin', page='Settings', song=None, level='free', Churn=0),\n",
       " Row(userId='30', firstname='Colin', page='NextSong', song='Thursday', level='free', Churn=0),\n",
       " Row(userId='30', firstname='Colin', page='NextSong', song='Waiting For 22', level='free', Churn=0),\n",
       " Row(userId='30', firstname='Colin', page='NextSong', song='C-Town', level='free', Churn=0),\n",
       " Row(userId='30', firstname='Colin', page='NextSong', song='Never Again', level='free', Churn=0),\n",
       " Row(userId='30', firstname='Colin', page='NextSong', song='I Love You', level='free', Churn=0),\n",
       " Row(userId='30', firstname='Colin', page='NextSong', song='Appointment With Death', level='free', Churn=0),\n",
       " Row(userId='30', firstname='Colin', page='NextSong', song='Even The Streets', level='free', Churn=0),\n",
       " Row(userId='30', firstname='Colin', page='NextSong', song='Opis Helpus', level='free', Churn=0),\n",
       " Row(userId='30', firstname='Colin', page='NextSong', song='Sehr kosmisch', level='free', Churn=0),\n",
       " Row(userId='30', firstname='Colin', page='Roll Advert', song=None, level='free', Churn=0),\n",
       " Row(userId='30', firstname='Colin', page='NextSong', song='Nueve Y Quince (9:15)', level='free', Churn=0),\n",
       " Row(userId='30', firstname='Colin', page='NextSong', song='Invocation: Attica Blues', level='free', Churn=0),\n",
       " Row(userId='30', firstname='Colin', page='NextSong', song='Birds', level='free', Churn=0),\n",
       " Row(userId='30', firstname='Colin', page='NextSong', song='Picture', level='free', Churn=0),\n",
       " Row(userId='30', firstname='Colin', page='Thumbs Up', song=None, level='free', Churn=0),\n",
       " Row(userId='30', firstname='Colin', page='Add to Playlist', song=None, level='free', Churn=0),\n",
       " Row(userId='30', firstname='Colin', page='NextSong', song='Half Of My Heart', level='free', Churn=0),\n",
       " Row(userId='30', firstname='Colin', page='NextSong', song='Catch You Baby (Steve Pitron & Max Sanna Radio Edit)', level='free', Churn=0),\n",
       " Row(userId='30', firstname='Colin', page='NextSong', song='Gan Haedden (Edden)', level='free', Churn=0),\n",
       " Row(userId='30', firstname='Colin', page='NextSong', song='Collide', level='free', Churn=0),\n",
       " Row(userId='30', firstname='Colin', page='NextSong', song='Tan Solo (En Vivo)', level='free', Churn=0),\n",
       " Row(userId='30', firstname='Colin', page='Logout', song=None, level='free', Churn=0),\n",
       " Row(userId='30', firstname='Colin', page='Home', song=None, level='free', Churn=0),\n",
       " Row(userId='30', firstname='Colin', page='NextSong', song=\"Everything's Gonna Be Alright\", level='free', Churn=0),\n",
       " Row(userId='30', firstname='Colin', page='NextSong', song='The Happy Song', level='free', Churn=0),\n",
       " Row(userId='30', firstname='Colin', page='NextSong', song='My Axe', level='free', Churn=0),\n",
       " Row(userId='30', firstname='Colin', page='NextSong', song='Home Is Where (Scavenged Luxury EP)', level='free', Churn=0),\n",
       " Row(userId='30', firstname='Colin', page='NextSong', song='The Scientist', level='free', Churn=0),\n",
       " Row(userId='30', firstname='Colin', page='Roll Advert', song=None, level='free', Churn=0),\n",
       " Row(userId='30', firstname='Colin', page='NextSong', song='Deny Selected', level='free', Churn=0),\n",
       " Row(userId='30', firstname='Colin', page='Roll Advert', song=None, level='free', Churn=0),\n",
       " Row(userId='30', firstname='Colin', page='NextSong', song='Late Nights', level='free', Churn=0),\n",
       " Row(userId='30', firstname='Colin', page='NextSong', song='The Scientist', level='free', Churn=0),\n",
       " Row(userId='30', firstname='Colin', page='NextSong', song='10%', level='free', Churn=0),\n",
       " Row(userId='30', firstname='Colin', page='NextSong', song='Beds Are Burning', level='free', Churn=0),\n",
       " Row(userId='30', firstname='Colin', page='NextSong', song='Relax', level='free', Churn=0),\n",
       " Row(userId='30', firstname='Colin', page='NextSong', song='Revelry', level='free', Churn=0),\n",
       " Row(userId='30', firstname='Colin', page='Upgrade', song=None, level='free', Churn=0),\n",
       " Row(userId='30', firstname='Colin', page='Add Friend', song=None, level='free', Churn=0),\n",
       " Row(userId='30', firstname='Colin', page='About', song=None, level='free', Churn=0),\n",
       " Row(userId='30', firstname='Colin', page='NextSong', song=\"Dancin' On The Killing Floor\", level='free', Churn=0),\n",
       " Row(userId='30', firstname='Colin', page='NextSong', song='Undo', level='free', Churn=0),\n",
       " Row(userId='30', firstname='Colin', page='NextSong', song='Te Hacen Falta Vitaminas', level='free', Churn=0),\n",
       " Row(userId='30', firstname='Colin', page='Thumbs Up', song=None, level='free', Churn=0),\n",
       " Row(userId='30', firstname='Colin', page='NextSong', song='U Smile', level='free', Churn=0),\n",
       " Row(userId='30', firstname='Colin', page='NextSong', song='Smile', level='free', Churn=0),\n",
       " Row(userId='30', firstname='Colin', page='NextSong', song='Angels Fall First', level='free', Churn=0),\n",
       " Row(userId='30', firstname='Colin', page='NextSong', song='Sehr kosmisch', level='free', Churn=0),\n",
       " Row(userId='30', firstname='Colin', page='Home', song=None, level='free', Churn=0),\n",
       " Row(userId='30', firstname='Colin', page='NextSong', song='Meeting Daisy', level='free', Churn=0),\n",
       " Row(userId='30', firstname='Colin', page='NextSong', song='El nazareno', level='free', Churn=0),\n",
       " Row(userId='30', firstname='Colin', page='Thumbs Up', song=None, level='free', Churn=0),\n",
       " Row(userId='30', firstname='Colin', page='NextSong', song='Bat Country (Album Version)', level='free', Churn=0),\n",
       " Row(userId='30', firstname='Colin', page='NextSong', song='Sinisten tÃ\\x83Â¤htien alla', level='free', Churn=0),\n",
       " Row(userId='30', firstname='Colin', page='NextSong', song='Deadweight On Velveteen', level='free', Churn=0),\n",
       " Row(userId='30', firstname='Colin', page='NextSong', song='Crank That (Soulja Boy)', level='free', Churn=0),\n",
       " Row(userId='30', firstname='Colin', page='NextSong', song='Recado Falado (MetrÃ\\x83Â´ Da Saudade)', level='free', Churn=0),\n",
       " Row(userId='30', firstname='Colin', page='NextSong', song=\"It's OK\", level='free', Churn=0),\n",
       " Row(userId='30', firstname='Colin', page='NextSong', song=\"Can't Stop This\", level='free', Churn=0),\n",
       " Row(userId='30', firstname='Colin', page='NextSong', song=\"You're The One\", level='free', Churn=0),\n",
       " Row(userId='30', firstname='Colin', page='NextSong', song='DONTTRUSTME [BENNYBLANCOREMIX] FEATURINGKIDCUDI (Explicit Bonus Version)', level='free', Churn=0),\n",
       " Row(userId='30', firstname='Colin', page='NextSong', song='The Grease Mega-Mix', level='free', Churn=0),\n",
       " Row(userId='30', firstname='Colin', page='NextSong', song='Snuff', level='free', Churn=0),\n",
       " Row(userId='30', firstname='Colin', page='NextSong', song='Runaway Love', level='free', Churn=0),\n",
       " Row(userId='30', firstname='Colin', page='NextSong', song='Camera Talk', level='free', Churn=0),\n",
       " Row(userId='30', firstname='Colin', page='NextSong', song='The Sicilian', level='free', Churn=0),\n",
       " Row(userId='30', firstname='Colin', page='NextSong', song='Pursuit Of Happiness (nightmare)', level='free', Churn=0),\n",
       " Row(userId='30', firstname='Colin', page='NextSong', song='Basbhat (Album Version)', level='free', Churn=0),\n",
       " Row(userId='30', firstname='Colin', page='NextSong', song='The Pretender', level='free', Churn=0),\n",
       " Row(userId='30', firstname='Colin', page='Roll Advert', song=None, level='free', Churn=0),\n",
       " Row(userId='30', firstname='Colin', page='Roll Advert', song=None, level='free', Churn=0),\n",
       " Row(userId='30', firstname='Colin', page='NextSong', song='Movement', level='free', Churn=0),\n",
       " Row(userId='30', firstname='Colin', page='NextSong', song='Revelry', level='free', Churn=0),\n",
       " Row(userId='30', firstname='Colin', page='NextSong', song='My Last Serenade', level='free', Churn=0),\n",
       " Row(userId='30', firstname='Colin', page='NextSong', song='Her Alone', level='free', Churn=0),\n",
       " Row(userId='30', firstname='Colin', page='NextSong', song='Diva', level='free', Churn=0),\n",
       " Row(userId='30', firstname='Colin', page='Roll Advert', song=None, level='free', Churn=0),\n",
       " Row(userId='30', firstname='Colin', page='NextSong', song='Inhuman Creation Station', level='free', Churn=0),\n",
       " Row(userId='30', firstname='Colin', page='NextSong', song='Monster (Alternate Radio Version)', level='free', Churn=0),\n",
       " Row(userId='30', firstname='Colin', page='NextSong', song='The Game (Amended Version)', level='free', Churn=0),\n",
       " Row(userId='30', firstname='Colin', page='NextSong', song='Keep It Simple', level='free', Churn=0),\n",
       " Row(userId='30', firstname='Colin', page='NextSong', song='No Leaf Clover', level='free', Churn=0),\n",
       " Row(userId='30', firstname='Colin', page='NextSong', song='Tramazi Parti', level='free', Churn=0),\n",
       " Row(userId='30', firstname='Colin', page='NextSong', song='My Way (A Mi Manera) (Album Version)', level='free', Churn=0),\n",
       " Row(userId='30', firstname='Colin', page='NextSong', song='Horrorbeach (Album Version)', level='free', Churn=0),\n",
       " Row(userId='30', firstname='Colin', page='NextSong', song='Red Light Indicates Doors Are Secured', level='free', Churn=0),\n",
       " Row(userId='30', firstname='Colin', page='NextSong', song='Girl', level='free', Churn=0),\n",
       " Row(userId='30', firstname='Colin', page='Upgrade', song=None, level='free', Churn=0),\n",
       " Row(userId='30', firstname='Colin', page='NextSong', song=\"Don't Worry Be Happy\", level='free', Churn=0),\n",
       " Row(userId='30', firstname='Colin', page='NextSong', song='Splash', level='free', Churn=0),\n",
       " Row(userId='30', firstname='Colin', page='NextSong', song='Missing You', level='free', Churn=0),\n",
       " Row(userId='30', firstname='Colin', page='NextSong', song='Goodbye Is All We Have', level='free', Churn=0),\n",
       " Row(userId='30', firstname='Colin', page='NextSong', song='Raunioilla', level='free', Churn=0),\n",
       " Row(userId='30', firstname='Colin', page='NextSong', song='Time/Breathe [Reprise] (Album Version)', level='free', Churn=0),\n",
       " Row(userId='30', firstname='Colin', page='NextSong', song='Magic Mountain', level='free', Churn=0),\n",
       " Row(userId='30', firstname='Colin', page='NextSong', song='Take The Box', level='free', Churn=0),\n",
       " Row(userId='30', firstname='Colin', page='NextSong', song=\"O Ouranos Pano Ap' ton Grammo\", level='free', Churn=0),\n",
       " Row(userId='30', firstname='Colin', page='Add to Playlist', song=None, level='free', Churn=0),\n",
       " Row(userId='30', firstname='Colin', page='NextSong', song=\"Boys Don't Cry\", level='free', Churn=0),\n",
       " Row(userId='30', firstname='Colin', page='Thumbs Down', song=None, level='free', Churn=0),\n",
       " Row(userId='30', firstname='Colin', page='NextSong', song='Precious Memories (LP Version)', level='free', Churn=0),\n",
       " Row(userId='30', firstname='Colin', page='Thumbs Up', song=None, level='free', Churn=0),\n",
       " Row(userId='30', firstname='Colin', page='NextSong', song='Path', level='free', Churn=0),\n",
       " Row(userId='30', firstname='Colin', page='NextSong', song='The Scientist', level='free', Churn=0),\n",
       " Row(userId='30', firstname='Colin', page='Logout', song=None, level='free', Churn=0),\n",
       " Row(userId='30', firstname='Colin', page='Home', song=None, level='free', Churn=0),\n",
       " Row(userId='30', firstname='Colin', page='NextSong', song='Rock Star', level='free', Churn=0),\n",
       " Row(userId='30', firstname='Colin', page='NextSong', song='Palm Reader', level='free', Churn=0),\n",
       " Row(userId='30', firstname='Colin', page='NextSong', song='Para Bellum', level='free', Churn=0),\n",
       " Row(userId='30', firstname='Colin', page='NextSong', song=\"Maggie's Farm\", level='free', Churn=0),\n",
       " Row(userId='30', firstname='Colin', page='NextSong', song='Four Winds', level='free', Churn=0),\n",
       " Row(userId='30', firstname='Colin', page='Roll Advert', song=None, level='free', Churn=0),\n",
       " Row(userId='30', firstname='Colin', page='NextSong', song='Fight', level='free', Churn=0),\n",
       " Row(userId='30', firstname='Colin', page='Roll Advert', song=None, level='free', Churn=0),\n",
       " Row(userId='30', firstname='Colin', page='NextSong', song='Things She Said', level='free', Churn=0),\n",
       " Row(userId='30', firstname='Colin', page='NextSong', song='Sehr kosmisch', level='free', Churn=0),\n",
       " Row(userId='30', firstname='Colin', page='NextSong', song='Sin Coro', level='free', Churn=0),\n",
       " Row(userId='30', firstname='Colin', page='NextSong', song='Not In Love', level='free', Churn=0),\n",
       " Row(userId='30', firstname='Colin', page='NextSong', song='Miserable Lie', level='free', Churn=0),\n",
       " Row(userId='30', firstname='Colin', page='NextSong', song='Scooby Snacks (Explicit)', level='free', Churn=0),\n",
       " Row(userId='30', firstname='Colin', page='NextSong', song='Him', level='free', Churn=0),\n",
       " Row(userId='30', firstname='Colin', page='NextSong', song='Diary', level='free', Churn=0),\n",
       " Row(userId='30', firstname='Colin', page='NextSong', song='Opening Up (Ce Soir On Danse)', level='free', Churn=0),\n",
       " Row(userId='30', firstname='Colin', page='NextSong', song='Guiding Light', level='free', Churn=0),\n",
       " Row(userId='30', firstname='Colin', page='NextSong', song='La Guerra', level='free', Churn=0),\n",
       " Row(userId='30', firstname='Colin', page='NextSong', song='Oh Girl', level='free', Churn=0),\n",
       " Row(userId='30', firstname='Colin', page='NextSong', song=\"Bottle Poppin' (feat. Gorilla Zoe) (Explicit Album Version)\", level='free', Churn=0),\n",
       " Row(userId='30', firstname='Colin', page='Roll Advert', song=None, level='free', Churn=0),\n",
       " Row(userId='30', firstname='Colin', page='NextSong', song='Einfeld', level='free', Churn=0),\n",
       " Row(userId='30', firstname='Colin', page='Logout', song=None, level='free', Churn=0),\n",
       " Row(userId='30', firstname='Colin', page='Home', song=None, level='free', Churn=0),\n",
       " Row(userId='30', firstname='Colin', page='NextSong', song=\"I'm With You\", level='free', Churn=0),\n",
       " Row(userId='30', firstname='Colin', page='Settings', song=None, level='free', Churn=0),\n",
       " Row(userId='30', firstname='Colin', page='NextSong', song='Machine Gun Man', level='free', Churn=0),\n",
       " Row(userId='30', firstname='Colin', page='NextSong', song='I Want It All', level='free', Churn=0),\n",
       " Row(userId='30', firstname='Colin', page='NextSong', song='Straight To The Bank', level='free', Churn=0),\n",
       " Row(userId='30', firstname='Colin', page='NextSong', song='Rock On', level='free', Churn=0),\n",
       " Row(userId='30', firstname='Colin', page='NextSong', song='This Is All I Ask (Live)', level='free', Churn=0),\n",
       " Row(userId='30', firstname='Colin', page='NextSong', song='Woman Tonight', level='free', Churn=0),\n",
       " Row(userId='30', firstname='Colin', page='NextSong', song='Dialogue', level='free', Churn=0),\n",
       " Row(userId='30', firstname='Colin', page='NextSong', song='No Child Of Mine', level='free', Churn=0),\n",
       " Row(userId='30', firstname='Colin', page='Upgrade', song=None, level='free', Churn=0),\n",
       " Row(userId='30', firstname='Colin', page='Upgrade', song=None, level='free', Churn=0),\n",
       " Row(userId='30', firstname='Colin', page='NextSong', song='This Is Not America (performed by Juliette Lewis)', level='free', Churn=0),\n",
       " Row(userId='30', firstname='Colin', page='Thumbs Up', song=None, level='free', Churn=0),\n",
       " Row(userId='30', firstname='Colin', page='NextSong', song=\"Where's Rexy?\", level='free', Churn=0),\n",
       " Row(userId='30', firstname='Colin', page='Roll Advert', song=None, level='free', Churn=0),\n",
       " Row(userId='30', firstname='Colin', page='NextSong', song='Canal Song (End Of Sentence)', level='free', Churn=0),\n",
       " Row(userId='30', firstname='Colin', page='NextSong', song=\"Witchdoctor's Curse\", level='free', Churn=0),\n",
       " Row(userId='30', firstname='Colin', page='Help', song=None, level='free', Churn=0),\n",
       " Row(userId='30', firstname='Colin', page='Home', song=None, level='free', Churn=0),\n",
       " Row(userId='30', firstname='Colin', page='NextSong', song='Something (Album Version)', level='free', Churn=0),\n",
       " Row(userId='30', firstname='Colin', page='NextSong', song='Will I See You Again', level='free', Churn=0),\n",
       " Row(userId='30', firstname='Colin', page='NextSong', song='Two Hands (Plastic Soul Impalement Album Version)', level='free', Churn=0),\n",
       " Row(userId='30', firstname='Colin', page='NextSong', song='Cut The Rope', level='free', Churn=0),\n",
       " Row(userId='30', firstname='Colin', page='NextSong', song='A Comet Appears (Album)', level='free', Churn=0),\n",
       " Row(userId='30', firstname='Colin', page='Thumbs Up', song=None, level='free', Churn=0),\n",
       " Row(userId='30', firstname='Colin', page='NextSong', song='The Power Of One', level='free', Churn=0),\n",
       " Row(userId='30', firstname='Colin', page='Roll Advert', song=None, level='free', Churn=0),\n",
       " Row(userId='30', firstname='Colin', page='NextSong', song='Being Alive', level='free', Churn=0),\n",
       " Row(userId='30', firstname='Colin', page='NextSong', song='Technologic ( Basement Jaxx Kontrol Mixx )', level='free', Churn=0),\n",
       " Row(userId='30', firstname='Colin', page='Add Friend', song=None, level='free', Churn=0),\n",
       " Row(userId='30', firstname='Colin', page='NextSong', song='Back To You', level='free', Churn=0),\n",
       " Row(userId='30', firstname='Colin', page='NextSong', song='Ironic (Acoustic Album Version)', level='free', Churn=0),\n",
       " Row(userId='30', firstname='Colin', page='Add to Playlist', song=None, level='free', Churn=0),\n",
       " Row(userId='30', firstname='Colin', page='NextSong', song='All I Ever Wanted', level='free', Churn=0),\n",
       " Row(userId='30', firstname='Colin', page='NextSong', song='Better in time', level='free', Churn=0),\n",
       " Row(userId='30', firstname='Colin', page='Roll Advert', song=None, level='free', Churn=0),\n",
       " Row(userId='30', firstname='Colin', page='NextSong', song='One Above One', level='free', Churn=0),\n",
       " Row(userId='30', firstname='Colin', page='NextSong', song='Crank That (Soulja Boy)', level='free', Churn=0),\n",
       " Row(userId='30', firstname='Colin', page='NextSong', song='Du Hast', level='free', Churn=0),\n",
       " Row(userId='30', firstname='Colin', page='NextSong', song='Confetti Smile (AO Album Version)', level='free', Churn=0),\n",
       " Row(userId='30', firstname='Colin', page='NextSong', song='Vem Pra CÃ\\x83Â¡', level='free', Churn=0),\n",
       " Row(userId='30', firstname='Colin', page='NextSong', song='True Stories', level='free', Churn=0),\n",
       " Row(userId='30', firstname='Colin', page='NextSong', song='Dr. Feelgood', level='free', Churn=0),\n",
       " Row(userId='30', firstname='Colin', page='NextSong', song='The Writer', level='free', Churn=0),\n",
       " Row(userId='30', firstname='Colin', page='NextSong', song='Ass Fucking Murder', level='free', Churn=0),\n",
       " Row(userId='30', firstname='Colin', page='Home', song=None, level='free', Churn=0),\n",
       " Row(userId='30', firstname='Colin', page='NextSong', song=\"All Tomorrow's Parties\", level='free', Churn=0),\n",
       " Row(userId='30', firstname='Colin', page='NextSong', song='Ocean Avenue', level='free', Churn=0),\n",
       " Row(userId='30', firstname='Colin', page='NextSong', song='Venus', level='free', Churn=0),\n",
       " Row(userId='30', firstname='Colin', page='Thumbs Up', song=None, level='free', Churn=0),\n",
       " Row(userId='30', firstname='Colin', page='Add to Playlist', song=None, level='free', Churn=0),\n",
       " Row(userId='30', firstname='Colin', page='NextSong', song='Learn To Fly', level='free', Churn=0),\n",
       " Row(userId='30', firstname='Colin', page='NextSong', song='Touchy! (Album Version)', level='free', Churn=0),\n",
       " Row(userId='30', firstname='Colin', page='NextSong', song='Jude Law and a Semester Abroad', level='free', Churn=0),\n",
       " Row(userId='30', firstname='Colin', page='NextSong', song='Dream On', level='free', Churn=0),\n",
       " Row(userId='30', firstname='Colin', page='NextSong', song='Half Asleep', level='free', Churn=0),\n",
       " Row(userId='30', firstname='Colin', page='NextSong', song='MatinÃ\\x83Â©e', level='free', Churn=0),\n",
       " Row(userId='30', firstname='Colin', page='NextSong', song='Mysterious Ways', level='free', Churn=0),\n",
       " Row(userId='30', firstname='Colin', page='NextSong', song='Peaceful', level='free', Churn=0),\n",
       " Row(userId='30', firstname='Colin', page='NextSong', song='Otherside (Album Version)', level='free', Churn=0),\n",
       " Row(userId='30', firstname='Colin', page='NextSong', song='Bad Little Woman (LP Version)', level='free', Churn=0),\n",
       " Row(userId='30', firstname='Colin', page='NextSong', song='Superman', level='free', Churn=0),\n",
       " Row(userId='30', firstname='Colin', page='NextSong', song='Intro 2/ Kick Out The Jams (LP Version)', level='free', Churn=0),\n",
       " Row(userId='30', firstname='Colin', page='NextSong', song='Dance Flow', level='free', Churn=0),\n",
       " Row(userId='30', firstname='Colin', page='NextSong', song='Hey Now Now', level='free', Churn=0),\n",
       " Row(userId='30', firstname='Colin', page='NextSong', song='Save The Last Dance For Me [Ralphi Rosario Anthomic Vocal]', level='free', Churn=0),\n",
       " Row(userId='30', firstname='Colin', page='Thumbs Up', song=None, level='free', Churn=0),\n",
       " Row(userId='30', firstname='Colin', page='NextSong', song='MÃ\\x83Â¡s Papaya', level='free', Churn=0),\n",
       " Row(userId='30', firstname='Colin', page='NextSong', song='Dialogue Box', level='free', Churn=0),\n",
       " Row(userId='30', firstname='Colin', page='NextSong', song='The Ex', level='free', Churn=0),\n",
       " Row(userId='30', firstname='Colin', page='NextSong', song='Crack Under Pressure', level='free', Churn=0),\n",
       " Row(userId='30', firstname='Colin', page='Add to Playlist', song=None, level='free', Churn=0),\n",
       " Row(userId='30', firstname='Colin', page='NextSong', song='Odessa', level='free', Churn=0),\n",
       " Row(userId='30', firstname='Colin', page='NextSong', song='Addicted', level='free', Churn=0),\n",
       " Row(userId='30', firstname='Colin', page='NextSong', song='DVNO', level='free', Churn=0),\n",
       " Row(userId='30', firstname='Colin', page='NextSong', song='Bad Luck', level='free', Churn=0),\n",
       " Row(userId='30', firstname='Colin', page='NextSong', song=\"Rupi's Dance\", level='free', Churn=0),\n",
       " Row(userId='30', firstname='Colin', page='Home', song=None, level='free', Churn=0),\n",
       " Row(userId='30', firstname='Colin', page='NextSong', song='Horn Concerto No. 4 in E flat K495: II. Romance (Andante cantabile)', level='free', Churn=0),\n",
       " Row(userId='30', firstname='Colin', page='NextSong', song='Safety Dance', level='free', Churn=0),\n",
       " Row(userId='30', firstname='Colin', page='NextSong', song=\"Build God_ Then We'll Talk (Album Version)\", level='free', Churn=0),\n",
       " Row(userId='30', firstname='Colin', page='NextSong', song='ReprÃ\\x83Â©sente', level='free', Churn=0),\n",
       " Row(userId='30', firstname='Colin', page='NextSong', song=\"I CAN'T GET STARTED\", level='free', Churn=0),\n",
       " Row(userId='30', firstname='Colin', page='NextSong', song='What A Wonderful World', level='free', Churn=0),\n",
       " Row(userId='30', firstname='Colin', page='NextSong', song='Not Like That (Album Version)', level='free', Churn=0),\n",
       " Row(userId='30', firstname='Colin', page='NextSong', song='So far so long', level='free', Churn=0),\n",
       " Row(userId='30', firstname='Colin', page='NextSong', song='En El Septimo Dia', level='free', Churn=0),\n",
       " Row(userId='30', firstname='Colin', page='NextSong', song='Let Down', level='free', Churn=0),\n",
       " Row(userId='30', firstname='Colin', page='NextSong', song='Pon De Floor', level='free', Churn=0),\n",
       " Row(userId='30', firstname='Colin', page='Upgrade', song=None, level='free', Churn=0),\n",
       " Row(userId='30', firstname='Colin', page='NextSong', song='Hotel', level='free', Churn=0),\n",
       " Row(userId='30', firstname='Colin', page='Roll Advert', song=None, level='free', Churn=0),\n",
       " Row(userId='30', firstname='Colin', page='NextSong', song='Gestern_Morgen', level='free', Churn=0),\n",
       " Row(userId='30', firstname='Colin', page='NextSong', song='Show', level='free', Churn=0),\n",
       " Row(userId='30', firstname='Colin', page='NextSong', song='Jasey Rae', level='free', Churn=0),\n",
       " Row(userId='30', firstname='Colin', page='Home', song=None, level='free', Churn=0),\n",
       " Row(userId='30', firstname='Colin', page='Add Friend', song=None, level='free', Churn=0),\n",
       " Row(userId='30', firstname='Colin', page='Add Friend', song=None, level='free', Churn=0),\n",
       " Row(userId='30', firstname='Colin', page='NextSong', song='Sooner or Later', level='free', Churn=0),\n",
       " Row(userId='30', firstname='Colin', page='NextSong', song='Good Soldier', level='free', Churn=0),\n",
       " Row(userId='30', firstname='Colin', page='Home', song=None, level='free', Churn=0),\n",
       " Row(userId='30', firstname='Colin', page='NextSong', song='Soul Suckers', level='free', Churn=0),\n",
       " Row(userId='30', firstname='Colin', page='Add to Playlist', song=None, level='free', Churn=0),\n",
       " Row(userId='30', firstname='Colin', page='NextSong', song='Seed (Album Version)', level='free', Churn=0),\n",
       " Row(userId='30', firstname='Colin', page='NextSong', song=\"Day 'N' Nite\", level='free', Churn=0),\n",
       " Row(userId='30', firstname='Colin', page='NextSong', song='Climbing A Hill', level='free', Churn=0),\n",
       " Row(userId='30', firstname='Colin', page='Home', song=None, level='free', Churn=0),\n",
       " Row(userId='30', firstname='Colin', page='NextSong', song='Ode To My Family', level='free', Churn=0),\n",
       " Row(userId='30', firstname='Colin', page='NextSong', song='Live And Let Die', level='free', Churn=0),\n",
       " Row(userId='30', firstname='Colin', page='NextSong', song=\"Livin' On A Prayer\", level='free', Churn=0),\n",
       " Row(userId='30', firstname='Colin', page='NextSong', song='Good Morning Little School Girl', level='free', Churn=0),\n",
       " Row(userId='30', firstname='Colin', page='NextSong', song=\"Stayin' Alive\", level='free', Churn=0),\n",
       " Row(userId='30', firstname='Colin', page='NextSong', song='Two As One', level='free', Churn=0),\n",
       " Row(userId='30', firstname='Colin', page='Add Friend', song=None, level='free', Churn=0),\n",
       " Row(userId='30', firstname='Colin', page='NextSong', song='Big Uncle Ugliness', level='free', Churn=0),\n",
       " Row(userId='30', firstname='Colin', page='NextSong', song='Prelude', level='free', Churn=0),\n",
       " Row(userId='30', firstname='Colin', page='Upgrade', song=None, level='free', Churn=0),\n",
       " Row(userId='30', firstname='Colin', page='NextSong', song='Transparency', level='free', Churn=0),\n",
       " Row(userId='30', firstname='Colin', page='Roll Advert', song=None, level='free', Churn=0),\n",
       " Row(userId='30', firstname='Colin', page='NextSong', song='Behind Closed Doors', level='free', Churn=0),\n",
       " Row(userId='30', firstname='Colin', page='NextSong', song='Sample Track 2', level='free', Churn=0),\n",
       " Row(userId='30', firstname='Colin', page='Roll Advert', song=None, level='free', Churn=0),\n",
       " Row(userId='30', firstname='Colin', page='NextSong', song='La Lluvia Gris', level='free', Churn=0),\n",
       " Row(userId='30', firstname='Colin', page='NextSong', song='Stream', level='free', Churn=0),\n",
       " Row(userId='30', firstname='Colin', page='Logout', song=None, level='free', Churn=0),\n",
       " Row(userId='30', firstname='Colin', page='Home', song=None, level='free', Churn=0),\n",
       " Row(userId='30', firstname='Colin', page='NextSong', song='Three Simple Words', level='free', Churn=0),\n",
       " Row(userId='30', firstname='Colin', page='NextSong', song='Fortunate Son (Live)', level='free', Churn=0),\n",
       " Row(userId='30', firstname='Colin', page='NextSong', song='Yeah!', level='free', Churn=0),\n",
       " Row(userId='30', firstname='Colin', page='NextSong', song='Mamma', level='free', Churn=0),\n",
       " Row(userId='30', firstname='Colin', page='NextSong', song='Venice Industry', level='free', Churn=0),\n",
       " Row(userId='30', firstname='Colin', page='NextSong', song='Nah!', level='free', Churn=0),\n",
       " Row(userId='30', firstname='Colin', page='Thumbs Down', song=None, level='free', Churn=0),\n",
       " Row(userId='30', firstname='Colin', page='NextSong', song='ReprÃ\\x83Â©sente', level='free', Churn=0),\n",
       " Row(userId='30', firstname='Colin', page='NextSong', song='Jiguen', level='free', Churn=0),\n",
       " Row(userId='30', firstname='Colin', page='NextSong', song='Ba Ba', level='free', Churn=0),\n",
       " Row(userId='30', firstname='Colin', page='NextSong', song='Superballs', level='free', Churn=0),\n",
       " Row(userId='30', firstname='Colin', page='NextSong', song='Horn Concerto No. 4 in E flat K495: II. Romance (Andante cantabile)', level='free', Churn=0),\n",
       " Row(userId='30', firstname='Colin', page='Add to Playlist', song=None, level='free', Churn=0),\n",
       " Row(userId='30', firstname='Colin', page='NextSong', song=\"You're The One\", level='free', Churn=0),\n",
       " Row(userId='30', firstname='Colin', page='NextSong', song='Heartbeats', level='free', Churn=0),\n",
       " Row(userId='30', firstname='Colin', page='NextSong', song='Otherside (Album Version)', level='free', Churn=0),\n",
       " Row(userId='30', firstname='Colin', page='NextSong', song='Rio', level='free', Churn=0),\n",
       " Row(userId='30', firstname='Colin', page='Roll Advert', song=None, level='free', Churn=0),\n",
       " Row(userId='30', firstname='Colin', page='NextSong', song='Plush (LP Version)', level='free', Churn=0),\n",
       " Row(userId='30', firstname='Colin', page='NextSong', song='First Of The Gang', level='free', Churn=0),\n",
       " Row(userId='30', firstname='Colin', page='NextSong', song='Me And Armini', level='free', Churn=0),\n",
       " Row(userId='30', firstname='Colin', page='NextSong', song='Traveller', level='free', Churn=0),\n",
       " Row(userId='30', firstname='Colin', page='NextSong', song='Sweet Carrie', level='free', Churn=0),\n",
       " Row(userId='30', firstname='Colin', page='Thumbs Up', song=None, level='free', Churn=0),\n",
       " Row(userId='30', firstname='Colin', page='NextSong', song='Sick_ Sick_ Sick', level='free', Churn=0),\n",
       " Row(userId='30', firstname='Colin', page='NextSong', song='The Blast', level='free', Churn=0),\n",
       " Row(userId='30', firstname='Colin', page='NextSong', song='Beautiful Stranger', level='free', Churn=0),\n",
       " Row(userId='30', firstname='Colin', page='NextSong', song='No Milk Today', level='free', Churn=0),\n",
       " Row(userId='30', firstname='Colin', page='NextSong', song='Repression Song', level='free', Churn=0),\n",
       " Row(userId='30', firstname='Colin', page='NextSong', song='Non E_ Per Te_ Per Me', level='free', Churn=0),\n",
       " Row(userId='30', firstname='Colin', page='NextSong', song=\"What's The Difference\", level='free', Churn=0),\n",
       " Row(userId='30', firstname='Colin', page='NextSong', song='Restless', level='free', Churn=0),\n",
       " Row(userId='30', firstname='Colin', page='NextSong', song='Horn Concerto No. 4 in E flat K495: II. Romance (Andante cantabile)', level='free', Churn=0),\n",
       " Row(userId='30', firstname='Colin', page='NextSong', song='Teardrop', level='free', Churn=0),\n",
       " Row(userId='30', firstname='Colin', page='NextSong', song='Seven', level='free', Churn=0),\n",
       " Row(userId='30', firstname='Colin', page='NextSong', song='Gone In The Morning', level='free', Churn=0),\n",
       " Row(userId='30', firstname='Colin', page='NextSong', song='Baby_ This Love I Have', level='free', Churn=0),\n",
       " Row(userId='30', firstname='Colin', page='NextSong', song='Me Da Miedo', level='free', Churn=0),\n",
       " Row(userId='30', firstname='Colin', page='NextSong', song='I Can See Clearly Now', level='free', Churn=0),\n",
       " Row(userId='30', firstname='Colin', page='NextSong', song='Nemo', level='free', Churn=0),\n",
       " Row(userId='30', firstname='Colin', page='NextSong', song='Choctaw Hayride', level='free', Churn=0),\n",
       " Row(userId='30', firstname='Colin', page='NextSong', song='The Real Slim Shady', level='free', Churn=0),\n",
       " Row(userId='30', firstname='Colin', page='NextSong', song='Silence', level='free', Churn=0),\n",
       " Row(userId='30', firstname='Colin', page='NextSong', song='Snake', level='free', Churn=0),\n",
       " Row(userId='30', firstname='Colin', page='About', song=None, level='free', Churn=0),\n",
       " Row(userId='30', firstname='Colin', page='NextSong', song='Your Hand In Mine', level='free', Churn=0),\n",
       " Row(userId='30', firstname='Colin', page='Logout', song=None, level='free', Churn=0),\n",
       " Row(userId='30', firstname='Colin', page='Home', song=None, level='free', Churn=0),\n",
       " Row(userId='30', firstname='Colin', page='NextSong', song='Marry Me', level='free', Churn=0),\n",
       " Row(userId='30', firstname='Colin', page='Thumbs Up', song=None, level='free', Churn=0),\n",
       " Row(userId='30', firstname='Colin', page='NextSong', song='Undo', level='free', Churn=0),\n",
       " Row(userId='30', firstname='Colin', page='Upgrade', song=None, level='free', Churn=0),\n",
       " Row(userId='30', firstname='Colin', page='NextSong', song='Use Somebody', level='free', Churn=0),\n",
       " Row(userId='30', firstname='Colin', page='NextSong', song=\"Can't You See\", level='free', Churn=0),\n",
       " Row(userId='30', firstname='Colin', page='NextSong', song='Skinny Love', level='free', Churn=0),\n",
       " Row(userId='30', firstname='Colin', page='NextSong', song='All We Ever Do Is Say Goodbye', level='free', Churn=0),\n",
       " Row(userId='30', firstname='Colin', page='NextSong', song='Amanecer', level='free', Churn=0),\n",
       " Row(userId='30', firstname='Colin', page='Roll Advert', song=None, level='free', Churn=0),\n",
       " Row(userId='30', firstname='Colin', page='NextSong', song='Starry Night', level='free', Churn=0),\n",
       " Row(userId='30', firstname='Colin', page='NextSong', song='Unwell (Album Version)', level='free', Churn=0),\n",
       " Row(userId='30', firstname='Colin', page='NextSong', song='West One (Shine On Me)', level='free', Churn=0),\n",
       " Row(userId='30', firstname='Colin', page='Roll Advert', song=None, level='free', Churn=0),\n",
       " Row(userId='30', firstname='Colin', page='NextSong', song='Ironic (Acoustic Album Version)', level='free', Churn=0),\n",
       " Row(userId='30', firstname='Colin', page='NextSong', song=\"You've Got The Love\", level='free', Churn=0),\n",
       " Row(userId='30', firstname='Colin', page='Roll Advert', song=None, level='free', Churn=0),\n",
       " Row(userId='30', firstname='Colin', page='NextSong', song='Innocence', level='free', Churn=0),\n",
       " Row(userId='30', firstname='Colin', page='NextSong', song='Las flores', level='free', Churn=0),\n",
       " Row(userId='30', firstname='Colin', page='NextSong', song='Longhaired Redneck', level='free', Churn=0),\n",
       " Row(userId='30', firstname='Colin', page='Home', song=None, level='free', Churn=0),\n",
       " Row(userId='30', firstname='Colin', page='NextSong', song=\"Don't Come Around Here No More\", level='free', Churn=0),\n",
       " Row(userId='30', firstname='Colin', page='NextSong', song='Love Story', level='free', Churn=0),\n",
       " Row(userId='30', firstname='Colin', page='Roll Advert', song=None, level='free', Churn=0),\n",
       " Row(userId='30', firstname='Colin', page='NextSong', song='The Message', level='free', Churn=0),\n",
       " Row(userId='30', firstname='Colin', page='NextSong', song='Beautiful Stranger', level='free', Churn=0),\n",
       " Row(userId='30', firstname='Colin', page='NextSong', song='White Noise', level='free', Churn=0),\n",
       " Row(userId='30', firstname='Colin', page='NextSong', song='Home', level='free', Churn=0),\n",
       " Row(userId='30', firstname='Colin', page='NextSong', song='Cry Baby', level='free', Churn=0),\n",
       " Row(userId='30', firstname='Colin', page='NextSong', song='Vals fÃ\\x83Â¶r satan (din vÃ\\x83Â¤n pessimisten)', level='free', Churn=0),\n",
       " Row(userId='30', firstname='Colin', page='NextSong', song='If She Wants Me', level='free', Churn=0),\n",
       " Row(userId='30', firstname='Colin', page='NextSong', song='Behind The Sea [Live In Chicago]', level='free', Churn=0),\n",
       " Row(userId='30', firstname='Colin', page='NextSong', song='Complex Person', level='free', Churn=0),\n",
       " Row(userId='30', firstname='Colin', page='NextSong', song='Better', level='free', Churn=0),\n",
       " Row(userId='30', firstname='Colin', page='NextSong', song='Hallelujah (Album Version)', level='free', Churn=0),\n",
       " Row(userId='30', firstname='Colin', page='NextSong', song='You Girl', level='free', Churn=0),\n",
       " Row(userId='30', firstname='Colin', page='NextSong', song='No BalanÃ\\x83Â§o Da Canoa', level='free', Churn=0),\n",
       " Row(userId='30', firstname='Colin', page='Add to Playlist', song=None, level='free', Churn=0),\n",
       " Row(userId='30', firstname='Colin', page='NextSong', song='The Drive System (Demo)', level='free', Churn=0),\n",
       " Row(userId='30', firstname='Colin', page='NextSong', song='Kick It Up', level='free', Churn=0),\n",
       " Row(userId='30', firstname='Colin', page='NextSong', song='Bombtrack', level='free', Churn=0),\n",
       " Row(userId='30', firstname='Colin', page='Home', song=None, level='free', Churn=0),\n",
       " Row(userId='30', firstname='Colin', page='Add Friend', song=None, level='free', Churn=0),\n",
       " Row(userId='30', firstname='Colin', page='NextSong', song=\"I'm With You\", level='free', Churn=0),\n",
       " Row(userId='30', firstname='Colin', page='Thumbs Up', song=None, level='free', Churn=0),\n",
       " Row(userId='30', firstname='Colin', page='NextSong', song='Pills', level='free', Churn=0),\n",
       " Row(userId='30', firstname='Colin', page='NextSong', song='The Seed (2.0)', level='free', Churn=0),\n",
       " Row(userId='30', firstname='Colin', page='NextSong', song='The Count (aka HervÃ\\x83Â©) And Lily Face The Fear', level='free', Churn=0),\n",
       " Row(userId='30', firstname='Colin', page='Thumbs Up', song=None, level='free', Churn=0),\n",
       " Row(userId='30', firstname='Colin', page='NextSong', song=\"Don't Dream It's Over\", level='free', Churn=0),\n",
       " Row(userId='30', firstname='Colin', page='NextSong', song='The Alliance Of Hellhoundz', level='free', Churn=0),\n",
       " Row(userId='30', firstname='Colin', page='NextSong', song='What If I Stumble?', level='free', Churn=0),\n",
       " Row(userId='30', firstname='Colin', page='NextSong', song=\"I'll Be There For You\", level='free', Churn=0),\n",
       " Row(userId='30', firstname='Colin', page='NextSong', song='Somebody To Love', level='free', Churn=0),\n",
       " Row(userId='30', firstname='Colin', page='NextSong', song='Use Somebody', level='free', Churn=0),\n",
       " Row(userId='30', firstname='Colin', page='NextSong', song='Too Much To Ask', level='free', Churn=0),\n",
       " Row(userId='30', firstname='Colin', page='Add to Playlist', song=None, level='free', Churn=0),\n",
       " Row(userId='30', firstname='Colin', page='NextSong', song='Gears', level='free', Churn=0),\n",
       " Row(userId='30', firstname='Colin', page='NextSong', song='Dog Days Are Over (Radio Edit)', level='free', Churn=0),\n",
       " Row(userId='30', firstname='Colin', page='NextSong', song=\"Dreamin'\", level='free', Churn=0),\n",
       " Row(userId='30', firstname='Colin', page='NextSong', song='Inside The Fire (Album Version)', level='free', Churn=0),\n",
       " Row(userId='30', firstname='Colin', page='Roll Advert', song=None, level='free', Churn=0),\n",
       " Row(userId='30', firstname='Colin', page='Roll Advert', song=None, level='free', Churn=0),\n",
       " Row(userId='30', firstname='Colin', page='NextSong', song='Fakty', level='free', Churn=0),\n",
       " Row(userId='30', firstname='Colin', page='NextSong', song='Jambalaya', level='free', Churn=0),\n",
       " Row(userId='30', firstname='Colin', page='Upgrade', song=None, level='free', Churn=0),\n",
       " Row(userId='30', firstname='Colin', page='NextSong', song='The Shadowlands', level='free', Churn=0),\n",
       " Row(userId='30', firstname='Colin', page='Logout', song=None, level='free', Churn=0),\n",
       " Row(userId='30', firstname='Colin', page='Home', song=None, level='free', Churn=0),\n",
       " Row(userId='30', firstname='Colin', page='NextSong', song='The Invisible Man', level='free', Churn=0),\n",
       " Row(userId='30', firstname='Colin', page='NextSong', song='Firecracker', level='free', Churn=0),\n",
       " Row(userId='30', firstname='Colin', page='NextSong', song='Bleed It Out [Live At Milton Keynes]', level='free', Churn=0),\n",
       " Row(userId='30', firstname='Colin', page='NextSong', song='Miralo', level='free', Churn=0),\n",
       " Row(userId='30', firstname='Colin', page='NextSong', song='ReprÃ\\x83Â©sente', level='free', Churn=0),\n",
       " Row(userId='30', firstname='Colin', page='NextSong', song='Silencio', level='free', Churn=0),\n",
       " Row(userId='30', firstname='Colin', page='Roll Advert', song=None, level='free', Churn=0),\n",
       " Row(userId='30', firstname='Colin', page='NextSong', song='Momma Cried', level='free', Churn=0),\n",
       " Row(userId='30', firstname='Colin', page='Roll Advert', song=None, level='free', Churn=0),\n",
       " Row(userId='30', firstname='Colin', page='NextSong', song='La Vida Es Un Ratico', level='free', Churn=0),\n",
       " Row(userId='30', firstname='Colin', page='Thumbs Down', song=None, level='free', Churn=0),\n",
       " Row(userId='30', firstname='Colin', page='NextSong', song='Cape Cod Kwassa Kwassa (Album)', level='free', Churn=0),\n",
       " Row(userId='30', firstname='Colin', page='NextSong', song='Write You A Song', level='free', Churn=0),\n",
       " Row(userId='30', firstname='Colin', page='NextSong', song='Elijah', level='free', Churn=0),\n",
       " Row(userId='30', firstname='Colin', page='NextSong', song='Fireflies', level='free', Churn=0),\n",
       " Row(userId='30', firstname='Colin', page='Thumbs Up', song=None, level='free', Churn=0),\n",
       " Row(userId='30', firstname='Colin', page='NextSong', song=\"You Don't Have Far To Go\", level='free', Churn=0),\n",
       " Row(userId='30', firstname='Colin', page='NextSong', song='One by One', level='free', Churn=0),\n",
       " Row(userId='30', firstname='Colin', page='NextSong', song='Wasted', level='free', Churn=0),\n",
       " Row(userId='30', firstname='Colin', page='NextSong', song='Me Voy', level='free', Churn=0),\n",
       " Row(userId='30', firstname='Colin', page='NextSong', song='Dear God (Album Version)', level='free', Churn=0),\n",
       " Row(userId='30', firstname='Colin', page='NextSong', song='Die Hard', level='free', Churn=0),\n",
       " Row(userId='30', firstname='Colin', page='Thumbs Up', song=None, level='free', Churn=0),\n",
       " Row(userId='30', firstname='Colin', page='NextSong', song='When The Stars Go Blue (Featuring Bono) (Disclab Remix)', level='free', Churn=0),\n",
       " Row(userId='30', firstname='Colin', page='NextSong', song='What Can I Give You This Christmas?', level='free', Churn=0),\n",
       " ...]"
      ]
     },
     "execution_count": 22,
     "metadata": {},
     "output_type": "execute_result"
    }
   ],
   "source": [
    "df.select('userId', 'firstname', 'page', 'song', 'level', 'Churn').where(df.userId=='30').collect()"
   ]
  },
  {
   "cell_type": "markdown",
   "metadata": {},
   "source": [
    "###### Activity of userId 18 (Churned user)"
   ]
  },
  {
   "cell_type": "code",
   "execution_count": 23,
   "metadata": {},
   "outputs": [
    {
     "data": {
      "text/plain": [
       "[Row(userId='18', firstname='Adriel', page='Home', song=None, level='paid', Churn=1),\n",
       " Row(userId='18', firstname='Adriel', page='NextSong', song='A Beggar On A Beach Of Gold', level='paid', Churn=1),\n",
       " Row(userId='18', firstname='Adriel', page='NextSong', song='...slowdance On The Inside (Album Version)', level='paid', Churn=1),\n",
       " Row(userId='18', firstname='Adriel', page='NextSong', song='St. Apollonia', level='paid', Churn=1),\n",
       " Row(userId='18', firstname='Adriel', page='NextSong', song='Drunk Stripper', level='paid', Churn=1),\n",
       " Row(userId='18', firstname='Adriel', page='NextSong', song='In League With Satan', level='paid', Churn=1),\n",
       " Row(userId='18', firstname='Adriel', page='Settings', song=None, level='paid', Churn=1),\n",
       " Row(userId='18', firstname='Adriel', page='NextSong', song='The Quest', level='paid', Churn=1),\n",
       " Row(userId='18', firstname='Adriel', page='NextSong', song='Waking The Demon', level='paid', Churn=1),\n",
       " Row(userId='18', firstname='Adriel', page='NextSong', song='Why Do You Let Me Stay Here?', level='paid', Churn=1),\n",
       " Row(userId='18', firstname='Adriel', page='NextSong', song='High (Album Version)', level='paid', Churn=1),\n",
       " Row(userId='18', firstname='Adriel', page='NextSong', song=\"Remember Me_ I'm The One Who Loves You\", level='paid', Churn=1),\n",
       " Row(userId='18', firstname='Adriel', page='Settings', song=None, level='paid', Churn=1),\n",
       " Row(userId='18', firstname='Adriel', page='NextSong', song='Continents', level='paid', Churn=1),\n",
       " Row(userId='18', firstname='Adriel', page='NextSong', song='Girls', level='paid', Churn=1),\n",
       " Row(userId='18', firstname='Adriel', page='NextSong', song='What If I Do?', level='paid', Churn=1),\n",
       " Row(userId='18', firstname='Adriel', page='NextSong', song='Soulful Dress', level='paid', Churn=1),\n",
       " Row(userId='18', firstname='Adriel', page='NextSong', song='Eenie Meenie', level='paid', Churn=1),\n",
       " Row(userId='18', firstname='Adriel', page='NextSong', song='Kabul Shit', level='paid', Churn=1),\n",
       " Row(userId='18', firstname='Adriel', page='NextSong', song='Catch You Baby (Steve Pitron & Max Sanna Radio Edit)', level='paid', Churn=1),\n",
       " Row(userId='18', firstname='Adriel', page='NextSong', song='Window Blues', level='paid', Churn=1),\n",
       " Row(userId='18', firstname='Adriel', page='NextSong', song='This Life', level='paid', Churn=1),\n",
       " Row(userId='18', firstname='Adriel', page='Thumbs Up', song=None, level='paid', Churn=1),\n",
       " Row(userId='18', firstname='Adriel', page='NextSong', song='Into Eternity', level='paid', Churn=1),\n",
       " Row(userId='18', firstname='Adriel', page='NextSong', song='Skeleton Man', level='paid', Churn=1),\n",
       " Row(userId='18', firstname='Adriel', page='NextSong', song='Everybody Be Somebody', level='paid', Churn=1),\n",
       " Row(userId='18', firstname='Adriel', page='NextSong', song='Drixxxe Vs Dj Pone (feat. Dj Pone)', level='paid', Churn=1),\n",
       " Row(userId='18', firstname='Adriel', page='Thumbs Up', song=None, level='paid', Churn=1),\n",
       " Row(userId='18', firstname='Adriel', page='NextSong', song='Back 2 Good (LP Version)', level='paid', Churn=1),\n",
       " Row(userId='18', firstname='Adriel', page='NextSong', song='Je Suis De Celles', level='paid', Churn=1),\n",
       " Row(userId='18', firstname='Adriel', page='NextSong', song='Santa Cruz Slacker', level='paid', Churn=1),\n",
       " Row(userId='18', firstname='Adriel', page='NextSong', song='MVP Kompa', level='paid', Churn=1),\n",
       " Row(userId='18', firstname='Adriel', page='NextSong', song='All I Need', level='paid', Churn=1),\n",
       " Row(userId='18', firstname='Adriel', page='Logout', song=None, level='paid', Churn=1),\n",
       " Row(userId='18', firstname='Adriel', page='Home', song=None, level='paid', Churn=1),\n",
       " Row(userId='18', firstname='Adriel', page='NextSong', song='The General', level='paid', Churn=1),\n",
       " Row(userId='18', firstname='Adriel', page='NextSong', song='Mexican Girl (Album Version)', level='paid', Churn=1),\n",
       " Row(userId='18', firstname='Adriel', page='NextSong', song='Prisoner Of Love', level='paid', Churn=1),\n",
       " Row(userId='18', firstname='Adriel', page='Add to Playlist', song=None, level='paid', Churn=1),\n",
       " Row(userId='18', firstname='Adriel', page='NextSong', song='Growing Up', level='paid', Churn=1),\n",
       " Row(userId='18', firstname='Adriel', page='NextSong', song='Sotaisa rotu', level='paid', Churn=1),\n",
       " Row(userId='18', firstname='Adriel', page='NextSong', song='Limbo A Go Go', level='paid', Churn=1),\n",
       " Row(userId='18', firstname='Adriel', page='NextSong', song='Sehr kosmisch', level='paid', Churn=1),\n",
       " Row(userId='18', firstname='Adriel', page='NextSong', song='Walking For You', level='paid', Churn=1),\n",
       " Row(userId='18', firstname='Adriel', page='NextSong', song='Sooner You Get To Love', level='paid', Churn=1),\n",
       " Row(userId='18', firstname='Adriel', page='NextSong', song='Forever Road', level='paid', Churn=1),\n",
       " Row(userId='18', firstname='Adriel', page='NextSong', song='Skyway Avenue', level='paid', Churn=1),\n",
       " Row(userId='18', firstname='Adriel', page='NextSong', song='Airport Taxi Reception', level='paid', Churn=1),\n",
       " Row(userId='18', firstname='Adriel', page='NextSong', song='This World Is Not My Home', level='paid', Churn=1),\n",
       " Row(userId='18', firstname='Adriel', page='NextSong', song='Slight Night Shiver', level='paid', Churn=1),\n",
       " Row(userId='18', firstname='Adriel', page='NextSong', song='Air Hostess', level='paid', Churn=1),\n",
       " Row(userId='18', firstname='Adriel', page='NextSong', song='Heartbeats (Live)', level='paid', Churn=1),\n",
       " Row(userId='18', firstname='Adriel', page='NextSong', song='Never Let You Go', level='paid', Churn=1),\n",
       " Row(userId='18', firstname='Adriel', page='NextSong', song='Seventy Times 7', level='paid', Churn=1),\n",
       " Row(userId='18', firstname='Adriel', page='NextSong', song='Responsible Stu', level='paid', Churn=1),\n",
       " Row(userId='18', firstname='Adriel', page='Thumbs Up', song=None, level='paid', Churn=1),\n",
       " Row(userId='18', firstname='Adriel', page='NextSong', song=\"Droppin' Like Flies\", level='paid', Churn=1),\n",
       " Row(userId='18', firstname='Adriel', page='NextSong', song='Inspired By The $', level='paid', Churn=1),\n",
       " Row(userId='18', firstname='Adriel', page='Thumbs Up', song=None, level='paid', Churn=1),\n",
       " Row(userId='18', firstname='Adriel', page='NextSong', song=\"Don't Leave Me\", level='paid', Churn=1),\n",
       " Row(userId='18', firstname='Adriel', page='NextSong', song='Murano', level='paid', Churn=1),\n",
       " Row(userId='18', firstname='Adriel', page='NextSong', song='Bros Sto Rimagmeno Spiti (2003 Digital Remaster)', level='paid', Churn=1),\n",
       " Row(userId='18', firstname='Adriel', page='Add Friend', song=None, level='paid', Churn=1),\n",
       " Row(userId='18', firstname='Adriel', page='Add Friend', song=None, level='paid', Churn=1),\n",
       " Row(userId='18', firstname='Adriel', page='NextSong', song='Sail Away', level='paid', Churn=1),\n",
       " Row(userId='18', firstname='Adriel', page='Thumbs Up', song=None, level='paid', Churn=1),\n",
       " Row(userId='18', firstname='Adriel', page='NextSong', song='Great Release', level='paid', Churn=1),\n",
       " Row(userId='18', firstname='Adriel', page='NextSong', song='Embrace Of The Endless Ocean', level='paid', Churn=1),\n",
       " Row(userId='18', firstname='Adriel', page='NextSong', song='Rockin Stroll (LP Version)', level='paid', Churn=1),\n",
       " Row(userId='18', firstname='Adriel', page='NextSong', song=\"We Share Our Mothers' Health (Album Version)\", level='paid', Churn=1),\n",
       " Row(userId='18', firstname='Adriel', page='NextSong', song='Wanderlust', level='paid', Churn=1),\n",
       " Row(userId='18', firstname='Adriel', page='NextSong', song='The Man Who Sold The World', level='paid', Churn=1),\n",
       " Row(userId='18', firstname='Adriel', page='Thumbs Up', song=None, level='paid', Churn=1),\n",
       " Row(userId='18', firstname='Adriel', page='NextSong', song='Fallen', level='paid', Churn=1),\n",
       " Row(userId='18', firstname='Adriel', page='NextSong', song=\"Don't Dream It's Over\", level='paid', Churn=1),\n",
       " Row(userId='18', firstname='Adriel', page='NextSong', song='VÃ\\x83Â\\x81NDORMADÃ\\x83Â\\x81R', level='paid', Churn=1),\n",
       " Row(userId='18', firstname='Adriel', page='NextSong', song='Say Hello (Angello & Ingrosso Remix)', level='paid', Churn=1),\n",
       " Row(userId='18', firstname='Adriel', page='NextSong', song='Walking Through The Country', level='paid', Churn=1),\n",
       " Row(userId='18', firstname='Adriel', page='Thumbs Up', song=None, level='paid', Churn=1),\n",
       " Row(userId='18', firstname='Adriel', page='NextSong', song='Three Is A Magic Number', level='paid', Churn=1),\n",
       " Row(userId='18', firstname='Adriel', page='NextSong', song='Planet Telex', level='paid', Churn=1),\n",
       " Row(userId='18', firstname='Adriel', page='NextSong', song='Bloody hammer', level='paid', Churn=1),\n",
       " Row(userId='18', firstname='Adriel', page='NextSong', song='Take It Easy (love Nothing) (Album Version)', level='paid', Churn=1),\n",
       " Row(userId='18', firstname='Adriel', page='NextSong', song='The Game (Amended Version)', level='paid', Churn=1),\n",
       " Row(userId='18', firstname='Adriel', page='NextSong', song=\"I'll Be Your Man\", level='paid', Churn=1),\n",
       " Row(userId='18', firstname='Adriel', page='NextSong', song='All That We Perceive', level='paid', Churn=1),\n",
       " Row(userId='18', firstname='Adriel', page='NextSong', song=\"You'll Never Know (My Love) (Bovellian 07 Mix)\", level='paid', Churn=1),\n",
       " Row(userId='18', firstname='Adriel', page='NextSong', song='CIEÃ\\x83Â\\x91', level='paid', Churn=1),\n",
       " Row(userId='18', firstname='Adriel', page='Home', song=None, level='paid', Churn=1),\n",
       " Row(userId='18', firstname='Adriel', page='NextSong', song='Lover Undercover', level='paid', Churn=1),\n",
       " Row(userId='18', firstname='Adriel', page='Home', song=None, level='paid', Churn=1),\n",
       " Row(userId='18', firstname='Adriel', page='NextSong', song='I Need Drugs', level='paid', Churn=1),\n",
       " Row(userId='18', firstname='Adriel', page='Logout', song=None, level='paid', Churn=1),\n",
       " Row(userId='18', firstname='Adriel', page='Home', song=None, level='paid', Churn=1),\n",
       " Row(userId='18', firstname='Adriel', page='NextSong', song='Guyamas Sonora', level='paid', Churn=1),\n",
       " Row(userId='18', firstname='Adriel', page='NextSong', song='Close Yet Far', level='paid', Churn=1),\n",
       " Row(userId='18', firstname='Adriel', page='NextSong', song='Watch Me Shine', level='paid', Churn=1),\n",
       " Row(userId='18', firstname='Adriel', page='NextSong', song='A Lack Of Color (Album Version)', level='paid', Churn=1),\n",
       " Row(userId='18', firstname='Adriel', page='NextSong', song='Orinoco Flow', level='paid', Churn=1),\n",
       " Row(userId='18', firstname='Adriel', page='NextSong', song='Bros Sto Rimagmeno Spiti (2003 Digital Remaster)', level='paid', Churn=1),\n",
       " Row(userId='18', firstname='Adriel', page='NextSong', song='Sky Blue And Black (LP Version)', level='paid', Churn=1),\n",
       " Row(userId='18', firstname='Adriel', page='NextSong', song='Uninvited', level='paid', Churn=1),\n",
       " Row(userId='18', firstname='Adriel', page='NextSong', song=\"Runnin'\", level='paid', Churn=1),\n",
       " Row(userId='18', firstname='Adriel', page='NextSong', song='Mais Do Que Preciso', level='paid', Churn=1),\n",
       " Row(userId='18', firstname='Adriel', page='Add to Playlist', song=None, level='paid', Churn=1),\n",
       " Row(userId='18', firstname='Adriel', page='NextSong', song='Sunday Morning', level='paid', Churn=1),\n",
       " Row(userId='18', firstname='Adriel', page='NextSong', song='Thinking About You', level='paid', Churn=1),\n",
       " Row(userId='18', firstname='Adriel', page='Add to Playlist', song=None, level='paid', Churn=1),\n",
       " Row(userId='18', firstname='Adriel', page='NextSong', song='Pull Me Out (Key-B-Premiere Performance Plus w/o Background Vocals)', level='paid', Churn=1),\n",
       " Row(userId='18', firstname='Adriel', page='NextSong', song='Break In-City (Storm the Gate!)', level='paid', Churn=1),\n",
       " Row(userId='18', firstname='Adriel', page='NextSong', song='In The End (Album Version)', level='paid', Churn=1),\n",
       " Row(userId='18', firstname='Adriel', page='NextSong', song='Dead Man (Carry Me)', level='paid', Churn=1),\n",
       " Row(userId='18', firstname='Adriel', page='NextSong', song='Songs Of The Season', level='paid', Churn=1),\n",
       " Row(userId='18', firstname='Adriel', page='NextSong', song='Be Less Rude', level='paid', Churn=1),\n",
       " Row(userId='18', firstname='Adriel', page='NextSong', song='The Only Exception (Album Version)', level='paid', Churn=1),\n",
       " Row(userId='18', firstname='Adriel', page='NextSong', song='Backstabber', level='paid', Churn=1),\n",
       " Row(userId='18', firstname='Adriel', page='NextSong', song='Magic Bus', level='paid', Churn=1),\n",
       " Row(userId='18', firstname='Adriel', page='NextSong', song='Lover Of Mine', level='paid', Churn=1),\n",
       " Row(userId='18', firstname='Adriel', page='Settings', song=None, level='paid', Churn=1),\n",
       " Row(userId='18', firstname='Adriel', page='NextSong', song=\"Perhaps She'll Wait\", level='paid', Churn=1),\n",
       " Row(userId='18', firstname='Adriel', page='Thumbs Up', song=None, level='paid', Churn=1),\n",
       " Row(userId='18', firstname='Adriel', page='NextSong', song='Bleed It Out [Live At Milton Keynes]', level='paid', Churn=1),\n",
       " Row(userId='18', firstname='Adriel', page='NextSong', song='My Michelle', level='paid', Churn=1),\n",
       " Row(userId='18', firstname='Adriel', page='NextSong', song='Ignorance (Album Version)', level='paid', Churn=1),\n",
       " Row(userId='18', firstname='Adriel', page='NextSong', song='Crumpshit', level='paid', Churn=1),\n",
       " Row(userId='18', firstname='Adriel', page='NextSong', song='The Setup', level='paid', Churn=1),\n",
       " Row(userId='18', firstname='Adriel', page='NextSong', song='Camera Shop', level='paid', Churn=1),\n",
       " Row(userId='18', firstname='Adriel', page='Thumbs Up', song=None, level='paid', Churn=1),\n",
       " Row(userId='18', firstname='Adriel', page='NextSong', song='Finale', level='paid', Churn=1),\n",
       " Row(userId='18', firstname='Adriel', page='NextSong', song='Evil Thing', level='paid', Churn=1),\n",
       " Row(userId='18', firstname='Adriel', page='NextSong', song='Empire State Of Mind (Part II) Broken Down', level='paid', Churn=1),\n",
       " Row(userId='18', firstname='Adriel', page='Thumbs Up', song=None, level='paid', Churn=1),\n",
       " Row(userId='18', firstname='Adriel', page='NextSong', song='When All Thy Mercies (LP Version)', level='paid', Churn=1),\n",
       " Row(userId='18', firstname='Adriel', page='NextSong', song='Careful What You Wish For', level='paid', Churn=1),\n",
       " Row(userId='18', firstname='Adriel', page='NextSong', song='Jimbo (Album Version)', level='paid', Churn=1),\n",
       " Row(userId='18', firstname='Adriel', page='NextSong', song='Good Girl Gone Bad', level='paid', Churn=1),\n",
       " Row(userId='18', firstname='Adriel', page='NextSong', song='Somebody To Love', level='paid', Churn=1),\n",
       " Row(userId='18', firstname='Adriel', page='NextSong', song='Coda', level='paid', Churn=1),\n",
       " Row(userId='18', firstname='Adriel', page='NextSong', song='Peuple BurkinabÃ\\x83Â¨', level='paid', Churn=1),\n",
       " Row(userId='18', firstname='Adriel', page='NextSong', song='Use Somebody', level='paid', Churn=1),\n",
       " Row(userId='18', firstname='Adriel', page='NextSong', song='Sine Language', level='paid', Churn=1),\n",
       " Row(userId='18', firstname='Adriel', page='NextSong', song='The Funeral (Album Version)', level='paid', Churn=1),\n",
       " Row(userId='18', firstname='Adriel', page='NextSong', song=\"L'histoire De Bernard Workers\", level='paid', Churn=1),\n",
       " Row(userId='18', firstname='Adriel', page='NextSong', song='Hold On', level='paid', Churn=1),\n",
       " Row(userId='18', firstname='Adriel', page='NextSong', song='Drops Of Jupiter', level='paid', Churn=1),\n",
       " Row(userId='18', firstname='Adriel', page='Logout', song=None, level='paid', Churn=1),\n",
       " Row(userId='18', firstname='Adriel', page='Home', song=None, level='paid', Churn=1),\n",
       " Row(userId='18', firstname='Adriel', page='NextSong', song='Grace Kelly', level='paid', Churn=1),\n",
       " Row(userId='18', firstname='Adriel', page='Add to Playlist', song=None, level='paid', Churn=1),\n",
       " Row(userId='18', firstname='Adriel', page='NextSong', song='Mad Cyril (Remastered version)', level='paid', Churn=1),\n",
       " Row(userId='18', firstname='Adriel', page='Add to Playlist', song=None, level='paid', Churn=1),\n",
       " Row(userId='18', firstname='Adriel', page='NextSong', song='Hold Me_ Thrill Me_ Kiss Me_ Kill Me', level='paid', Churn=1),\n",
       " Row(userId='18', firstname='Adriel', page='NextSong', song='Clara meets Slope - Hard To Say', level='paid', Churn=1),\n",
       " Row(userId='18', firstname='Adriel', page='NextSong', song='Tel Que Tu Es', level='paid', Churn=1),\n",
       " Row(userId='18', firstname='Adriel', page='Thumbs Up', song=None, level='paid', Churn=1),\n",
       " Row(userId='18', firstname='Adriel', page='NextSong', song='Sleepyhead', level='paid', Churn=1),\n",
       " Row(userId='18', firstname='Adriel', page='NextSong', song='One Four Five', level='paid', Churn=1),\n",
       " Row(userId='18', firstname='Adriel', page='NextSong', song='Dummes Spiel', level='paid', Churn=1),\n",
       " Row(userId='18', firstname='Adriel', page='NextSong', song='Wednesday', level='paid', Churn=1),\n",
       " Row(userId='18', firstname='Adriel', page='NextSong', song='The Beginning', level='paid', Churn=1),\n",
       " Row(userId='18', firstname='Adriel', page='NextSong', song='Harder To Breathe', level='paid', Churn=1),\n",
       " Row(userId='18', firstname='Adriel', page='NextSong', song='Got Me', level='paid', Churn=1),\n",
       " Row(userId='18', firstname='Adriel', page='NextSong', song='Who The Hell Cares', level='paid', Churn=1),\n",
       " Row(userId='18', firstname='Adriel', page='NextSong', song='Back To You', level='paid', Churn=1),\n",
       " Row(userId='18', firstname='Adriel', page='NextSong', song='Umoja', level='paid', Churn=1),\n",
       " Row(userId='18', firstname='Adriel', page='NextSong', song='Praise You', level='paid', Churn=1),\n",
       " Row(userId='18', firstname='Adriel', page='NextSong', song='Bailamos', level='paid', Churn=1),\n",
       " Row(userId='18', firstname='Adriel', page='NextSong', song=\"Don't Stand So Close To Me '86\", level='paid', Churn=1),\n",
       " Row(userId='18', firstname='Adriel', page='NextSong', song='Somebody To Love', level='paid', Churn=1),\n",
       " Row(userId='18', firstname='Adriel', page='NextSong', song='Ela E Carioca', level='paid', Churn=1),\n",
       " Row(userId='18', firstname='Adriel', page='Add to Playlist', song=None, level='paid', Churn=1),\n",
       " Row(userId='18', firstname='Adriel', page='NextSong', song='Masquerade (Reality Check Album Version)', level='paid', Churn=1),\n",
       " Row(userId='18', firstname='Adriel', page='NextSong', song='My Immortal', level='paid', Churn=1),\n",
       " Row(userId='18', firstname='Adriel', page='NextSong', song='Speed Of Life', level='paid', Churn=1),\n",
       " Row(userId='18', firstname='Adriel', page='NextSong', song='Four', level='paid', Churn=1),\n",
       " Row(userId='18', firstname='Adriel', page='NextSong', song='Social Living', level='paid', Churn=1),\n",
       " Row(userId='18', firstname='Adriel', page='NextSong', song='Speechless', level='paid', Churn=1),\n",
       " Row(userId='18', firstname='Adriel', page='NextSong', song='Dear Vienna', level='paid', Churn=1),\n",
       " Row(userId='18', firstname='Adriel', page='NextSong', song='Waking Up In Vegas (Calvin Harris Remix Edit)', level='paid', Churn=1),\n",
       " Row(userId='18', firstname='Adriel', page='NextSong', song='Freaks', level='paid', Churn=1),\n",
       " Row(userId='18', firstname='Adriel', page='NextSong', song='Selkies: The Endless Obsession (Album Version)', level='paid', Churn=1),\n",
       " Row(userId='18', firstname='Adriel', page='NextSong', song='Rayando el sol', level='paid', Churn=1),\n",
       " Row(userId='18', firstname='Adriel', page='NextSong', song=\"We're An American Band (2002 Digital Remaster)\", level='paid', Churn=1),\n",
       " Row(userId='18', firstname='Adriel', page='NextSong', song=\"I'm Made Of Wax_ Larry_ What Are You Made Of?\", level='paid', Churn=1),\n",
       " Row(userId='18', firstname='Adriel', page='NextSong', song=\"Reason I'm Alive (Explicit)\", level='paid', Churn=1),\n",
       " Row(userId='18', firstname='Adriel', page='NextSong', song='Yellow', level='paid', Churn=1),\n",
       " Row(userId='18', firstname='Adriel', page='NextSong', song='Such Great Heights', level='paid', Churn=1),\n",
       " Row(userId='18', firstname='Adriel', page='NextSong', song=\"If I Ain't Got You\", level='paid', Churn=1),\n",
       " Row(userId='18', firstname='Adriel', page='Home', song=None, level='paid', Churn=1),\n",
       " Row(userId='18', firstname='Adriel', page='NextSong', song='Victim Of The Crime', level='paid', Churn=1),\n",
       " Row(userId='18', firstname='Adriel', page='Logout', song=None, level='paid', Churn=1),\n",
       " Row(userId='18', firstname='Adriel', page='Home', song=None, level='paid', Churn=1),\n",
       " Row(userId='18', firstname='Adriel', page='NextSong', song='Call On Me', level='paid', Churn=1),\n",
       " Row(userId='18', firstname='Adriel', page='NextSong', song='Ave Maria No Morro', level='paid', Churn=1),\n",
       " Row(userId='18', firstname='Adriel', page='Thumbs Up', song=None, level='paid', Churn=1),\n",
       " Row(userId='18', firstname='Adriel', page='NextSong', song='Dom De Iludir', level='paid', Churn=1),\n",
       " Row(userId='18', firstname='Adriel', page='NextSong', song='Christmas song', level='paid', Churn=1),\n",
       " Row(userId='18', firstname='Adriel', page='NextSong', song='The Sword & the Pen (Non-Album Track)', level='paid', Churn=1),\n",
       " Row(userId='18', firstname='Adriel', page='NextSong', song='This Is Six Minutes', level='paid', Churn=1),\n",
       " Row(userId='18', firstname='Adriel', page='Add to Playlist', song=None, level='paid', Churn=1),\n",
       " Row(userId='18', firstname='Adriel', page='NextSong', song='Duk Koo Kim', level='paid', Churn=1),\n",
       " Row(userId='18', firstname='Adriel', page='NextSong', song='Seven Nation Army', level='paid', Churn=1),\n",
       " Row(userId='18', firstname='Adriel', page='NextSong', song='Somebody To Love', level='paid', Churn=1),\n",
       " Row(userId='18', firstname='Adriel', page='NextSong', song=\"There's No Sympathy For The Dead (Album Version)\", level='paid', Churn=1),\n",
       " Row(userId='18', firstname='Adriel', page='NextSong', song=\"Wavin'  Flag\", level='paid', Churn=1),\n",
       " Row(userId='18', firstname='Adriel', page='NextSong', song='Float', level='paid', Churn=1),\n",
       " Row(userId='18', firstname='Adriel', page='NextSong', song='Schwarze Biene (Black Maja)', level='paid', Churn=1),\n",
       " Row(userId='18', firstname='Adriel', page='NextSong', song='Lasso', level='paid', Churn=1),\n",
       " Row(userId='18', firstname='Adriel', page='NextSong', song='Pump It', level='paid', Churn=1),\n",
       " Row(userId='18', firstname='Adriel', page='Home', song=None, level='paid', Churn=1),\n",
       " Row(userId='18', firstname='Adriel', page='NextSong', song='Amie', level='paid', Churn=1),\n",
       " Row(userId='18', firstname='Adriel', page='NextSong', song='Still Falling', level='paid', Churn=1),\n",
       " Row(userId='18', firstname='Adriel', page='NextSong', song='Smile (Explicit Version)', level='paid', Churn=1),\n",
       " Row(userId='18', firstname='Adriel', page='NextSong', song='Strength', level='paid', Churn=1),\n",
       " Row(userId='18', firstname='Adriel', page='Home', song=None, level='paid', Churn=1),\n",
       " Row(userId='18', firstname='Adriel', page='Add Friend', song=None, level='paid', Churn=1),\n",
       " Row(userId='18', firstname='Adriel', page='Add Friend', song=None, level='paid', Churn=1),\n",
       " Row(userId='18', firstname='Adriel', page='NextSong', song='Watch The World', level='paid', Churn=1),\n",
       " Row(userId='18', firstname='Adriel', page='NextSong', song='Again', level='paid', Churn=1),\n",
       " Row(userId='18', firstname='Adriel', page='NextSong', song='Fight On (2002 Digital Remaster)', level='paid', Churn=1),\n",
       " Row(userId='18', firstname='Adriel', page='NextSong', song='Aunque no estÃ\\x83Â© de moda', level='paid', Churn=1),\n",
       " Row(userId='18', firstname='Adriel', page='NextSong', song='A Sunday Smile', level='paid', Churn=1),\n",
       " Row(userId='18', firstname='Adriel', page='NextSong', song='The Scientist', level='paid', Churn=1),\n",
       " Row(userId='18', firstname='Adriel', page='NextSong', song='Yamulemau', level='paid', Churn=1),\n",
       " Row(userId='18', firstname='Adriel', page='NextSong', song='The Fight Song (Crash And Burn)', level='paid', Churn=1),\n",
       " Row(userId='18', firstname='Adriel', page='NextSong', song='Pink Frost', level='paid', Churn=1),\n",
       " Row(userId='18', firstname='Adriel', page='NextSong', song='A Whiter Shade Of Pale (Live @ Fillmore West)', level='paid', Churn=1),\n",
       " Row(userId='18', firstname='Adriel', page='NextSong', song='I Believe I Can Fly', level='paid', Churn=1),\n",
       " Row(userId='18', firstname='Adriel', page='Add to Playlist', song=None, level='paid', Churn=1),\n",
       " Row(userId='18', firstname='Adriel', page='NextSong', song=\"What's Up?\", level='paid', Churn=1),\n",
       " Row(userId='18', firstname='Adriel', page='About', song=None, level='paid', Churn=1),\n",
       " Row(userId='18', firstname='Adriel', page='NextSong', song='Turn To Stone', level='paid', Churn=1),\n",
       " Row(userId='18', firstname='Adriel', page='NextSong', song='Crack The Sky (Breakaway)', level='paid', Churn=1),\n",
       " Row(userId='18', firstname='Adriel', page='NextSong', song='Erase / Rewind', level='paid', Churn=1),\n",
       " Row(userId='18', firstname='Adriel', page='NextSong', song='Demon Days', level='paid', Churn=1),\n",
       " Row(userId='18', firstname='Adriel', page='NextSong', song='More Than Words', level='paid', Churn=1),\n",
       " Row(userId='18', firstname='Adriel', page='NextSong', song='Summertime [From Porgy and Bess] (Live 1993 Version)', level='paid', Churn=1),\n",
       " Row(userId='18', firstname='Adriel', page='NextSong', song='La Promesse (Radio Version)', level='paid', Churn=1),\n",
       " Row(userId='18', firstname='Adriel', page='NextSong', song='Alkime', level='paid', Churn=1),\n",
       " Row(userId='18', firstname='Adriel', page='NextSong', song='Out Of The Shadows', level='paid', Churn=1),\n",
       " Row(userId='18', firstname='Adriel', page='NextSong', song='Mere Do Nain', level='paid', Churn=1),\n",
       " Row(userId='18', firstname='Adriel', page='NextSong', song='Canada', level='paid', Churn=1),\n",
       " Row(userId='18', firstname='Adriel', page='NextSong', song='Breathe', level='paid', Churn=1),\n",
       " Row(userId='18', firstname='Adriel', page='NextSong', song='Casiotone Pothole', level='paid', Churn=1),\n",
       " Row(userId='18', firstname='Adriel', page='NextSong', song='We Need Each Other', level='paid', Churn=1),\n",
       " Row(userId='18', firstname='Adriel', page='NextSong', song='Heat Miser', level='paid', Churn=1),\n",
       " Row(userId='18', firstname='Adriel', page='NextSong', song='Beautiful Stranger', level='paid', Churn=1),\n",
       " Row(userId='18', firstname='Adriel', page='NextSong', song='Da Baddest [Feat. Trey Songz] (Explicit Album Version)', level='paid', Churn=1),\n",
       " Row(userId='18', firstname='Adriel', page='NextSong', song='Brain Damage', level='paid', Churn=1),\n",
       " Row(userId='18', firstname='Adriel', page='NextSong', song='Over The Wall', level='paid', Churn=1),\n",
       " Row(userId='18', firstname='Adriel', page='NextSong', song='Bobcat Tracks', level='paid', Churn=1),\n",
       " Row(userId='18', firstname='Adriel', page='NextSong', song='All I Want', level='paid', Churn=1),\n",
       " Row(userId='18', firstname='Adriel', page='NextSong', song='Dog Days Are Over (Radio Edit)', level='paid', Churn=1),\n",
       " Row(userId='18', firstname='Adriel', page='NextSong', song='Prince Caspian', level='paid', Churn=1),\n",
       " Row(userId='18', firstname='Adriel', page='NextSong', song='Mistica', level='paid', Churn=1),\n",
       " Row(userId='18', firstname='Adriel', page='NextSong', song='Better in time', level='paid', Churn=1),\n",
       " Row(userId='18', firstname='Adriel', page='NextSong', song=\"Miner's Night Out\", level='paid', Churn=1),\n",
       " Row(userId='18', firstname='Adriel', page='NextSong', song='Maniac', level='paid', Churn=1),\n",
       " Row(userId='18', firstname='Adriel', page='NextSong', song='Ghosts and Roses', level='paid', Churn=1),\n",
       " Row(userId='18', firstname='Adriel', page='NextSong', song='Sehr kosmisch', level='paid', Churn=1),\n",
       " Row(userId='18', firstname='Adriel', page='NextSong', song='Mockingbird', level='paid', Churn=1),\n",
       " Row(userId='18', firstname='Adriel', page='NextSong', song='La teorÃ\\x83Â\\xada del caos', level='paid', Churn=1),\n",
       " Row(userId='18', firstname='Adriel', page='NextSong', song='Human', level='paid', Churn=1),\n",
       " Row(userId='18', firstname='Adriel', page='NextSong', song='Banned In D.C.', level='paid', Churn=1),\n",
       " Row(userId='18', firstname='Adriel', page='NextSong', song='Forever', level='paid', Churn=1),\n",
       " Row(userId='18', firstname='Adriel', page='NextSong', song='Butterflies and Hurricanes', level='paid', Churn=1),\n",
       " Row(userId='18', firstname='Adriel', page='NextSong', song='Diamonds And Guns (Album Version)', level='paid', Churn=1),\n",
       " Row(userId='18', firstname='Adriel', page='NextSong', song='My Isolation', level='paid', Churn=1),\n",
       " Row(userId='18', firstname='Adriel', page='NextSong', song='Going Down In Flames', level='paid', Churn=1),\n",
       " Row(userId='18', firstname='Adriel', page='NextSong', song='Ignorance (Album Version)', level='paid', Churn=1),\n",
       " Row(userId='18', firstname='Adriel', page='NextSong', song='Dog Days Are Over (Radio Edit)', level='paid', Churn=1),\n",
       " Row(userId='18', firstname='Adriel', page='NextSong', song='Hold Nothing Back', level='paid', Churn=1),\n",
       " Row(userId='18', firstname='Adriel', page='NextSong', song=\"Call Back When I'm Honest\", level='paid', Churn=1),\n",
       " Row(userId='18', firstname='Adriel', page='NextSong', song='Numb (Album Version)', level='paid', Churn=1),\n",
       " Row(userId='18', firstname='Adriel', page='NextSong', song='The End', level='paid', Churn=1),\n",
       " Row(userId='18', firstname='Adriel', page='NextSong', song=\"Mr. Highway's Thinking About The End\", level='paid', Churn=1),\n",
       " Row(userId='18', firstname='Adriel', page='NextSong', song='Torment of the Metals', level='paid', Churn=1),\n",
       " Row(userId='18', firstname='Adriel', page='Logout', song=None, level='paid', Churn=1),\n",
       " Row(userId='18', firstname='Adriel', page='Home', song=None, level='paid', Churn=1),\n",
       " Row(userId='18', firstname='Adriel', page='Logout', song=None, level='paid', Churn=1),\n",
       " Row(userId='18', firstname='Adriel', page='Home', song=None, level='paid', Churn=1),\n",
       " Row(userId='18', firstname='Adriel', page='NextSong', song='Digimortal (Album Version)', level='paid', Churn=1),\n",
       " Row(userId='18', firstname='Adriel', page='NextSong', song='So It Goes', level='paid', Churn=1),\n",
       " Row(userId='18', firstname='Adriel', page='NextSong', song='Caridad', level='paid', Churn=1),\n",
       " Row(userId='18', firstname='Adriel', page='NextSong', song='The Bachelor and the Bride', level='paid', Churn=1),\n",
       " Row(userId='18', firstname='Adriel', page='NextSong', song=\"You Know You're Right\", level='paid', Churn=1),\n",
       " Row(userId='18', firstname='Adriel', page='NextSong', song='Frases Mudas', level='paid', Churn=1),\n",
       " Row(userId='18', firstname='Adriel', page='NextSong', song='Blame It', level='paid', Churn=1),\n",
       " Row(userId='18', firstname='Adriel', page='NextSong', song='Infected', level='paid', Churn=1),\n",
       " Row(userId='18', firstname='Adriel', page='NextSong', song='The Tempest (album version)', level='paid', Churn=1),\n",
       " Row(userId='18', firstname='Adriel', page='NextSong', song=\"Don't Be On With Her\", level='paid', Churn=1),\n",
       " Row(userId='18', firstname='Adriel', page='NextSong', song='Canos', level='paid', Churn=1),\n",
       " Row(userId='18', firstname='Adriel', page='NextSong', song='Beautiful Stranger', level='paid', Churn=1),\n",
       " Row(userId='18', firstname='Adriel', page='NextSong', song=\"Gimme Some Lovin'\", level='paid', Churn=1),\n",
       " Row(userId='18', firstname='Adriel', page='NextSong', song='Sweet Home Chicago', level='paid', Churn=1),\n",
       " Row(userId='18', firstname='Adriel', page='NextSong', song='Mr. Soul', level='paid', Churn=1),\n",
       " Row(userId='18', firstname='Adriel', page='NextSong', song='Dog Days Are Over (Radio Edit)', level='paid', Churn=1),\n",
       " Row(userId='18', firstname='Adriel', page='NextSong', song='Lock & Chain', level='paid', Churn=1),\n",
       " Row(userId='18', firstname='Adriel', page='NextSong', song='O Death', level='paid', Churn=1),\n",
       " Row(userId='18', firstname='Adriel', page='NextSong', song='I Like Me', level='paid', Churn=1),\n",
       " Row(userId='18', firstname='Adriel', page='NextSong', song='All We Ever Do Is Say Goodbye', level='paid', Churn=1),\n",
       " Row(userId='18', firstname='Adriel', page='Add to Playlist', song=None, level='paid', Churn=1),\n",
       " Row(userId='18', firstname='Adriel', page='NextSong', song='2-1', level='paid', Churn=1),\n",
       " Row(userId='18', firstname='Adriel', page='Add to Playlist', song=None, level='paid', Churn=1),\n",
       " Row(userId='18', firstname='Adriel', page='NextSong', song='Always On My Mind (Album Version)', level='paid', Churn=1),\n",
       " Row(userId='18', firstname='Adriel', page='NextSong', song='Ses Monuments', level='paid', Churn=1),\n",
       " Row(userId='18', firstname='Adriel', page='NextSong', song='I Stand Corrected (Album)', level='paid', Churn=1),\n",
       " Row(userId='18', firstname='Adriel', page='NextSong', song='Halcyon', level='paid', Churn=1),\n",
       " Row(userId='18', firstname='Adriel', page='NextSong', song=\"Cheers Darlin'\", level='paid', Churn=1),\n",
       " Row(userId='18', firstname='Adriel', page='Add Friend', song=None, level='paid', Churn=1),\n",
       " Row(userId='18', firstname='Adriel', page='NextSong', song=\"I'm Missing Her\", level='paid', Churn=1),\n",
       " Row(userId='18', firstname='Adriel', page='Home', song=None, level='paid', Churn=1),\n",
       " Row(userId='18', firstname='Adriel', page='NextSong', song='Thou Shalt Always Kill', level='paid', Churn=1),\n",
       " Row(userId='18', firstname='Adriel', page='NextSong', song='Blue Eyes Crying in the Rain (Album Version)', level='paid', Churn=1),\n",
       " Row(userId='18', firstname='Adriel', page='NextSong', song='What We Do (Explicit) (Feat. Memphis Bleek)', level='paid', Churn=1),\n",
       " Row(userId='18', firstname='Adriel', page='NextSong', song='More Than Words', level='paid', Churn=1),\n",
       " Row(userId='18', firstname='Adriel', page='NextSong', song='Dominoid (Panty Sniffer Mix)', level='paid', Churn=1),\n",
       " Row(userId='18', firstname='Adriel', page='NextSong', song='Just Dance', level='paid', Churn=1),\n",
       " Row(userId='18', firstname='Adriel', page='NextSong', song='Undo', level='paid', Churn=1),\n",
       " Row(userId='18', firstname='Adriel', page='NextSong', song='Vanished', level='paid', Churn=1),\n",
       " Row(userId='18', firstname='Adriel', page='NextSong', song='Revelry', level='paid', Churn=1),\n",
       " Row(userId='18', firstname='Adriel', page='NextSong', song=\"Ghosts 'n' Stuff (Original Instrumental Mix)\", level='paid', Churn=1),\n",
       " Row(userId='18', firstname='Adriel', page='NextSong', song='I Feel So Fine ', level='paid', Churn=1),\n",
       " Row(userId='18', firstname='Adriel', page='NextSong', song=\"It's My Own Fault\", level='paid', Churn=1),\n",
       " Row(userId='18', firstname='Adriel', page='NextSong', song='December flow', level='paid', Churn=1),\n",
       " Row(userId='18', firstname='Adriel', page='NextSong', song='Rhinestone Eyes', level='paid', Churn=1),\n",
       " Row(userId='18', firstname='Adriel', page='NextSong', song='Make Love To Your Mind', level='paid', Churn=1),\n",
       " Row(userId='18', firstname='Adriel', page='NextSong', song='Losing Touch', level='paid', Churn=1),\n",
       " Row(userId='18', firstname='Adriel', page='Add to Playlist', song=None, level='paid', Churn=1),\n",
       " Row(userId='18', firstname='Adriel', page='NextSong', song='All Over You (2007 Digital Remaster)', level='paid', Churn=1),\n",
       " Row(userId='18', firstname='Adriel', page='NextSong', song='Walking On The Moon', level='paid', Churn=1),\n",
       " Row(userId='18', firstname='Adriel', page='Add Friend', song=None, level='paid', Churn=1),\n",
       " Row(userId='18', firstname='Adriel', page='Add Friend', song=None, level='paid', Churn=1),\n",
       " Row(userId='18', firstname='Adriel', page='NextSong', song=\"Muscle'n Flo\", level='paid', Churn=1),\n",
       " Row(userId='18', firstname='Adriel', page='NextSong', song='Pursuit Of Happiness (nightmare)', level='paid', Churn=1),\n",
       " Row(userId='18', firstname='Adriel', page='NextSong', song='If I', level='paid', Churn=1),\n",
       " Row(userId='18', firstname='Adriel', page='NextSong', song='Sparks', level='paid', Churn=1),\n",
       " Row(userId='18', firstname='Adriel', page='NextSong', song='Rain & Snow', level='paid', Churn=1),\n",
       " Row(userId='18', firstname='Adriel', page='NextSong', song=\"Build God_ Then We'll Talk (Album Version)\", level='paid', Churn=1),\n",
       " Row(userId='18', firstname='Adriel', page='NextSong', song='Drop The World', level='paid', Churn=1),\n",
       " Row(userId='18', firstname='Adriel', page='NextSong', song='Transistor Radio', level='paid', Churn=1),\n",
       " Row(userId='18', firstname='Adriel', page='NextSong', song='April And The Phantom', level='paid', Churn=1),\n",
       " Row(userId='18', firstname='Adriel', page='Thumbs Up', song=None, level='paid', Churn=1),\n",
       " Row(userId='18', firstname='Adriel', page='NextSong', song='May The Words Of My Mouth', level='paid', Churn=1),\n",
       " Row(userId='18', firstname='Adriel', page='NextSong', song='PROTECTED WORLD', level='paid', Churn=1),\n",
       " Row(userId='18', firstname='Adriel', page='NextSong', song='Exit Music (For A Film)', level='paid', Churn=1),\n",
       " Row(userId='18', firstname='Adriel', page='NextSong', song='Love Missile F1-11', level='paid', Churn=1),\n",
       " Row(userId='18', firstname='Adriel', page='NextSong', song=\"Floatin' Safari\", level='paid', Churn=1),\n",
       " Row(userId='18', firstname='Adriel', page='NextSong', song='Carmensita', level='paid', Churn=1),\n",
       " Row(userId='18', firstname='Adriel', page='NextSong', song='The Truth', level='paid', Churn=1),\n",
       " Row(userId='18', firstname='Adriel', page='NextSong', song='An Unsavoury Urge', level='paid', Churn=1),\n",
       " Row(userId='18', firstname='Adriel', page='NextSong', song='Hey There Delilah', level='paid', Churn=1),\n",
       " Row(userId='18', firstname='Adriel', page='NextSong', song='My Spine (Is The Bass Line)', level='paid', Churn=1),\n",
       " Row(userId='18', firstname='Adriel', page='NextSong', song='Selkies: The Endless Obsession (Album Version)', level='paid', Churn=1),\n",
       " Row(userId='18', firstname='Adriel', page='NextSong', song='Bring Me To Life', level='paid', Churn=1),\n",
       " Row(userId='18', firstname='Adriel', page='NextSong', song='Everybody Know Me (Amended Album Version)', level='paid', Churn=1),\n",
       " Row(userId='18', firstname='Adriel', page='Home', song=None, level='paid', Churn=1),\n",
       " Row(userId='18', firstname='Adriel', page='NextSong', song='Only The Lonely (Know The Way I Feel)', level='paid', Churn=1),\n",
       " Row(userId='18', firstname='Adriel', page='NextSong', song='Superfly (LP Version)', level='paid', Churn=1),\n",
       " Row(userId='18', firstname='Adriel', page='NextSong', song='Can We Fix It ?', level='paid', Churn=1),\n",
       " Row(userId='18', firstname='Adriel', page='Thumbs Up', song=None, level='paid', Churn=1),\n",
       " Row(userId='18', firstname='Adriel', page='NextSong', song='Explosive', level='paid', Churn=1),\n",
       " Row(userId='18', firstname='Adriel', page='NextSong', song='Epilogue', level='paid', Churn=1),\n",
       " Row(userId='18', firstname='Adriel', page='NextSong', song='Deathly', level='paid', Churn=1),\n",
       " Row(userId='18', firstname='Adriel', page='NextSong', song='Found Home', level='paid', Churn=1),\n",
       " Row(userId='18', firstname='Adriel', page='NextSong', song='Free Love', level='paid', Churn=1),\n",
       " Row(userId='18', firstname='Adriel', page='NextSong', song='This Close', level='paid', Churn=1),\n",
       " Row(userId='18', firstname='Adriel', page='Downgrade', song=None, level='paid', Churn=1),\n",
       " Row(userId='18', firstname='Adriel', page='NextSong', song='How You Like Me Now?', level='paid', Churn=1),\n",
       " Row(userId='18', firstname='Adriel', page='Add Friend', song=None, level='paid', Churn=1),\n",
       " Row(userId='18', firstname='Adriel', page='NextSong', song='Absolute Affirmation', level='paid', Churn=1),\n",
       " Row(userId='18', firstname='Adriel', page='NextSong', song='Revelry', level='paid', Churn=1),\n",
       " Row(userId='18', firstname='Adriel', page='NextSong', song='Everytime', level='paid', Churn=1),\n",
       " Row(userId='18', firstname='Adriel', page='NextSong', song='Jailhouse Rock', level='paid', Churn=1),\n",
       " Row(userId='18', firstname='Adriel', page='NextSong', song='Therapie In De Nachtlucht', level='paid', Churn=1),\n",
       " Row(userId='18', firstname='Adriel', page='NextSong', song='Interstate 8', level='paid', Churn=1),\n",
       " Row(userId='18', firstname='Adriel', page='Thumbs Up', song=None, level='paid', Churn=1),\n",
       " Row(userId='18', firstname='Adriel', page='NextSong', song=\"You've Got The Love\", level='paid', Churn=1),\n",
       " Row(userId='18', firstname='Adriel', page='NextSong', song='Changes', level='paid', Churn=1),\n",
       " Row(userId='18', firstname='Adriel', page='NextSong', song='Quiero', level='paid', Churn=1),\n",
       " Row(userId='18', firstname='Adriel', page='NextSong', song='Once In A Lifetime', level='paid', Churn=1),\n",
       " Row(userId='18', firstname='Adriel', page='Thumbs Up', song=None, level='paid', Churn=1),\n",
       " Row(userId='18', firstname='Adriel', page='NextSong', song='SinceritÃ\\x83Â© Et Jalousie', level='paid', Churn=1),\n",
       " Row(userId='18', firstname='Adriel', page='Add to Playlist', song=None, level='paid', Churn=1),\n",
       " Row(userId='18', firstname='Adriel', page='NextSong', song=\"Runnin'\", level='paid', Churn=1),\n",
       " Row(userId='18', firstname='Adriel', page='NextSong', song='Catch You Baby (Steve Pitron & Max Sanna Radio Edit)', level='paid', Churn=1),\n",
       " Row(userId='18', firstname='Adriel', page='NextSong', song='People Get Ready', level='paid', Churn=1),\n",
       " Row(userId='18', firstname='Adriel', page='Help', song=None, level='paid', Churn=1),\n",
       " Row(userId='18', firstname='Adriel', page='NextSong', song='Ddiamondd', level='paid', Churn=1),\n",
       " Row(userId='18', firstname='Adriel', page='Home', song=None, level='paid', Churn=1),\n",
       " Row(userId='18', firstname='Adriel', page='NextSong', song='Blue Sky (Album)', level='paid', Churn=1),\n",
       " Row(userId='18', firstname='Adriel', page='NextSong', song='Billionaire [feat. Bruno Mars]  (Explicit Album Version)', level='paid', Churn=1),\n",
       " Row(userId='18', firstname='Adriel', page='NextSong', song=\"Is It The Skin I'm In?\", level='paid', Churn=1),\n",
       " Row(userId='18', firstname='Adriel', page='NextSong', song='The Mountains Win Again', level='paid', Churn=1),\n",
       " Row(userId='18', firstname='Adriel', page='NextSong', song='I Want A Little Sugar In My Bowl', level='paid', Churn=1),\n",
       " Row(userId='18', firstname='Adriel', page='NextSong', song='Ona Kasuita', level='paid', Churn=1),\n",
       " Row(userId='18', firstname='Adriel', page='NextSong', song='I Speak Because I Can', level='paid', Churn=1),\n",
       " Row(userId='18', firstname='Adriel', page='NextSong', song='Bulldozer (Hellalive) (Album Version)', level='paid', Churn=1),\n",
       " Row(userId='18', firstname='Adriel', page='Thumbs Up', song=None, level='paid', Churn=1),\n",
       " Row(userId='18', firstname='Adriel', page='NextSong', song='Dressed For Friend Requests (Album Version)', level='paid', Churn=1),\n",
       " Row(userId='18', firstname='Adriel', page='NextSong', song='Congratulations', level='paid', Churn=1),\n",
       " Row(userId='18', firstname='Adriel', page='NextSong', song='Dogs Are Everywhere', level='paid', Churn=1),\n",
       " Row(userId='18', firstname='Adriel', page='NextSong', song='Bukowski', level='paid', Churn=1),\n",
       " Row(userId='18', firstname='Adriel', page='NextSong', song='Good Life', level='paid', Churn=1),\n",
       " Row(userId='18', firstname='Adriel', page='NextSong', song='Sand & Ice (Bonus Track)', level='paid', Churn=1),\n",
       " Row(userId='18', firstname='Adriel', page='NextSong', song=\"It Don't Have To Change\", level='paid', Churn=1),\n",
       " Row(userId='18', firstname='Adriel', page='NextSong', song='I Can Feel A Hot One', level='paid', Churn=1),\n",
       " Row(userId='18', firstname='Adriel', page='NextSong', song='Home', level='paid', Churn=1),\n",
       " Row(userId='18', firstname='Adriel', page='NextSong', song='Black & White', level='paid', Churn=1),\n",
       " Row(userId='18', firstname='Adriel', page='NextSong', song='The Hardest Button To Button', level='paid', Churn=1),\n",
       " Row(userId='18', firstname='Adriel', page='Home', song=None, level='paid', Churn=1),\n",
       " Row(userId='18', firstname='Adriel', page='NextSong', song=\"Tell You Something (Nana's Reprise)\", level='paid', Churn=1),\n",
       " Row(userId='18', firstname='Adriel', page='NextSong', song='Against The Peruvian Monster', level='paid', Churn=1),\n",
       " Row(userId='18', firstname='Adriel', page='NextSong', song='Costume Party', level='paid', Churn=1),\n",
       " Row(userId='18', firstname='Adriel', page='Thumbs Up', song=None, level='paid', Churn=1),\n",
       " Row(userId='18', firstname='Adriel', page='NextSong', song='0010', level='paid', Churn=1),\n",
       " Row(userId='18', firstname='Adriel', page='Add to Playlist', song=None, level='paid', Churn=1),\n",
       " Row(userId='18', firstname='Adriel', page='NextSong', song='Beautiful Stranger', level='paid', Churn=1),\n",
       " Row(userId='18', firstname='Adriel', page='NextSong', song='Bent (LP Version)', level='paid', Churn=1),\n",
       " Row(userId='18', firstname='Adriel', page='NextSong', song='Purple Weed', level='paid', Churn=1),\n",
       " Row(userId='18', firstname='Adriel', page='NextSong', song='Womanopoly', level='paid', Churn=1),\n",
       " Row(userId='18', firstname='Adriel', page='NextSong', song='Beba', level='paid', Churn=1),\n",
       " Row(userId='18', firstname='Adriel', page='NextSong', song='Run Me Down', level='paid', Churn=1),\n",
       " Row(userId='18', firstname='Adriel', page='NextSong', song='Tanz', level='paid', Churn=1),\n",
       " Row(userId='18', firstname='Adriel', page='NextSong', song='Wake For Young Souls', level='paid', Churn=1),\n",
       " Row(userId='18', firstname='Adriel', page='NextSong', song='I Am Not a Robot', level='paid', Churn=1),\n",
       " Row(userId='18', firstname='Adriel', page='NextSong', song=\"Prostitution Is The World's Oldest Profession [and I_ Dear Madame_ Am A Professional] (Album Version)\", level='paid', Churn=1),\n",
       " Row(userId='18', firstname='Adriel', page='NextSong', song='Real World', level='paid', Churn=1),\n",
       " Row(userId='18', firstname='Adriel', page='Settings', song=None, level='paid', Churn=1),\n",
       " Row(userId='18', firstname='Adriel', page='Save Settings', song=None, level='paid', Churn=1),\n",
       " Row(userId='18', firstname='Adriel', page='Home', song=None, level='paid', Churn=1),\n",
       " Row(userId='18', firstname='Adriel', page='Add Friend', song=None, level='paid', Churn=1),\n",
       " Row(userId='18', firstname='Adriel', page='NextSong', song='The Golden Day Is Dying', level='paid', Churn=1),\n",
       " Row(userId='18', firstname='Adriel', page='NextSong', song='Do You Believe', level='paid', Churn=1),\n",
       " Row(userId='18', firstname='Adriel', page='NextSong', song='Baby Boy [feat. Beyonce]', level='paid', Churn=1),\n",
       " Row(userId='18', firstname='Adriel', page='NextSong', song='Bad Best Friend', level='paid', Churn=1),\n",
       " Row(userId='18', firstname='Adriel', page='NextSong', song='Reppin Da Soufside (w/Flatline) (Chopped & Screwed Version)', level='paid', Churn=1),\n",
       " Row(userId='18', firstname='Adriel', page='NextSong', song='The Hudson', level='paid', Churn=1),\n",
       " Row(userId='18', firstname='Adriel', page='Add to Playlist', song=None, level='paid', Churn=1),\n",
       " Row(userId='18', firstname='Adriel', page='NextSong', song='Where The Birds Always Sing', level='paid', Churn=1),\n",
       " Row(userId='18', firstname='Adriel', page='NextSong', song='Some Girls Are Bigger Than Others', level='paid', Churn=1),\n",
       " Row(userId='18', firstname='Adriel', page='NextSong', song='I Stand Alone', level='paid', Churn=1),\n",
       " Row(userId='18', firstname='Adriel', page='NextSong', song='Hunters Of The Sky (Album Version)', level='paid', Churn=1),\n",
       " Row(userId='18', firstname='Adriel', page='NextSong', song='Te ExtraÃ\\x83Â±o', level='paid', Churn=1),\n",
       " Row(userId='18', firstname='Adriel', page='NextSong', song='Sleepyhead', level='paid', Churn=1),\n",
       " Row(userId='18', firstname='Adriel', page='NextSong', song='Au fur et Ã\\x83Â\\xa0 mesure (live)', level='paid', Churn=1),\n",
       " Row(userId='18', firstname='Adriel', page='NextSong', song='Hold Me_ Thrill Me_ Kiss Me_ Kill Me', level='paid', Churn=1),\n",
       " Row(userId='18', firstname='Adriel', page='Thumbs Down', song=None, level='paid', Churn=1),\n",
       " Row(userId='18', firstname='Adriel', page='NextSong', song='Face To Face', level='paid', Churn=1),\n",
       " Row(userId='18', firstname='Adriel', page='NextSong', song=\"When I Get Home You're So Dead (New Version) (Album)\", level='paid', Churn=1),\n",
       " Row(userId='18', firstname='Adriel', page='NextSong', song='Shine Shine', level='paid', Churn=1),\n",
       " Row(userId='18', firstname='Adriel', page='NextSong', song=\"I Don't Need A Man\", level='paid', Churn=1),\n",
       " Row(userId='18', firstname='Adriel', page='NextSong', song='Satta Amasa Gana', level='paid', Churn=1),\n",
       " Row(userId='18', firstname='Adriel', page='NextSong', song='House Of Broken Love', level='paid', Churn=1),\n",
       " Row(userId='18', firstname='Adriel', page='NextSong', song='Crack A Bottle', level='paid', Churn=1),\n",
       " Row(userId='18', firstname='Adriel', page='NextSong', song='Corynorhinus', level='paid', Churn=1),\n",
       " Row(userId='18', firstname='Adriel', page='NextSong', song='Finished Symphony', level='paid', Churn=1),\n",
       " Row(userId='18', firstname='Adriel', page='Thumbs Up', song=None, level='paid', Churn=1),\n",
       " Row(userId='18', firstname='Adriel', page='NextSong', song='Lets Get Lost', level='paid', Churn=1),\n",
       " Row(userId='18', firstname='Adriel', page='Settings', song=None, level='paid', Churn=1),\n",
       " Row(userId='18', firstname='Adriel', page='NextSong', song='Murderers (Album Version)', level='paid', Churn=1),\n",
       " Row(userId='18', firstname='Adriel', page='NextSong', song='All I Ever Wanted', level='paid', Churn=1),\n",
       " Row(userId='18', firstname='Adriel', page='NextSong', song='My All', level='paid', Churn=1),\n",
       " Row(userId='18', firstname='Adriel', page='NextSong', song='Naive', level='paid', Churn=1),\n",
       " Row(userId='18', firstname='Adriel', page='NextSong', song='Land Of Confusion', level='paid', Churn=1),\n",
       " Row(userId='18', firstname='Adriel', page='NextSong', song='Drunk On Love', level='paid', Churn=1),\n",
       " Row(userId='18', firstname='Adriel', page='NextSong', song='Tighten Up', level='paid', Churn=1),\n",
       " Row(userId='18', firstname='Adriel', page='NextSong', song='Que Triste Es Decir Adios', level='paid', Churn=1),\n",
       " Row(userId='18', firstname='Adriel', page='NextSong', song=\"At Mourning's Twilight\", level='paid', Churn=1),\n",
       " Row(userId='18', firstname='Adriel', page='Downgrade', song=None, level='paid', Churn=1),\n",
       " Row(userId='18', firstname='Adriel', page='Logout', song=None, level='paid', Churn=1),\n",
       " Row(userId='18', firstname='Adriel', page='Home', song=None, level='paid', Churn=1),\n",
       " Row(userId='18', firstname='Adriel', page='NextSong', song='Superballs', level='paid', Churn=1),\n",
       " Row(userId='18', firstname='Adriel', page='NextSong', song=\"Ain't Misbehavin\", level='paid', Churn=1),\n",
       " Row(userId='18', firstname='Adriel', page='NextSong', song='This War Is Ours (The Guillotine II)', level='paid', Churn=1),\n",
       " Row(userId='18', firstname='Adriel', page='NextSong', song='Sweet Emotion', level='paid', Churn=1),\n",
       " Row(userId='18', firstname='Adriel', page='NextSong', song='We Deal In Dreams', level='paid', Churn=1),\n",
       " Row(userId='18', firstname='Adriel', page='NextSong', song='Corynorhinus', level='paid', Churn=1),\n",
       " Row(userId='18', firstname='Adriel', page='NextSong', song='Simarik', level='paid', Churn=1),\n",
       " Row(userId='18', firstname='Adriel', page='NextSong', song='Hush Hush', level='paid', Churn=1),\n",
       " Row(userId='18', firstname='Adriel', page='NextSong', song='Cathar Rhythm', level='paid', Churn=1),\n",
       " Row(userId='18', firstname='Adriel', page='Home', song=None, level='paid', Churn=1),\n",
       " Row(userId='18', firstname='Adriel', page='NextSong', song='Stars', level='paid', Churn=1),\n",
       " Row(userId='18', firstname='Adriel', page='NextSong', song=\"Walkin' Blues\", level='paid', Churn=1),\n",
       " Row(userId='18', firstname='Adriel', page='NextSong', song='Kalidafun Parts 1&2', level='paid', Churn=1),\n",
       " Row(userId='18', firstname='Adriel', page='NextSong', song='The Fragile', level='paid', Churn=1),\n",
       " Row(userId='18', firstname='Adriel', page='NextSong', song=\"You're The One\", level='paid', Churn=1),\n",
       " Row(userId='18', firstname='Adriel', page='Add Friend', song=None, level='paid', Churn=1),\n",
       " Row(userId='18', firstname='Adriel', page='NextSong', song='Next Girl', level='paid', Churn=1),\n",
       " Row(userId='18', firstname='Adriel', page='NextSong', song='You Give Love A Bad Name', level='paid', Churn=1),\n",
       " Row(userId='18', firstname='Adriel', page='NextSong', song='Here I Go Again', level='paid', Churn=1),\n",
       " Row(userId='18', firstname='Adriel', page='Thumbs Up', song=None, level='paid', Churn=1),\n",
       " Row(userId='18', firstname='Adriel', page='NextSong', song=\"True Men Don't Kill Coyotes (24-Bit Digitally Remastered 02)\", level='paid', Churn=1),\n",
       " Row(userId='18', firstname='Adriel', page='NextSong', song='Killboy Powerhead', level='paid', Churn=1),\n",
       " Row(userId='18', firstname='Adriel', page='NextSong', song='Calico', level='paid', Churn=1),\n",
       " Row(userId='18', firstname='Adriel', page='NextSong', song='Intermission 1', level='paid', Churn=1),\n",
       " Row(userId='18', firstname='Adriel', page='NextSong', song='Ms. Jackson', level='paid', Churn=1),\n",
       " Row(userId='18', firstname='Adriel', page='NextSong', song='Picture', level='paid', Churn=1),\n",
       " Row(userId='18', firstname='Adriel', page='NextSong', song='The Fight Song', level='paid', Churn=1),\n",
       " Row(userId='18', firstname='Adriel', page='NextSong', song='Take Me As I Am', level='paid', Churn=1),\n",
       " Row(userId='18', firstname='Adriel', page='NextSong', song='Reclaimer', level='paid', Churn=1),\n",
       " Row(userId='18', firstname='Adriel', page='NextSong', song='Playground Love', level='paid', Churn=1),\n",
       " Row(userId='18', firstname='Adriel', page='NextSong', song='Blue In Green', level='paid', Churn=1),\n",
       " Row(userId='18', firstname='Adriel', page='NextSong', song='OMG', level='paid', Churn=1),\n",
       " Row(userId='18', firstname='Adriel', page='NextSong', song='Far Away (Album Version)', level='paid', Churn=1),\n",
       " Row(userId='18', firstname='Adriel', page='NextSong', song='Liar', level='paid', Churn=1),\n",
       " Row(userId='18', firstname='Adriel', page='NextSong', song='Blood On Your Hands', level='paid', Churn=1),\n",
       " Row(userId='18', firstname='Adriel', page='NextSong', song='Pas bien', level='paid', Churn=1),\n",
       " Row(userId='18', firstname='Adriel', page='NextSong', song='Nasty Girl (Featuring Diddy_ Nelly_ Jagged Edge and Avery Storm) (Explicit Album Version)', level='paid', Churn=1),\n",
       " Row(userId='18', firstname='Adriel', page='NextSong', song='Someday', level='paid', Churn=1),\n",
       " Row(userId='18', firstname='Adriel', page='Downgrade', song=None, level='paid', Churn=1),\n",
       " Row(userId='18', firstname='Adriel', page='Cancel', song=None, level='paid', Churn=1),\n",
       " Row(userId='18', firstname='Adriel', page='Cancellation Confirmation', song=None, level='paid', Churn=1)]"
      ]
     },
     "execution_count": 23,
     "metadata": {},
     "output_type": "execute_result"
    }
   ],
   "source": [
    "df.select('userId', 'firstname', 'page', 'song', 'level', 'Churn').where(df.userId=='18').collect()"
   ]
  },
  {
   "cell_type": "markdown",
   "metadata": {},
   "source": [
    "##### Define downgrade user"
   ]
  },
  {
   "cell_type": "code",
   "execution_count": 9,
   "metadata": {},
   "outputs": [
    {
     "data": {
      "text/plain": [
       "Row(artist='Martha Tilston', auth='Logged In', firstName='Colin', gender='M', itemInSession=50, lastName='Freeman', length=277.89016, level='paid', location='Bakersfield, CA', method='PUT', page='NextSong', registration=1538173362000, sessionId=29, song='Rockpools', status=200, ts=1538352117000, userAgent='Mozilla/5.0 (Windows NT 6.1; WOW64; rv:31.0) Gecko/20100101 Firefox/31.0', userId='30', Churn=0, Downgrade=1)"
      ]
     },
     "execution_count": 9,
     "metadata": {},
     "output_type": "execute_result"
    }
   ],
   "source": [
    "down_lst = []\n",
    "down_user = df.select('userId').filter(df.page==\"Downgrade\").collect()\n",
    "for i in range(len(down_user)):\n",
    "    down_lst.append(down_user[i][0])\n",
    "down = udf(lambda x: 1 if x in down_lst else 0, IntegerType())\n",
    "df = df.withColumn('Downgrade', down(df.userId))\n",
    "df.head()"
   ]
  },
  {
   "cell_type": "code",
   "execution_count": 10,
   "metadata": {},
   "outputs": [
    {
     "name": "stdout",
     "output_type": "stream",
     "text": [
      "+---------+-----+\n",
      "|Downgrade|count|\n",
      "+---------+-----+\n",
      "|        1|  154|\n",
      "|        0|   71|\n",
      "+---------+-----+\n",
      "\n"
     ]
    }
   ],
   "source": [
    "df.select('userId', 'Downgrade').dropDuplicates().groupBy('Downgrade').count().show()"
   ]
  },
  {
   "cell_type": "code",
   "execution_count": 11,
   "metadata": {},
   "outputs": [
    {
     "data": {
      "image/png": "[encoded data removed]",
      "text/plain": [
       "<matplotlib.figure.Figure at 0x7f39093e3358>"
      ]
     },
     "metadata": {
      "needs_background": "light"
     },
     "output_type": "display_data"
    }
   ],
   "source": [
    "downgrade_pd = df.select('userId', 'Downgrade').dropDuplicates().groupBy('Downgrade').count().toPandas()\n",
    "downgrade_pd.Downgrade = downgrade_pd.Downgrade.apply(lambda x: \"Downgrade\" if x==1 else \"Non-Downgrade\")\n",
    "sns.barplot(x=\"Downgrade\", y=\"count\", data=downgrade_pd)\n",
    "plt.title(\"The Downgrade User Vs Non-Downgrade User\", fontsize=15)\n",
    "plt.xlabel(\"Groups\", fontsize=12)\n",
    "plt.ylabel(\"Count\", fontsize=12);"
   ]
  },
  {
   "cell_type": "code",
   "execution_count": 12,
   "metadata": {},
   "outputs": [
    {
     "name": "stdout",
     "output_type": "stream",
     "text": [
      "154 71\n"
     ]
    }
   ],
   "source": [
    "downgrade_number = downgrade_pd.loc[downgrade_pd.Downgrade==\"Downgrade\", \"count\"][0]\n",
    "non_downgrade_number = downgrade_pd.loc[downgrade_pd.Downgrade==\"Non-Downgrade\", \"count\"][1]\n",
    "print(downgrade_number, non_downgrade_number)"
   ]
  },
  {
   "cell_type": "markdown",
   "metadata": {},
   "source": [
    "##### Define year, month, day, hour , active_time for each user"
   ]
  },
  {
   "cell_type": "code",
   "execution_count": 13,
   "metadata": {},
   "outputs": [
    {
     "data": {
      "text/plain": [
       "Row(artist='Martha Tilston', auth='Logged In', firstName='Colin', gender='M', itemInSession=50, lastName='Freeman', length=277.89016, level='paid', location='Bakersfield, CA', method='PUT', page='NextSong', registration=1538173362000, sessionId=29, song='Rockpools', status=200, ts=1538352117000, userAgent='Mozilla/5.0 (Windows NT 6.1; WOW64; rv:31.0) Gecko/20100101 Firefox/31.0', userId='30', Churn=0, Downgrade=1, year=2018, month=10, day=1, hour=0)"
      ]
     },
     "execution_count": 13,
     "metadata": {},
     "output_type": "execute_result"
    }
   ],
   "source": [
    "get_year = udf(lambda x: datetime.datetime.fromtimestamp(x/1000.0).year, IntegerType())\n",
    "get_month = udf(lambda x: datetime.datetime.fromtimestamp(x/1000.0).month, IntegerType())\n",
    "get_day = udf(lambda x: datetime.datetime.fromtimestamp(x/1000.0).day, IntegerType())\n",
    "get_hour = udf(lambda x: datetime.datetime.fromtimestamp(x/1000.0).hour, IntegerType())\n",
    "\n",
    "df = df.withColumn('year', get_year(df.ts))\n",
    "df = df.withColumn('month', get_month(df.ts))\n",
    "df = df.withColumn('day', get_day(df.ts))\n",
    "df = df.withColumn('hour', get_hour(df.ts))\n",
    "\n",
    "df.head()"
   ]
  },
  {
   "cell_type": "code",
   "execution_count": 14,
   "metadata": {},
   "outputs": [
    {
     "name": "stdout",
     "output_type": "stream",
     "text": [
      "+-------+-----------------+------------------+------------------+------+\n",
      "|summary|             hour|               day|             month|  year|\n",
      "+-------+-----------------+------------------+------------------+------+\n",
      "|  count|           278154|            278154|            278154|278154|\n",
      "|   mean|12.20457372534639|15.793574782314833|10.479022412045126|2018.0|\n",
      "| stddev|6.865469990132577| 8.926525825029135|0.4995894305896185|   0.0|\n",
      "|    min|                0|                 1|                10|  2018|\n",
      "|    max|               23|                31|                12|  2018|\n",
      "+-------+-----------------+------------------+------------------+------+\n",
      "\n"
     ]
    }
   ],
   "source": [
    "df.describe(['hour', 'day', 'month', 'year']).show()"
   ]
  },
  {
   "cell_type": "markdown",
   "metadata": {},
   "source": [
    "观察到数据来源于2018年10月1日至12月31日"
   ]
  },
  {
   "cell_type": "markdown",
   "metadata": {},
   "source": [
    "### 留存用户与流失用户组之间比较"
   ]
  },
  {
   "cell_type": "markdown",
   "metadata": {},
   "source": [
    "##### 活跃时间比较"
   ]
  },
  {
   "cell_type": "code",
   "execution_count": 15,
   "metadata": {},
   "outputs": [
    {
     "name": "stdout",
     "output_type": "stream",
     "text": [
      "+-----+------------------+\n",
      "|Churn|    avg(range_day)|\n",
      "+-----+------------------+\n",
      "|    1|23.134615384615383|\n",
      "|    0| 46.52023121387283|\n",
      "+-----+------------------+\n",
      "\n"
     ]
    }
   ],
   "source": [
    "range_day = udf(lambda x: datetime.timedelta(0, x/1000.0).days, IntegerType())\n",
    "df_time_range = df.select('userId', 'ts').groupBy('userId').agg(max(col('ts'))-min(col('ts')))\n",
    "df_time_range = df_time_range.withColumn('range_day', range_day(df_time_range['(max(ts) - min(ts))']))\n",
    "df_time_range = df_time_range.withColumn('Churn', churn(df_time_range.userId))\n",
    "df_time_range.groupBy('Churn').agg(avg(col('range_day'))).show()"
   ]
  },
  {
   "cell_type": "markdown",
   "metadata": {},
   "source": [
    "用户平均活跃时间（天）："
   ]
  },
  {
   "cell_type": "code",
   "execution_count": 16,
   "metadata": {},
   "outputs": [
    {
     "data": {
      "text/plain": [
       "41.11555555555555"
      ]
     },
     "execution_count": 16,
     "metadata": {},
     "output_type": "execute_result"
    }
   ],
   "source": [
    "avg_time = df_time_range.select('range_day').agg(avg('range_day')).collect()[0][0]\n",
    "avg_time"
   ]
  },
  {
   "cell_type": "code",
   "execution_count": 17,
   "metadata": {},
   "outputs": [
    {
     "data": {
      "image/png": "[encoded data removed]",
      "text/plain": [
       "<matplotlib.figure.Figure at 0x7f390935c710>"
      ]
     },
     "metadata": {
      "needs_background": "light"
     },
     "output_type": "display_data"
    }
   ],
   "source": [
    "df_time_pd = df_time_range.groupBy('Churn').agg(avg(col('range_day'))).toPandas()\n",
    "df_time_pd.Churn = df_time_pd.Churn.apply(lambda x: \"Churned\" if x==1 else \"Stayed\")\n",
    "avg_time_pd = pd.DataFrame(data={\"Churn\": \"Total\", \"avg(range_day)\": avg_time}, index=[2])\n",
    "df_time_pd = pd.concat([df_time_pd, avg_time_pd])\n",
    "df_time_pd = df_time_pd.rename(columns={\"Churn\": \"Groups\", \"avg(range_day)\": \"activity time(day)\"})\n",
    "sns.barplot(x=\"Groups\", y=\"activity time(day)\", data=df_time_pd)\n",
    "plt.title(\"Average Activity Time(day) in Groups\", fontsize=15)\n",
    "plt.xlabel(\"Groups\", fontsize=12)\n",
    "plt.ylabel(\"Average Activity Time(day)\", fontsize=12);"
   ]
  },
  {
   "cell_type": "markdown",
   "metadata": {},
   "source": [
    "观察发现留存用户组的平均活跃时间是流失用户组活跃时间的2倍左右"
   ]
  },
  {
   "cell_type": "markdown",
   "metadata": {},
   "source": [
    "流失用户组与留存用户组平均活跃时间（天）："
   ]
  },
  {
   "cell_type": "code",
   "execution_count": 18,
   "metadata": {},
   "outputs": [
    {
     "name": "stdout",
     "output_type": "stream",
     "text": [
      "23.1346153846 46.5202312139\n"
     ]
    }
   ],
   "source": [
    "avg_churn_time = df_time_pd.loc[df_time_pd.Groups==\"Churned\", \"activity time(day)\"][0]\n",
    "avg_stay_time = df_time_pd.loc[df_time_pd.Groups==\"Stayed\", \"activity time(day)\"][1]\n",
    "print(avg_churn_time, avg_stay_time)"
   ]
  },
  {
   "cell_type": "markdown",
   "metadata": {},
   "source": [
    "要探索分析留存用户组与流失用户组之间的特征差异，要排除两组之间人数的差别以及平均活跃时间不同这两个因素。\n",
    "\n",
    "因为后续使用机器学习方法的目的是预测用户流失的概率，以对流失概率高的用户采取一定的优惠措施。机器学习方法针对的是个体而不是总体，所以两组之间的样本数量差异会干扰机器学习方法的特征选取。在预测的时候某名用户在未来留存或流失是未知的，所以样本每名用户的活跃时间对机器学习方法没有参考价值\n",
    "\n",
    "基于控制变量的考虑排除两组之间人数的差别以及平均活跃时间不同这两个因素可以更好地考察两组之间其他特征的差异（如播放音乐的数量）"
   ]
  },
  {
   "cell_type": "markdown",
   "metadata": {},
   "source": [
    "**hour比较**"
   ]
  },
  {
   "cell_type": "code",
   "execution_count": 34,
   "metadata": {},
   "outputs": [
    {
     "data": {
      "text/html": [
       "<div>\n",
       "<style scoped>\n",
       "    .dataframe tbody tr th:only-of-type {\n",
       "        vertical-align: middle;\n",
       "    }\n",
       "\n",
       "    .dataframe tbody tr th {\n",
       "        vertical-align: top;\n",
       "    }\n",
       "\n",
       "    .dataframe thead th {\n",
       "        text-align: right;\n",
       "    }\n",
       "</style>\n",
       "<table border=\"1\" class=\"dataframe\">\n",
       "  <thead>\n",
       "    <tr style=\"text-align: right;\">\n",
       "      <th></th>\n",
       "      <th>hour</th>\n",
       "      <th>stay_group</th>\n",
       "      <th>churn_group</th>\n",
       "    </tr>\n",
       "  </thead>\n",
       "  <tbody>\n",
       "    <tr>\n",
       "      <th>0</th>\n",
       "      <td>0</td>\n",
       "      <td>0.039256</td>\n",
       "      <td>0.042818</td>\n",
       "    </tr>\n",
       "    <tr>\n",
       "      <th>1</th>\n",
       "      <td>1</td>\n",
       "      <td>0.036470</td>\n",
       "      <td>0.036577</td>\n",
       "    </tr>\n",
       "    <tr>\n",
       "      <th>2</th>\n",
       "      <td>2</td>\n",
       "      <td>0.036298</td>\n",
       "      <td>0.036265</td>\n",
       "    </tr>\n",
       "    <tr>\n",
       "      <th>3</th>\n",
       "      <td>3</td>\n",
       "      <td>0.036641</td>\n",
       "      <td>0.035173</td>\n",
       "    </tr>\n",
       "    <tr>\n",
       "      <th>4</th>\n",
       "      <td>4</td>\n",
       "      <td>0.036157</td>\n",
       "      <td>0.033858</td>\n",
       "    </tr>\n",
       "    <tr>\n",
       "      <th>5</th>\n",
       "      <td>5</td>\n",
       "      <td>0.036487</td>\n",
       "      <td>0.033368</td>\n",
       "    </tr>\n",
       "    <tr>\n",
       "      <th>6</th>\n",
       "      <td>6</td>\n",
       "      <td>0.035707</td>\n",
       "      <td>0.032788</td>\n",
       "    </tr>\n",
       "    <tr>\n",
       "      <th>7</th>\n",
       "      <td>7</td>\n",
       "      <td>0.035677</td>\n",
       "      <td>0.032944</td>\n",
       "    </tr>\n",
       "    <tr>\n",
       "      <th>8</th>\n",
       "      <td>8</td>\n",
       "      <td>0.036410</td>\n",
       "      <td>0.033568</td>\n",
       "    </tr>\n",
       "    <tr>\n",
       "      <th>9</th>\n",
       "      <td>9</td>\n",
       "      <td>0.037447</td>\n",
       "      <td>0.033011</td>\n",
       "    </tr>\n",
       "    <tr>\n",
       "      <th>10</th>\n",
       "      <td>10</td>\n",
       "      <td>0.039089</td>\n",
       "      <td>0.037224</td>\n",
       "    </tr>\n",
       "    <tr>\n",
       "      <th>11</th>\n",
       "      <td>11</td>\n",
       "      <td>0.038956</td>\n",
       "      <td>0.037692</td>\n",
       "    </tr>\n",
       "    <tr>\n",
       "      <th>12</th>\n",
       "      <td>12</td>\n",
       "      <td>0.041729</td>\n",
       "      <td>0.038427</td>\n",
       "    </tr>\n",
       "    <tr>\n",
       "      <th>13</th>\n",
       "      <td>13</td>\n",
       "      <td>0.042312</td>\n",
       "      <td>0.044022</td>\n",
       "    </tr>\n",
       "    <tr>\n",
       "      <th>14</th>\n",
       "      <td>14</td>\n",
       "      <td>0.046097</td>\n",
       "      <td>0.046385</td>\n",
       "    </tr>\n",
       "    <tr>\n",
       "      <th>15</th>\n",
       "      <td>15</td>\n",
       "      <td>0.049492</td>\n",
       "      <td>0.053272</td>\n",
       "    </tr>\n",
       "    <tr>\n",
       "      <th>16</th>\n",
       "      <td>16</td>\n",
       "      <td>0.051027</td>\n",
       "      <td>0.053339</td>\n",
       "    </tr>\n",
       "    <tr>\n",
       "      <th>17</th>\n",
       "      <td>17</td>\n",
       "      <td>0.049655</td>\n",
       "      <td>0.055679</td>\n",
       "    </tr>\n",
       "    <tr>\n",
       "      <th>18</th>\n",
       "      <td>18</td>\n",
       "      <td>0.047910</td>\n",
       "      <td>0.053985</td>\n",
       "    </tr>\n",
       "    <tr>\n",
       "      <th>19</th>\n",
       "      <td>19</td>\n",
       "      <td>0.047533</td>\n",
       "      <td>0.050753</td>\n",
       "    </tr>\n",
       "    <tr>\n",
       "      <th>20</th>\n",
       "      <td>20</td>\n",
       "      <td>0.047327</td>\n",
       "      <td>0.048458</td>\n",
       "    </tr>\n",
       "    <tr>\n",
       "      <th>21</th>\n",
       "      <td>21</td>\n",
       "      <td>0.045831</td>\n",
       "      <td>0.044490</td>\n",
       "    </tr>\n",
       "    <tr>\n",
       "      <th>22</th>\n",
       "      <td>22</td>\n",
       "      <td>0.044275</td>\n",
       "      <td>0.042907</td>\n",
       "    </tr>\n",
       "    <tr>\n",
       "      <th>23</th>\n",
       "      <td>23</td>\n",
       "      <td>0.042218</td>\n",
       "      <td>0.042997</td>\n",
       "    </tr>\n",
       "  </tbody>\n",
       "</table>\n",
       "</div>"
      ],
      "text/plain": [
       "    hour  stay_group  churn_group\n",
       "0      0    0.039256     0.042818\n",
       "1      1    0.036470     0.036577\n",
       "2      2    0.036298     0.036265\n",
       "3      3    0.036641     0.035173\n",
       "4      4    0.036157     0.033858\n",
       "5      5    0.036487     0.033368\n",
       "6      6    0.035707     0.032788\n",
       "7      7    0.035677     0.032944\n",
       "8      8    0.036410     0.033568\n",
       "9      9    0.037447     0.033011\n",
       "10    10    0.039089     0.037224\n",
       "11    11    0.038956     0.037692\n",
       "12    12    0.041729     0.038427\n",
       "13    13    0.042312     0.044022\n",
       "14    14    0.046097     0.046385\n",
       "15    15    0.049492     0.053272\n",
       "16    16    0.051027     0.053339\n",
       "17    17    0.049655     0.055679\n",
       "18    18    0.047910     0.053985\n",
       "19    19    0.047533     0.050753\n",
       "20    20    0.047327     0.048458\n",
       "21    21    0.045831     0.044490\n",
       "22    22    0.044275     0.042907\n",
       "23    23    0.042218     0.042997"
      ]
     },
     "execution_count": 34,
     "metadata": {},
     "output_type": "execute_result"
    }
   ],
   "source": [
    "df_stay = df.filter(df.Churn==0)\n",
    "df_churn = df.filter(df.Churn==1)\n",
    "\n",
    "df_stay_pd = df_stay.groupBy('hour').count().orderBy(asc('hour')).toPandas()\n",
    "df_stay_pd['count'] = df_stay_pd['count']/df_stay_pd['count'].sum()\n",
    "df_stay_pd = df_stay_pd.rename(columns={'count': 'stay_group'})\n",
    "\n",
    "df_churn_pd = df_churn.groupBy('hour').count().orderBy(asc('hour')).toPandas()\n",
    "df_churn_pd['count'] = df_churn_pd['count']/df_churn_pd['count'].sum()\n",
    "df_churn_pd = df_churn_pd.rename(columns={'count': 'churn_group'})\n",
    "\n",
    "hour_pd = pd.concat([df_stay_pd, df_churn_pd.iloc[:,1]], axis=1)\n",
    "hour_pd"
   ]
  },
  {
   "cell_type": "code",
   "execution_count": 35,
   "metadata": {},
   "outputs": [
    {
     "data": {
      "image/png": "[encoded data removed]",
      "text/plain": [
       "<matplotlib.figure.Figure at 0x7fd03981fa90>"
      ]
     },
     "metadata": {
      "needs_background": "light"
     },
     "output_type": "display_data"
    }
   ],
   "source": [
    "hour_pd.plot(x='hour', y=['stay_group', 'churn_group'], figsize=(15,12), \n",
    "             grid=True, legend=True, xlim=(-1, 24), ylim=(0, 0.1), xticks=np.arange(-1, 24, 1), fontsize=10)\n",
    "plt.xlabel('hour', size=12)\n",
    "plt.ylabel('the percentage(%)', size=12)\n",
    "plt.title('User Distribute by Hour', size=20);"
   ]
  },
  {
   "cell_type": "markdown",
   "metadata": {},
   "source": [
    "**month比较**"
   ]
  },
  {
   "cell_type": "code",
   "execution_count": 36,
   "metadata": {},
   "outputs": [
    {
     "data": {
      "text/html": [
       "<div>\n",
       "<style scoped>\n",
       "    .dataframe tbody tr th:only-of-type {\n",
       "        vertical-align: middle;\n",
       "    }\n",
       "\n",
       "    .dataframe tbody tr th {\n",
       "        vertical-align: top;\n",
       "    }\n",
       "\n",
       "    .dataframe thead th {\n",
       "        text-align: right;\n",
       "    }\n",
       "</style>\n",
       "<table border=\"1\" class=\"dataframe\">\n",
       "  <thead>\n",
       "    <tr style=\"text-align: right;\">\n",
       "      <th></th>\n",
       "      <th>month</th>\n",
       "      <th>stay_group</th>\n",
       "      <th>churn_group</th>\n",
       "    </tr>\n",
       "  </thead>\n",
       "  <tbody>\n",
       "    <tr>\n",
       "      <th>0</th>\n",
       "      <td>10</td>\n",
       "      <td>0.462442</td>\n",
       "      <td>0.82545</td>\n",
       "    </tr>\n",
       "    <tr>\n",
       "      <th>1</th>\n",
       "      <td>11</td>\n",
       "      <td>0.537541</td>\n",
       "      <td>0.17455</td>\n",
       "    </tr>\n",
       "    <tr>\n",
       "      <th>2</th>\n",
       "      <td>12</td>\n",
       "      <td>0.000017</td>\n",
       "      <td>NaN</td>\n",
       "    </tr>\n",
       "  </tbody>\n",
       "</table>\n",
       "</div>"
      ],
      "text/plain": [
       "   month  stay_group  churn_group\n",
       "0     10    0.462442      0.82545\n",
       "1     11    0.537541      0.17455\n",
       "2     12    0.000017          NaN"
      ]
     },
     "execution_count": 36,
     "metadata": {},
     "output_type": "execute_result"
    }
   ],
   "source": [
    "df_stay_pd = df_stay.groupBy('month').count().orderBy(asc('month')).toPandas()\n",
    "df_stay_pd['count'] = df_stay_pd['count']/df_stay_pd['count'].sum()\n",
    "df_stay_pd = df_stay_pd.rename(columns={'count': 'stay_group'})\n",
    "\n",
    "df_churn_pd = df_churn.groupBy('month').count().orderBy(asc('month')).toPandas()\n",
    "df_churn_pd['count'] = df_churn_pd['count']/df_churn_pd['count'].sum()\n",
    "df_churn_pd = df_churn_pd.rename(columns={'count': 'churn_group'})\n",
    "\n",
    "month_pd = pd.concat([df_stay_pd, df_churn_pd.iloc[:,1]], axis=1)\n",
    "month_pd"
   ]
  },
  {
   "cell_type": "code",
   "execution_count": 37,
   "metadata": {},
   "outputs": [
    {
     "data": {
      "image/png": "[encoded data removed]",
      "text/plain": [
       "<matplotlib.figure.Figure at 0x7fd039a87438>"
      ]
     },
     "metadata": {
      "needs_background": "light"
     },
     "output_type": "display_data"
    }
   ],
   "source": [
    "month_pd.plot(x='month', y=['stay_group', 'churn_group'], figsize=(15,12), \n",
    "             grid=True, legend=True, fontsize=10)\n",
    "plt.xlabel('month', size=12)\n",
    "plt.ylabel('the percentage(%)', size=12)\n",
    "plt.title('User Distribute by Month', size=20);"
   ]
  },
  {
   "cell_type": "markdown",
   "metadata": {},
   "source": [
    "流失用户大多数出现在10月"
   ]
  },
  {
   "cell_type": "markdown",
   "metadata": {},
   "source": [
    "**level数量比较**"
   ]
  },
  {
   "cell_type": "code",
   "execution_count": 38,
   "metadata": {},
   "outputs": [
    {
     "data": {
      "image/png": "[encoded data removed]",
      "text/plain": [
       "<matplotlib.figure.Figure at 0x7fd039b43550>"
      ]
     },
     "metadata": {
      "needs_background": "light"
     },
     "output_type": "display_data"
    }
   ],
   "source": [
    "level_pd = df.select('userId', 'level', 'Churn').dropDuplicates().groupBy(['Churn', 'level']).count().toPandas()\n",
    "level_pd[\"count\"] = level_pd[\"count\"].apply(lambda x: 100*x/churn_number \\\n",
    "                                            if x in np.array(level_pd.loc[level_pd.Churn==1, \"count\"]) \\\n",
    "                                            else 100*x/stay_number)\n",
    "level_pd.Churn = level_pd.Churn.apply(lambda x: \"Churned\" if x==1 else \"Stayed\")\n",
    "sns.barplot(x=\"Churn\", y=\"count\", hue=\"level\", data=level_pd)\n",
    "plt.title(\"Level Distribution in Groups\", fontsize=15)\n",
    "plt.xlabel(\"Groups\", fontsize=12)\n",
    "plt.ylabel(\"Level Percentage(%)\", fontsize=12);"
   ]
  },
  {
   "cell_type": "markdown",
   "metadata": {},
   "source": [
    "可以发现流失用户组与留存用户组用户level分布大致相同"
   ]
  },
  {
   "cell_type": "markdown",
   "metadata": {},
   "source": [
    "**Gender数量比较**"
   ]
  },
  {
   "cell_type": "code",
   "execution_count": 39,
   "metadata": {},
   "outputs": [
    {
     "data": {
      "image/png": "[encoded data removed]",
      "text/plain": [
       "<matplotlib.figure.Figure at 0x7fd0314deda0>"
      ]
     },
     "metadata": {
      "needs_background": "light"
     },
     "output_type": "display_data"
    }
   ],
   "source": [
    "gender_pd = df.select('userId', 'gender', 'Churn').dropDuplicates().groupBy(['Churn', 'gender']).count().toPandas()\n",
    "gender_pd[\"count\"] = gender_pd[\"count\"].apply(lambda x: 100*x/churn_number \\\n",
    "                                            if x in np.array(gender_pd.loc[gender_pd.Churn==1, \"count\"]) \\\n",
    "                                            else 100*x/stay_number)\n",
    "gender_pd.Churn = gender_pd.Churn.apply(lambda x: \"Churned\" if x==1 else \"Stayed\")\n",
    "sns.barplot(x=\"Churn\", y=\"count\", hue=\"gender\", data=gender_pd)\n",
    "plt.title(\"Gender Distribution in Groups\", fontsize=15)\n",
    "plt.xlabel(\"Groups\", fontsize=12)\n",
    "plt.ylabel(\"Gender Percentage(%)\", fontsize=12);"
   ]
  },
  {
   "cell_type": "markdown",
   "metadata": {},
   "source": [
    "可以发现流失用户组与留存用户组相比男性占更大比例，性别可以作为预测用户流失或留存的特征之一"
   ]
  },
  {
   "cell_type": "markdown",
   "metadata": {},
   "source": [
    "**播放音乐数量比较**"
   ]
  },
  {
   "cell_type": "code",
   "execution_count": 40,
   "metadata": {},
   "outputs": [
    {
     "data": {
      "image/png": "[encoded data removed]",
      "text/plain": [
       "<matplotlib.figure.Figure at 0x7fd0314b5358>"
      ]
     },
     "metadata": {
      "needs_background": "light"
     },
     "output_type": "display_data"
    }
   ],
   "source": [
    "num_song_pd = df.filter(df.page=='NextSong').groupBy('userId', 'Churn').count().toPandas()\n",
    "num_song_pd[\"count\"] = num_song_pd[\"count\"].apply(lambda x: x/avg_churn_time \\\n",
    "                                            if x in np.array(num_song_pd.loc[num_song_pd.Churn==1, \"count\"]) \\\n",
    "                                            else x/avg_stay_time)\n",
    "num_song_pd.Churn = num_song_pd.Churn.apply(lambda x: \"Churned\" if x==1 else \"Stayed\")\n",
    "num_song_pd = num_song_pd.rename(columns={\"Churn\": \"Groups\", \"count\": \"Song_num_per_day\"})\n",
    "sns.violinplot(x=\"Groups\", y=\"Song_num_per_day\", data=num_song_pd)\n",
    "plt.title(\"Average Song Number per Day in Groups\", fontsize=15)\n",
    "plt.xlabel(\"Groups\", fontsize=12)\n",
    "plt.ylabel(\"Average Song Number per Day\", fontsize=12);"
   ]
  },
  {
   "cell_type": "markdown",
   "metadata": {},
   "source": [
    "可以发现留存用户组与流失用户组平均每天播放音乐数量存在差别，用户平均每天播放音乐数量可以作为预测用户流失或留存的特征之一"
   ]
  },
  {
   "cell_type": "markdown",
   "metadata": {},
   "source": [
    "**Trumbs Down数量比较**"
   ]
  },
  {
   "cell_type": "code",
   "execution_count": 41,
   "metadata": {},
   "outputs": [
    {
     "data": {
      "image/png": "[encoded data removed]",
      "text/plain": [
       "<matplotlib.figure.Figure at 0x7fd03142b358>"
      ]
     },
     "metadata": {
      "needs_background": "light"
     },
     "output_type": "display_data"
    }
   ],
   "source": [
    "thumbs_down_pd = df.filter(df.page=='Thumbs Down').groupBy('userId', 'Churn').count().toPandas()\n",
    "thumbs_down_pd[\"count\"] = thumbs_down_pd[\"count\"].apply(lambda x: x/avg_churn_time \\\n",
    "                                            if x in np.array(thumbs_down_pd.loc[thumbs_down_pd.Churn==1, \"count\"]) \\\n",
    "                                            else x/avg_stay_time)\n",
    "thumbs_down_pd.Churn = thumbs_down_pd.Churn.apply(lambda x: \"Churned\" if x==1 else \"Stayed\")\n",
    "thumbs_down_pd = thumbs_down_pd.rename(columns={\"Churn\": \"Groups\", \"count\": \"Thumbs_down_per_day\"})\n",
    "sns.violinplot(x=\"Groups\", y=\"Thumbs_down_per_day\", data=thumbs_down_pd)\n",
    "plt.title(\"Average Thumbs Down per Day in Groups\", fontsize=15)\n",
    "plt.xlabel(\"Groups\", fontsize=12)\n",
    "plt.ylabel(\"Average Thumbs Down per Day\", fontsize=12);"
   ]
  },
  {
   "cell_type": "markdown",
   "metadata": {},
   "source": [
    "流失用户组与留存用户组平均每天Thumbs Down数量大致相等"
   ]
  },
  {
   "cell_type": "markdown",
   "metadata": {},
   "source": [
    "**Trumbs Up数量比较**"
   ]
  },
  {
   "cell_type": "code",
   "execution_count": 42,
   "metadata": {},
   "outputs": [
    {
     "data": {
      "image/png": "[encoded data removed]",
      "text/plain": [
       "<matplotlib.figure.Figure at 0x7fd0313faba8>"
      ]
     },
     "metadata": {
      "needs_background": "light"
     },
     "output_type": "display_data"
    }
   ],
   "source": [
    "thumbs_up_pd = df.filter(df.page=='Thumbs Up').groupBy('userId', 'Churn').count().toPandas()\n",
    "thumbs_up_pd[\"count\"] = thumbs_up_pd[\"count\"].apply(lambda x: x/avg_churn_time \\\n",
    "                                            if x in np.array(thumbs_up_pd.loc[thumbs_up_pd.Churn==1, \"count\"]) \\\n",
    "                                            else x/avg_stay_time)\n",
    "thumbs_up_pd.Churn = thumbs_up_pd.Churn.apply(lambda x: \"Churned\" if x==1 else \"Stayed\")\n",
    "thumbs_up_pd = thumbs_up_pd.rename(columns={\"Churn\": \"Groups\", \"count\": \"Thumbs_up_per_day\"})\n",
    "sns.violinplot(x=\"Groups\", y=\"Thumbs_up_per_day\", data=thumbs_up_pd)\n",
    "plt.title(\"Average Thumbs Up per Day in Groups\", fontsize=15)\n",
    "plt.xlabel(\"Groups\", fontsize=12)\n",
    "plt.ylabel(\"Average Thumbs Up per Day\", fontsize=12);"
   ]
  },
  {
   "cell_type": "markdown",
   "metadata": {},
   "source": [
    "留存用户组比流失用户组平均每天Thumbs Up数量多，用户平均每天Thumbs Up数量可以作为预测用户流失或留存的特征之一"
   ]
  },
  {
   "cell_type": "markdown",
   "metadata": {},
   "source": [
    "**Roll Advert数量比较**"
   ]
  },
  {
   "cell_type": "code",
   "execution_count": 43,
   "metadata": {},
   "outputs": [
    {
     "data": {
      "image/png": "[encoded data removed]",
      "text/plain": [
       "<matplotlib.figure.Figure at 0x7fd03137a400>"
      ]
     },
     "metadata": {
      "needs_background": "light"
     },
     "output_type": "display_data"
    }
   ],
   "source": [
    "rovert_ad_pd = df.filter(df.page=='Roll Advert').groupBy('userId', 'Churn').count().toPandas()\n",
    "rovert_ad_pd[\"count\"] = rovert_ad_pd[\"count\"].apply(lambda x: x/avg_churn_time \\\n",
    "                                            if x in np.array(rovert_ad_pd.loc[rovert_ad_pd.Churn==1, \"count\"]) \\\n",
    "                                            else x/avg_stay_time)\n",
    "rovert_ad_pd.Churn = rovert_ad_pd.Churn.apply(lambda x: \"Churned\" if x==1 else \"Stayed\")\n",
    "rovert_ad_pd = rovert_ad_pd.rename(columns={\"Churn\": \"Groups\", \"count\": \"Roll_advert_per_day\"})\n",
    "sns.violinplot(x=\"Groups\", y=\"Roll_advert_per_day\", data=rovert_ad_pd)\n",
    "plt.title(\"Average Roll Advert per Day in Groups\", fontsize=15)\n",
    "plt.xlabel(\"Groups\", fontsize=12)\n",
    "plt.ylabel(\"Average Roll Advert per Day\", fontsize=12);"
   ]
  },
  {
   "cell_type": "markdown",
   "metadata": {},
   "source": [
    "可以发现流失用户组平均每天Roll Advert数量明显多于留存用户组。所以，用户每天平均Roll Advert的次数可以作为预测未来留存或流失的重要特征"
   ]
  },
  {
   "cell_type": "markdown",
   "metadata": {},
   "source": [
    "**Submit Downgrade数量比较**"
   ]
  },
  {
   "cell_type": "code",
   "execution_count": 44,
   "metadata": {},
   "outputs": [
    {
     "data": {
      "image/png": "[encoded data removed]",
      "text/plain": [
       "<matplotlib.figure.Figure at 0x7fd0312e75c0>"
      ]
     },
     "metadata": {
      "needs_background": "light"
     },
     "output_type": "display_data"
    }
   ],
   "source": [
    "submit_downgrade_pd = df.filter(df.page=='Submit Downgrade').groupBy('Churn').count().toPandas()\n",
    "submit_downgrade_pd[\"count\"] = submit_downgrade_pd[\"count\"].apply(lambda x: x/(churn_number*avg_churn_time) \\\n",
    "                                            if x in np.array(submit_downgrade_pd.loc[submit_downgrade_pd.Churn==1, \"count\"]) \\\n",
    "                                            else x/(stay_number*avg_stay_time))\n",
    "submit_downgrade_pd.Churn = submit_downgrade_pd.Churn.apply(lambda x: \"Churned\" if x==1 else \"Stayed\")\n",
    "submit_downgrade_pd = submit_downgrade_pd.rename(columns={\"Churn\": \"Groups\", \"count\": \"Submit_downgrade_per_day\"})\n",
    "sns.barplot(x=\"Groups\", y=\"Submit_downgrade_per_day\", data=submit_downgrade_pd)\n",
    "plt.title(\"Average Submit Downgrade per Day in Groups\", fontsize=15)\n",
    "plt.xlabel(\"Groups\", fontsize=12)\n",
    "plt.ylabel(\"Average Submit Downgrade per Day\", fontsize=12);"
   ]
  },
  {
   "cell_type": "markdown",
   "metadata": {},
   "source": [
    "可以发现流失用户组与留存用户组平均每天Submit Downgrade数量大致相等"
   ]
  },
  {
   "cell_type": "markdown",
   "metadata": {},
   "source": [
    "**Downgrade数量比较**"
   ]
  },
  {
   "cell_type": "code",
   "execution_count": 45,
   "metadata": {},
   "outputs": [
    {
     "data": {
      "image/png": "[encoded data removed]",
      "text/plain": [
       "<matplotlib.figure.Figure at 0x7fd03989cba8>"
      ]
     },
     "metadata": {
      "needs_background": "light"
     },
     "output_type": "display_data"
    }
   ],
   "source": [
    "downgrade_pd = df.filter(df.page=='Downgrade').groupBy('userId', 'Churn').count().toPandas()\n",
    "downgrade_pd[\"count\"] = downgrade_pd[\"count\"].apply(lambda x: x/avg_churn_time \\\n",
    "                                            if x in np.array(downgrade_pd.loc[downgrade_pd.Churn==1, \"count\"]) \\\n",
    "                                            else x/avg_stay_time)\n",
    "downgrade_pd.Churn = downgrade_pd.Churn.apply(lambda x: \"Churned\" if x==1 else \"Stayed\")\n",
    "downgrade_pd = downgrade_pd.rename(columns={\"Churn\": \"Groups\", \"count\": \"Downgrade_per_day\"})\n",
    "sns.violinplot(x=\"Groups\", y=\"Downgrade_per_day\", data=downgrade_pd)\n",
    "plt.title(\"Average Downgrade per Day in Groups\", fontsize=15)\n",
    "plt.xlabel(\"Groups\", fontsize=12)\n",
    "plt.ylabel(\"Average Downgrade per Day\", fontsize=12);"
   ]
  },
  {
   "cell_type": "markdown",
   "metadata": {},
   "source": [
    "可以发现留存用户组与流失用户组平均每天Downgrade数量存在差别，用户平均每天Downgrade数量可以作为预测用户流失或留存的特征之一"
   ]
  },
  {
   "cell_type": "markdown",
   "metadata": {},
   "source": [
    "**Add to Playlist数量比较**"
   ]
  },
  {
   "cell_type": "code",
   "execution_count": 46,
   "metadata": {},
   "outputs": [
    {
     "data": {
      "image/png": "[encoded data removed]",
      "text/plain": [
       "<matplotlib.figure.Figure at 0x7fd031220748>"
      ]
     },
     "metadata": {
      "needs_background": "light"
     },
     "output_type": "display_data"
    }
   ],
   "source": [
    "add_playlist_pd = df.filter(df.page=='Add to Playlist').groupBy('userId', 'Churn').count().toPandas()\n",
    "add_playlist_pd[\"count\"] = add_playlist_pd[\"count\"].apply(lambda x: x/avg_churn_time \\\n",
    "                                            if x in np.array(add_playlist_pd.loc[add_playlist_pd.Churn==1, \"count\"]) \\\n",
    "                                            else x/avg_stay_time)\n",
    "add_playlist_pd.Churn = add_playlist_pd.Churn.apply(lambda x: \"Churned\" if x==1 else \"Stayed\")\n",
    "add_playlist_pd = add_playlist_pd.rename(columns={\"Churn\": \"Groups\", \"count\": \"Add_playlist_per_day\"})\n",
    "sns.violinplot(x=\"Groups\", y=\"Add_playlist_per_day\", data=add_playlist_pd)\n",
    "plt.title(\"Average Add to Playlist per Day in Groups\", fontsize=15)\n",
    "plt.xlabel(\"Groups\", fontsize=12)\n",
    "plt.ylabel(\"Average Add to Playlist per Day\", fontsize=12);"
   ]
  },
  {
   "cell_type": "markdown",
   "metadata": {},
   "source": [
    "可以发现留存用户组与流失用户组平均每天Add to Playlist数量存在差别，用户平均每天Add to Playlist数量可以作为预测用户流失或留存的特征之一"
   ]
  },
  {
   "cell_type": "markdown",
   "metadata": {},
   "source": [
    "**Add Friend数量比较**"
   ]
  },
  {
   "cell_type": "code",
   "execution_count": 47,
   "metadata": {},
   "outputs": [
    {
     "data": {
      "image/png": "[encoded data removed]",
      "text/plain": [
       "<matplotlib.figure.Figure at 0x7fd0311ffeb8>"
      ]
     },
     "metadata": {
      "needs_background": "light"
     },
     "output_type": "display_data"
    }
   ],
   "source": [
    "add_friend_pd = df.filter(df.page=='Add Friend').groupBy('userId', 'Churn').count().toPandas()\n",
    "add_friend_pd[\"count\"] = add_friend_pd[\"count\"].apply(lambda x: x/avg_churn_time \\\n",
    "                                            if x in np.array(add_friend_pd.loc[add_friend_pd.Churn==1, \"count\"]) \\\n",
    "                                            else x/avg_stay_time)\n",
    "add_friend_pd.Churn = add_friend_pd.Churn.apply(lambda x: \"Churned\" if x==1 else \"Stayed\")\n",
    "add_friend_pd = add_friend_pd.rename(columns={\"Churn\": \"Groups\", \"count\": \"Add_friend_per_day\"})\n",
    "sns.violinplot(x=\"Groups\", y=\"Add_friend_per_day\", data=add_friend_pd)\n",
    "plt.title(\"Average Add Friend per Day in Groups\", fontsize=15)\n",
    "plt.xlabel(\"Groups\", fontsize=12)\n",
    "plt.ylabel(\"Average Add Friend per Day\", fontsize=12);"
   ]
  },
  {
   "cell_type": "markdown",
   "metadata": {},
   "source": [
    "可以发现留存用户组与流失用户组平均每天Add Friend数量存在差别，用户平均每天Add Friend数量可以作为预测用户流失或留存的特征之一"
   ]
  },
  {
   "cell_type": "markdown",
   "metadata": {},
   "source": [
    "**Help数量比较**"
   ]
  },
  {
   "cell_type": "code",
   "execution_count": 48,
   "metadata": {},
   "outputs": [
    {
     "data": {
      "image/png": "[encoded data removed]",
      "text/plain": [
       "<matplotlib.figure.Figure at 0x7fd031180c50>"
      ]
     },
     "metadata": {
      "needs_background": "light"
     },
     "output_type": "display_data"
    }
   ],
   "source": [
    "help_pd = df.filter(df.page=='Help').groupBy('userId', 'Churn').count().toPandas()\n",
    "help_pd[\"count\"] = help_pd[\"count\"].apply(lambda x: x/avg_churn_time \\\n",
    "                                            if x in np.array(help_pd.loc[help_pd.Churn==1, \"count\"]) \\\n",
    "                                            else x/avg_stay_time)\n",
    "help_pd.Churn = help_pd.Churn.apply(lambda x: \"Churned\" if x==1 else \"Stayed\")\n",
    "help_pd = help_pd.rename(columns={\"Churn\": \"Groups\", \"count\": \"Help_per_day\"})\n",
    "sns.violinplot(x=\"Groups\", y=\"Help_per_day\", data=help_pd)\n",
    "plt.title(\"Average Help per Day in Groups\", fontsize=15)\n",
    "plt.xlabel(\"Groups\", fontsize=12)\n",
    "plt.ylabel(\"Average Help per Day\", fontsize=12);"
   ]
  },
  {
   "cell_type": "markdown",
   "metadata": {},
   "source": [
    "可以发现留存用户组与流失用户组平均每天Help数量存在差别，用户平均每天Help数量可以作为预测用户流失或留存的特征之一"
   ]
  },
  {
   "cell_type": "markdown",
   "metadata": {},
   "source": [
    "**Settings数量比较**"
   ]
  },
  {
   "cell_type": "code",
   "execution_count": 49,
   "metadata": {},
   "outputs": [
    {
     "data": {
      "image/png": "[encoded data removed]",
      "text/plain": [
       "<matplotlib.figure.Figure at 0x7fd03122af60>"
      ]
     },
     "metadata": {
      "needs_background": "light"
     },
     "output_type": "display_data"
    }
   ],
   "source": [
    "settings_pd = df.filter(df.page=='Settings').groupBy('userId', 'Churn').count().toPandas()\n",
    "settings_pd[\"count\"] = settings_pd[\"count\"].apply(lambda x: x/avg_churn_time \\\n",
    "                                            if x in np.array(settings_pd.loc[settings_pd.Churn==1, \"count\"]) \\\n",
    "                                            else x/avg_stay_time)\n",
    "settings_pd.Churn = settings_pd.Churn.apply(lambda x: \"Churned\" if x==1 else \"Stayed\")\n",
    "settings_pd = settings_pd.rename(columns={\"Churn\": \"Groups\", \"count\": \"Settings_per_day\"})\n",
    "sns.violinplot(x=\"Groups\", y=\"Settings_per_day\", data=settings_pd)\n",
    "plt.title(\"Average Settings per Day in Groups\", fontsize=15)\n",
    "plt.xlabel(\"Groups\", fontsize=12)\n",
    "plt.ylabel(\"Average Settings per Day\", fontsize=12);"
   ]
  },
  {
   "cell_type": "markdown",
   "metadata": {},
   "source": [
    "可以发现留存用户组与流失用户组平均每天Settings数量存在差别，用户平均每天Settings数量可以作为预测用户流失或留存的特征之一"
   ]
  },
  {
   "cell_type": "markdown",
   "metadata": {},
   "source": [
    "### 综上所述\n",
    "\n",
    "**经过探索性分析，有以下特征可以用来预测未来用户留存或流失：**\n",
    "\n",
    "1 用户每天平均Roll Advert的数量\n",
    "\n",
    "2 性别\n",
    "\n",
    "3 用户平均每天Help数量\n",
    "\n",
    "4 用户平均每天Setings数量\n",
    "\n",
    "5 用户平均每天Add Friend数量\n",
    "\n",
    "6 用户平均每天Downgrade数量\n",
    "\n",
    "7 用户平均每天Thumbs Up数量\n",
    "\n",
    "8 用户每天平均播放音乐数量\n",
    "\n",
    "9 用户平均每天Add to Playlist数量\n",
    "\n",
    "按照流失用户组与留存用户组特征差异由大到小排序"
   ]
  },
  {
   "cell_type": "markdown",
   "metadata": {},
   "source": [
    "# 特征工程\n",
    "熟悉了数据之后，就可以构建你认为会对训练模型帮助最大的特征。要处理完整数据集，你可以按照下述步骤：\n",
    "- 写一个脚本来从小数据集中提取你需要的特征\n",
    "- 确保你的脚本可以拓展到大数据集上，使用之前教过的最佳实践原则\n",
    "- 在完整数据集上运行你的脚本，按运行情况调试代码\n",
    "\n",
    "如果是在教室的 workspace，你可以直接用里面提供的小数据集来提取特征。确保当你开始使用 Spark 集群的时候，把上述的成果迁移到大数据集上。"
   ]
  },
  {
   "cell_type": "code",
   "execution_count": 19,
   "metadata": {},
   "outputs": [
    {
     "name": "stdout",
     "output_type": "stream",
     "text": [
      "+------+------+-----------+----+--------+----------+---------+---------+-----------+---------------+-------------------+-----+\n",
      "|userId|gender|Roll Advert|Help|Settings|Add Friend|Downgrade|Thumbs Up|Song Number|Add to Playlist|               time|Churn|\n",
      "+------+------+-----------+----+--------+----------+---------+---------+-----------+---------------+-------------------+-----+\n",
      "|100010|     F|         52|   2|       0|         4|        0|       17|        275|              7|  44.21780092592593|    0|\n",
      "|200002|     M|          7|   2|       3|         4|        5|       21|        387|              8| 45.496805555555554|    0|\n",
      "|   125|     M|          1|   0|       0|         0|        0|        0|          8|              0|0.02053240740740741|    1|\n",
      "|   124|     F|          4|  23|      20|        74|       41|      171|       4079|            118| 59.996944444444445|    0|\n",
      "|    51|     M|          0|  12|      12|        28|       23|      100|       2111|             52| 15.779398148148148|    1|\n",
      "|     7|     M|         16|   1|       3|         1|        0|        7|        150|              5| 50.784050925925925|    0|\n",
      "|    15|     M|          1|   8|      16|        31|       28|       81|       1914|             59|  54.77318287037037|    0|\n",
      "|    54|     F|         47|  17|      17|        33|       39|      163|       2841|             72|  42.79719907407407|    1|\n",
      "|   155|     F|          8|   9|       5|        11|       12|       58|        820|             24|  25.82783564814815|    0|\n",
      "|100014|     M|          2|   2|       1|         6|        3|       17|        257|              7| 41.244363425925926|    1|\n",
      "|   132|     F|          2|  16|      17|        41|       19|       96|       1928|             38|  50.49740740740741|    0|\n",
      "|   154|     F|         10|   1|       0|         3|        0|       11|         84|              1| 24.986458333333335|    0|\n",
      "|   101|     M|          8|  12|       9|        29|       22|       86|       1797|             61| 15.861481481481482|    1|\n",
      "|    11|     F|         39|   3|       6|         6|        5|       40|        647|             20| 53.241585648148146|    0|\n",
      "|   138|     M|         17|  13|      17|        41|       21|       95|       2070|             67|  56.07674768518518|    0|\n",
      "|300017|     F|         11|  27|      23|        63|       25|      303|       3632|            113|  59.11390046296296|    0|\n",
      "|100021|     M|         30|   0|       0|         7|        0|       11|        230|              7| 45.457256944444445|    1|\n",
      "|    29|     M|         22|  28|      19|        47|       18|      154|       3028|             89|  43.32092592592593|    1|\n",
      "|    69|     F|          3|   7|       3|        12|        9|       72|       1125|             33|  50.98648148148148|    0|\n",
      "|   112|     M|         21|   1|       4|         7|        0|        9|        215|              7|  56.87869212962963|    0|\n",
      "+------+------+-----------+----+--------+----------+---------+---------+-----------+---------------+-------------------+-----+\n",
      "only showing top 20 rows\n",
      "\n"
     ]
    }
   ],
   "source": [
    "range_second = udf(lambda x: datetime.timedelta(0, x/1000.0).seconds, IntegerType())\n",
    "range_day = udf(lambda x: datetime.timedelta(0, x/1000.0).days, IntegerType())\n",
    "df_feature = df.select('userId', 'ts', 'page', 'gender').groupBy('userId') \\\n",
    "            .agg(max(col('ts'))-min(col('ts')), count(col('page')), count(when(df.page=='Roll Advert', 1)), \\\n",
    "                count(when(df.page=='Thumbs Up', 1)), count(when(df.page=='Downgrade', 1)), \\\n",
    "                count(when(df.page=='NextSong', 1)), count(when(df.page=='Add to Playlist', 1)), \\\n",
    "                count(when(df.page=='Help', 1)), count(when(df.page=='Settings', 1)), \\\n",
    "                count(when(df.page=='Add Friend', 1)), min(df.gender))\n",
    "\n",
    "df_feature = df_feature.withColumn('second', range_second(df_feature['(max(ts) - min(ts))']))\n",
    "df_feature = df_feature.withColumn('day', range_day(df_feature['(max(ts) - min(ts))']))\n",
    "df_feature = df_feature.withColumn('Churn', churn(df_feature.userId))\n",
    "df_feature = df_feature.withColumnRenamed('count(CASE WHEN (page = Roll Advert) THEN 1 END)', 'Roll Advert')\n",
    "df_feature = df_feature.withColumnRenamed('count(CASE WHEN (page = Thumbs Up) THEN 1 END)', 'Thumbs Up')\n",
    "df_feature = df_feature.withColumnRenamed('count(CASE WHEN (page = Downgrade) THEN 1 END)', 'Downgrade')\n",
    "df_feature = df_feature.withColumnRenamed('count(CASE WHEN (page = NextSong) THEN 1 END)', 'Song Number')\n",
    "df_feature = df_feature.withColumnRenamed('count(CASE WHEN (page = Add to Playlist) THEN 1 END)', 'Add to Playlist')\n",
    "df_feature = df_feature.withColumnRenamed('count(CASE WHEN (page = Help) THEN 1 END)', 'Help')\n",
    "df_feature = df_feature.withColumnRenamed('count(CASE WHEN (page = Settings) THEN 1 END)', 'Settings')\n",
    "df_feature = df_feature.withColumnRenamed('count(CASE WHEN (page = Add Friend) THEN 1 END)', 'Add Friend')\n",
    "df_feature = df_feature.withColumnRenamed('min(gender)', 'gender')\n",
    "df_feature = df_feature.withColumn('time', df_feature.day+df_feature.second/(3600*24))\n",
    "df_feature = df_feature.select('userId', 'gender', 'Roll Advert', 'Help', 'Settings', 'Add Friend', \\\n",
    "                               'Downgrade', 'Thumbs Up', 'Song Number', 'Add to Playlist', 'time', 'Churn')\n",
    "df_feature.show()"
   ]
  },
  {
   "cell_type": "code",
   "execution_count": 20,
   "metadata": {},
   "outputs": [
    {
     "data": {
      "text/plain": [
       "[Row(userId='100010', gender='F', Roll Advert=1.1759969720590784, Help=0.04523065277150301, Settings=0.0, Add Friend=0.09046130554300602, Downgrade=0.0, Thumbs Up=0.3844605485577756, Song Number=6.219214756081664, Add to Playlist=0.15830728470026054, time=44.21780092592593, Churn=0),\n",
       " Row(userId='200002', gender='M', Roll Advert=0.15385695576917793, Help=0.04395913021976513, Settings=0.06593869532964769, Add Friend=0.08791826043953026, Downgrade=0.10989782554941281, Thumbs Up=0.4615708673075338, Song Number=8.506091697524552, Add to Playlist=0.17583652087906051, time=45.496805555555554, Churn=0),\n",
       " Row(userId='125', gender='M', Roll Advert=48.70349492671927, Help=0.0, Settings=0.0, Add Friend=0.0, Downgrade=0.0, Thumbs Up=0.0, Song Number=389.6279594137542, Add to Playlist=0.0, time=0.02053240740740741, Churn=1),\n",
       " Row(userId='124', gender='F', Roll Advert=0.06667006190130052, Help=0.38335285593247803, Settings=0.33335030950650263, Add Friend=1.2333961451740598, Downgrade=0.6833681344883304, Thumbs Up=2.850145146280598, Song Number=67.98679562385121, Add to Playlist=1.9667668260883655, time=59.996944444444445, Churn=0),\n",
       " Row(userId='51', gender='M', Roll Advert=0.0, Help=0.7604852788005927, Settings=0.7604852788005927, Add Friend=1.7744656505347163, Downgrade=1.4575967843678026, Thumbs Up=6.337377323338272, Song Number=133.78203529567094, Add to Playlist=3.2954362081359014, time=15.779398148148148, Churn=1)]"
      ]
     },
     "execution_count": 20,
     "metadata": {},
     "output_type": "execute_result"
    }
   ],
   "source": [
    "df_feature = df_feature.withColumn('Roll Advert', df_feature['Roll Advert']/df_feature.time)\n",
    "df_feature = df_feature.withColumn('Thumbs Up', df_feature['Thumbs Up']/df_feature.time)\n",
    "df_feature = df_feature.withColumn('Downgrade', df_feature['Downgrade']/df_feature.time)\n",
    "df_feature = df_feature.withColumn('Song Number', df_feature['Song Number']/df_feature.time)\n",
    "df_feature = df_feature.withColumn('Add to Playlist', df_feature['Add to Playlist']/df_feature.time)\n",
    "df_feature = df_feature.withColumn('Help', df_feature['Help']/df_feature.time)\n",
    "df_feature = df_feature.withColumn('Settings', df_feature['Settings']/df_feature.time)\n",
    "df_feature = df_feature.withColumn('Add Friend', df_feature['Add Friend']/df_feature.time)\n",
    "\n",
    "df_feature.take(5)"
   ]
  },
  {
   "cell_type": "code",
   "execution_count": 21,
   "metadata": {},
   "outputs": [
    {
     "name": "stdout",
     "output_type": "stream",
     "text": [
      "root\n",
      " |-- userId: string (nullable = true)\n",
      " |-- gender: string (nullable = true)\n",
      " |-- Roll Advert: double (nullable = true)\n",
      " |-- Help: double (nullable = true)\n",
      " |-- Settings: double (nullable = true)\n",
      " |-- Add Friend: double (nullable = true)\n",
      " |-- Downgrade: double (nullable = true)\n",
      " |-- Thumbs Up: double (nullable = true)\n",
      " |-- Song Number: double (nullable = true)\n",
      " |-- Add to Playlist: double (nullable = true)\n",
      " |-- time: double (nullable = true)\n",
      " |-- Churn: integer (nullable = true)\n",
      "\n"
     ]
    }
   ],
   "source": [
    "df_feature.printSchema()"
   ]
  },
  {
   "cell_type": "code",
   "execution_count": 22,
   "metadata": {},
   "outputs": [
    {
     "data": {
      "text/plain": [
       "[Row(userId='100010', features=DenseVector([1.0, -0.1231, -0.2015, -0.1127, -0.1998, -0.4801, -0.3033, -0.4555, -0.2609]), label=0.0),\n",
       " Row(userId='200002', features=DenseVector([0.0, -0.1832, -0.2028, -0.1081, -0.2004, -0.2684, -0.2926, -0.4307, -0.2574]), label=0.0),\n",
       " Row(userId='125', features=DenseVector([0.0, 2.6718, -0.249, -0.1127, -0.2206, -0.4801, -0.3568, 3.7108, -0.2925]), label=1.0),\n",
       " Row(userId='124', features=DenseVector([1.0, -0.1883, 0.1535, -0.0894, 0.0633, 0.8365, 0.0395, 0.2157, 0.1005]), label=0.0),\n",
       " Row(userId='51', features=DenseVector([0.0, -0.1923, 0.5494, -0.0595, 0.1878, 2.3281, 0.5243, 0.9306, 0.366]), label=1.0)]"
      ]
     },
     "execution_count": 22,
     "metadata": {},
     "output_type": "execute_result"
    }
   ],
   "source": [
    "indexer1 = StringIndexer(inputCol='gender', outputCol='gender_')\n",
    "vectorassembler1 = VectorAssembler(inputCols=df_feature.columns[2:-2], outputCol='features_')\n",
    "scale = StandardScaler(inputCol='features_', outputCol='features__', withMean=True, withStd=True)\n",
    "vectorassembler2 = VectorAssembler(inputCols=['gender_','features__'], outputCol='features')\n",
    "indexer2 = StringIndexer(inputCol='Churn', outputCol='label')\n",
    "\n",
    "pipeline = Pipeline(stages=[indexer1, vectorassembler1, scale, vectorassembler2, indexer2])\n",
    "\n",
    "pModel = pipeline.fit(df_feature)\n",
    "df_feature_ = pModel.transform(df_feature)\n",
    "df_feature_ = df_feature_.select('userId', 'features', 'label')\n",
    "df_feature_.take(5)"
   ]
  },
  {
   "cell_type": "markdown",
   "metadata": {},
   "source": [
    "# 建模\n",
    "将完整数据集分成训练集、测试集和验证集。测试几种你学过的机器学习方法。评价不同机器学习方法的准确率，根据情况调节参数。根据准确率你挑选出表现最好的那个模型，然后报告在训练集上的结果。因为流失顾客数据集很小，我建议选用 F1 score 作为优化指标。"
   ]
  },
  {
   "cell_type": "code",
   "execution_count": 23,
   "metadata": {},
   "outputs": [],
   "source": [
    "train, test = df_feature_.randomSplit([0.8, 0.2], seed=42)"
   ]
  },
  {
   "cell_type": "markdown",
   "metadata": {},
   "source": [
    "**Basic Model**"
   ]
  },
  {
   "cell_type": "markdown",
   "metadata": {},
   "source": [
    "1 预测所有用户全部留存"
   ]
  },
  {
   "cell_type": "markdown",
   "metadata": {},
   "source": [
    "假设分类器判断所有用户都为留存用户"
   ]
  },
  {
   "cell_type": "code",
   "execution_count": 55,
   "metadata": {},
   "outputs": [
    {
     "name": "stdout",
     "output_type": "stream",
     "text": [
      "predict all user stayed: \n",
      "Accuracy: 0.7647058823529411\n",
      "F1 Score: 0.6627450980392157\n"
     ]
    }
   ],
   "source": [
    "basic_result_0 = test.withColumn(\"predict\", lit(0.0))\n",
    "\n",
    "evaluator = MulticlassClassificationEvaluator(predictionCol='predict')\n",
    "print(\"predict all user stayed: \")\n",
    "print(\"Accuracy: {}\".format(evaluator.evaluate(basic_result_0, {evaluator.metricName: \"accuracy\"})))\n",
    "print(\"F1 Score: {}\".format(evaluator.evaluate(basic_result_0, {evaluator.metricName: \"f1\"})))\n"
   ]
  },
  {
   "cell_type": "markdown",
   "metadata": {},
   "source": [
    "假设分类器判断所有用户都为流失用户"
   ]
  },
  {
   "cell_type": "code",
   "execution_count": 56,
   "metadata": {},
   "outputs": [
    {
     "name": "stdout",
     "output_type": "stream",
     "text": [
      "predict all user churned: \n",
      "Accuracy: 0.23529411764705882\n",
      "F1 Score: 0.0896358543417367\n"
     ]
    }
   ],
   "source": [
    "basic_result_1 = test.withColumn(\"predict\", lit(1.0))\n",
    "\n",
    "evaluator = MulticlassClassificationEvaluator(predictionCol='predict')\n",
    "print(\"predict all user churned: \")\n",
    "print(\"Accuracy: {}\".format(evaluator.evaluate(basic_result_1, {evaluator.metricName: \"accuracy\"})))\n",
    "print(\"F1 Score: {}\".format(evaluator.evaluate(basic_result_1, {evaluator.metricName: \"f1\"})))\n"
   ]
  },
  {
   "cell_type": "markdown",
   "metadata": {},
   "source": [
    "建模调参后的分类器的质量必须好于上述基础模型"
   ]
  },
  {
   "cell_type": "markdown",
   "metadata": {},
   "source": [
    "**LogisticRegression:**"
   ]
  },
  {
   "cell_type": "code",
   "execution_count": 26,
   "metadata": {},
   "outputs": [
    {
     "name": "stdout",
     "output_type": "stream",
     "text": [
      "Training Time : 354.55540561676025\n"
     ]
    },
    {
     "data": {
      "text/plain": [
       "[0.7522275366712448]"
      ]
     },
     "execution_count": 26,
     "metadata": {},
     "output_type": "execute_result"
    }
   ],
   "source": [
    "start = time.time()\n",
    "lr = LogisticRegression(maxIter=50)\n",
    "paraGrid = ParamGridBuilder().build()\n",
    "crossval = CrossValidator(estimator=lr, estimatorParamMaps=paraGrid, \\\n",
    "                          evaluator=MulticlassClassificationEvaluator(metricName=\"f1\"), numFolds=3)\n",
    "lrModel = crossval.fit(train)\n",
    "end = time.time()\n",
    "print(\"Training Time : {}\".format(end-start))\n",
    "lrModel.avgMetrics"
   ]
  },
  {
   "cell_type": "code",
   "execution_count": 27,
   "metadata": {},
   "outputs": [
    {
     "name": "stdout",
     "output_type": "stream",
     "text": [
      "Accuracy: 0.7941176470588235\n",
      "F1 Score: 0.7262656475019387\n"
     ]
    }
   ],
   "source": [
    "results_lr = lrModel.bestModel.transform(test)\n",
    "evaluator=MulticlassClassificationEvaluator()\n",
    "print(\"Accuracy: {}\".format(evaluator.evaluate(results_lr, {evaluator.metricName: \"accuracy\"})))\n",
    "print(\"F1 Score: {}\".format(evaluator.evaluate(results_lr, {evaluator.metricName: \"f1\"})))"
   ]
  },
  {
   "cell_type": "markdown",
   "metadata": {},
   "source": [
    "**LinearSVC:**"
   ]
  },
  {
   "cell_type": "code",
   "execution_count": 28,
   "metadata": {},
   "outputs": [
    {
     "name": "stdout",
     "output_type": "stream",
     "text": [
      "Training Time : 589.9088156223297\n"
     ]
    },
    {
     "data": {
      "text/plain": [
       "[0.6757330259205702]"
      ]
     },
     "execution_count": 28,
     "metadata": {},
     "output_type": "execute_result"
    }
   ],
   "source": [
    "start = time.time()\n",
    "lsvc = LinearSVC(maxIter=10)\n",
    "paraGrid = ParamGridBuilder().build()\n",
    "crossval = CrossValidator(estimator=lsvc, estimatorParamMaps=paraGrid, \\\n",
    "                          evaluator=MulticlassClassificationEvaluator(metricName=\"f1\"), numFolds=3)\n",
    "lsvcModel = crossval.fit(train)\n",
    "end = time.time()\n",
    "print(\"Training Time : {}\".format(end-start))\n",
    "lsvcModel.avgMetrics"
   ]
  },
  {
   "cell_type": "code",
   "execution_count": 29,
   "metadata": {},
   "outputs": [
    {
     "name": "stdout",
     "output_type": "stream",
     "text": [
      "Accuracy: 0.7647058823529411\n",
      "F1 Score: 0.6627450980392157\n"
     ]
    }
   ],
   "source": [
    "results_lsvc = lsvcModel.bestModel.transform(test)\n",
    "evaluator=MulticlassClassificationEvaluator()\n",
    "print(\"Accuracy: {}\".format(evaluator.evaluate(results_lsvc, {evaluator.metricName: \"accuracy\"})))\n",
    "print(\"F1 Score: {}\".format(evaluator.evaluate(results_lsvc, {evaluator.metricName: \"f1\"})))"
   ]
  },
  {
   "cell_type": "markdown",
   "metadata": {},
   "source": [
    "LinearSVC的训练结果几乎与假设分类器判断所有用户都为留存用户的Basic Model一致，并没有表现得更好"
   ]
  },
  {
   "cell_type": "markdown",
   "metadata": {},
   "source": [
    "**RandomForest:**"
   ]
  },
  {
   "cell_type": "code",
   "execution_count": 63,
   "metadata": {},
   "outputs": [
    {
     "name": "stdout",
     "output_type": "stream",
     "text": [
      "Training Time : 243.8307695388794\n"
     ]
    },
    {
     "data": {
      "text/plain": [
       "[0.730103036013706]"
      ]
     },
     "execution_count": 63,
     "metadata": {},
     "output_type": "execute_result"
    }
   ],
   "source": [
    "start = time.time()\n",
    "rf = RandomForestClassifier(seed=42)\n",
    "paraGrid = ParamGridBuilder().build()\n",
    "crossval = CrossValidator(estimator=rf, estimatorParamMaps=paraGrid, \\\n",
    "                          evaluator=MulticlassClassificationEvaluator(metricName=\"f1\"), numFolds=3)\n",
    "rfModel = crossval.fit(train)\n",
    "end = time.time()\n",
    "print(\"Training Time : {}\".format(end-start))\n",
    "rfModel.avgMetrics"
   ]
  },
  {
   "cell_type": "code",
   "execution_count": 64,
   "metadata": {},
   "outputs": [
    {
     "name": "stdout",
     "output_type": "stream",
     "text": [
      "Accuracy: 0.7941176470588235\n",
      "F1 Score: 0.7262656475019387\n"
     ]
    }
   ],
   "source": [
    "results_rf = rfModel.bestModel.transform(test)\n",
    "evaluator=MulticlassClassificationEvaluator()\n",
    "print(\"Accuracy: {}\".format(evaluator.evaluate(results_rf, {evaluator.metricName: \"accuracy\"})))\n",
    "print(\"F1 Score: {}\".format(evaluator.evaluate(results_rf, {evaluator.metricName: \"f1\"})))"
   ]
  },
  {
   "cell_type": "markdown",
   "metadata": {},
   "source": [
    "**GradientBoost:**"
   ]
  },
  {
   "cell_type": "code",
   "execution_count": 59,
   "metadata": {},
   "outputs": [
    {
     "name": "stdout",
     "output_type": "stream",
     "text": [
      "Training Time : 1057.0708003044128\n"
     ]
    },
    {
     "data": {
      "text/plain": [
       "[0.6992624501393876]"
      ]
     },
     "execution_count": 59,
     "metadata": {},
     "output_type": "execute_result"
    }
   ],
   "source": [
    "start = time.time()\n",
    "gb = GBTClassifier(seed=42)\n",
    "paraGrid = ParamGridBuilder().build()\n",
    "crossval = CrossValidator(estimator=gb, estimatorParamMaps=paraGrid, \\\n",
    "                          evaluator=MulticlassClassificationEvaluator(metricName=\"f1\"), numFolds=3)\n",
    "gbModel = crossval.fit(train)\n",
    "end = time.time()\n",
    "print(\"Training Time : {}\".format(end-start))\n",
    "gbModel.avgMetrics"
   ]
  },
  {
   "cell_type": "code",
   "execution_count": 60,
   "metadata": {},
   "outputs": [
    {
     "name": "stdout",
     "output_type": "stream",
     "text": [
      "Accuracy: 0.7647058823529411\n",
      "F1 Score: 0.706288032454361\n"
     ]
    }
   ],
   "source": [
    "results_gb = gbModel.bestModel.transform(test)\n",
    "evaluator=MulticlassClassificationEvaluator()\n",
    "print(\"Accuracy: {}\".format(evaluator.evaluate(results_gb, {evaluator.metricName: \"accuracy\"})))\n",
    "print(\"F1 Score: {}\".format(evaluator.evaluate(results_gb, {evaluator.metricName: \"f1\"})))"
   ]
  },
  {
   "cell_type": "markdown",
   "metadata": {},
   "source": [
    "### 对模型进行调参"
   ]
  },
  {
   "cell_type": "markdown",
   "metadata": {},
   "source": [
    "综合考虑训练时间与F1 Score,以及模型的特性,选择LogisticRegression与RandomForest两种模型进行超参数调整。因为LinearSVC与LogisticRegression原理相似, 都取决于不同类别之间分界超平面附近的数据点,但LogisticRegression的训练时间明显少于LinearSVC。GradientBoost需要不断迭代，速度较慢,超参数调整需要耗费更多时间"
   ]
  },
  {
   "cell_type": "markdown",
   "metadata": {},
   "source": [
    "**LogisticRegression:**"
   ]
  },
  {
   "cell_type": "markdown",
   "metadata": {},
   "source": [
    "依次设定regularization parameter为0.0, 0.01, 0.1, 1.0, 10.0，分类器的robust不断增加"
   ]
  },
  {
   "cell_type": "code",
   "execution_count": 61,
   "metadata": {},
   "outputs": [
    {
     "name": "stdout",
     "output_type": "stream",
     "text": [
      "Training Time : 577.6444938182831\n"
     ]
    },
    {
     "data": {
      "text/plain": [
       "[0.7389608517757349,\n",
       " 0.6731617213165118,\n",
       " 0.6636408726452969,\n",
       " 0.6692426331986138,\n",
       " 0.6657029027921227]"
      ]
     },
     "execution_count": 61,
     "metadata": {},
     "output_type": "execute_result"
    }
   ],
   "source": [
    "start = time.time()\n",
    "lr = LogisticRegression(maxIter=50)\n",
    "paraGrid = ParamGridBuilder().addGrid(lr.regParam, [0.0, 0.01, 0.1, 1.0, 10.0]).build()\n",
    "crossval = CrossValidator(estimator=lr, estimatorParamMaps=paraGrid, \\\n",
    "                          evaluator=MulticlassClassificationEvaluator(metricName=\"f1\"), numFolds=3)\n",
    "lrModel = crossval.fit(train)\n",
    "end = time.time()\n",
    "print(\"Training Time : {}\".format(end-start))\n",
    "lrModel.avgMetrics"
   ]
  },
  {
   "cell_type": "code",
   "execution_count": 62,
   "metadata": {},
   "outputs": [
    {
     "name": "stdout",
     "output_type": "stream",
     "text": [
      "Accuracy: 0.7941176470588235\n",
      "F1 Score: 0.7262656475019387\n"
     ]
    },
    {
     "data": {
      "text/plain": [
       "{Param(parent='LogisticRegression_ae07ce204cf5', name='aggregationDepth', doc='suggested depth for treeAggregate (>= 2)'): 2,\n",
       " Param(parent='LogisticRegression_ae07ce204cf5', name='elasticNetParam', doc='the ElasticNet mixing parameter, in range [0, 1]. For alpha = 0, the penalty is an L2 penalty. For alpha = 1, it is an L1 penalty'): 0.0,\n",
       " Param(parent='LogisticRegression_ae07ce204cf5', name='family', doc='The name of family which is a description of the label distribution to be used in the model. Supported options: auto, binomial, multinomial.'): 'auto',\n",
       " Param(parent='LogisticRegression_ae07ce204cf5', name='featuresCol', doc='features column name'): 'features',\n",
       " Param(parent='LogisticRegression_ae07ce204cf5', name='fitIntercept', doc='whether to fit an intercept term'): True,\n",
       " Param(parent='LogisticRegression_ae07ce204cf5', name='labelCol', doc='label column name'): 'label',\n",
       " Param(parent='LogisticRegression_ae07ce204cf5', name='maxIter', doc='maximum number of iterations (>= 0)'): 50,\n",
       " Param(parent='LogisticRegression_ae07ce204cf5', name='predictionCol', doc='prediction column name'): 'prediction',\n",
       " Param(parent='LogisticRegression_ae07ce204cf5', name='probabilityCol', doc='Column name for predicted class conditional probabilities. Note: Not all models output well-calibrated probability estimates! These probabilities should be treated as confidences, not precise probabilities'): 'probability',\n",
       " Param(parent='LogisticRegression_ae07ce204cf5', name='rawPredictionCol', doc='raw prediction (a.k.a. confidence) column name'): 'rawPrediction',\n",
       " Param(parent='LogisticRegression_ae07ce204cf5', name='regParam', doc='regularization parameter (>= 0)'): 0.0,\n",
       " Param(parent='LogisticRegression_ae07ce204cf5', name='standardization', doc='whether to standardize the training features before fitting the model'): True,\n",
       " Param(parent='LogisticRegression_ae07ce204cf5', name='threshold', doc='threshold in binary classification prediction, in range [0, 1]'): 0.5,\n",
       " Param(parent='LogisticRegression_ae07ce204cf5', name='tol', doc='the convergence tolerance for iterative algorithms (>= 0)'): 1e-06}"
      ]
     },
     "execution_count": 62,
     "metadata": {},
     "output_type": "execute_result"
    }
   ],
   "source": [
    "results_lr = lrModel.bestModel.transform(test)\n",
    "evaluator=MulticlassClassificationEvaluator()\n",
    "print(\"Accuracy: {}\".format(evaluator.evaluate(results_lr, {evaluator.metricName: \"accuracy\"})))\n",
    "print(\"F1 Score: {}\".format(evaluator.evaluate(results_lr, {evaluator.metricName: \"f1\"})))\n",
    "lr_best_model = lrModel.bestModel\n",
    "lr_best_model.save(\"best-logistic-model-1\")\n",
    "lr_best_model.extractParamMap()"
   ]
  },
  {
   "cell_type": "markdown",
   "metadata": {},
   "source": [
    "最佳的LogisticRegression模型regularization parameter为0.0,不使用正则化。最佳的LogisticRegression模型训练集的F1 Score为0.775,测试集的F1 Score为0.726,没有明显的过拟合。由于LogisticRegression模型只与分界的超平面附近的数据点有关,所以模型足够的稳健,模型进一步改善的余地也有限,因为LogisticRegression模型不能比不使用regularization更灵活了"
   ]
  },
  {
   "cell_type": "markdown",
   "metadata": {},
   "source": [
    "**RandomForest:**"
   ]
  },
  {
   "cell_type": "markdown",
   "metadata": {},
   "source": [
    "依次设定树的数量为10,20,30,40,50;树的深度为3,5,7。分类器随着树的数量增加而robust"
   ]
  },
  {
   "cell_type": "code",
   "execution_count": 59,
   "metadata": {},
   "outputs": [
    {
     "name": "stdout",
     "output_type": "stream",
     "text": [
      "Training Time : 1820.7164978981018\n"
     ]
    },
    {
     "data": {
      "text/plain": [
       "[0.7165917090160248,\n",
       " 0.7349926265734603,\n",
       " 0.7679253673194011,\n",
       " 0.7273752909471476,\n",
       " 0.730103036013706,\n",
       " 0.7296801480542201,\n",
       " 0.7180703432511221,\n",
       " 0.7276778715873602,\n",
       " 0.7688319963671143,\n",
       " 0.7099275520897872,\n",
       " 0.7612949452440778,\n",
       " 0.734025907750902,\n",
       " 0.7136174823984522,\n",
       " 0.7196778633597953,\n",
       " 0.7246464242107091]"
      ]
     },
     "execution_count": 59,
     "metadata": {},
     "output_type": "execute_result"
    }
   ],
   "source": [
    "start = time.time()\n",
    "rf = RandomForestClassifier(seed=42)\n",
    "paraGrid = ParamGridBuilder().addGrid(rf.numTrees, np.arange(10, 51, 10)) \\\n",
    "        .addGrid(rf.maxDepth, np.arange(3, 8, 2)).build()\n",
    "crossval = CrossValidator(estimator=rf, estimatorParamMaps=paraGrid, \\\n",
    "                          evaluator=MulticlassClassificationEvaluator(metricName=\"f1\"), numFolds=3)\n",
    "rfModel = crossval.fit(train)\n",
    "end = time.time()\n",
    "print(\"Training Time : {}\".format(end-start))\n",
    "rfModel.avgMetrics"
   ]
  },
  {
   "cell_type": "code",
   "execution_count": 60,
   "metadata": {},
   "outputs": [
    {
     "name": "stdout",
     "output_type": "stream",
     "text": [
      "Accuracy: 0.7941176470588235\n",
      "F1 Score: 0.7262656475019387\n"
     ]
    },
    {
     "data": {
      "text/plain": [
       "{Param(parent='RandomForestClassifier_1eb616697736', name='cacheNodeIds', doc='If false, the algorithm will pass trees to executors to match instances with nodes. If true, the algorithm will cache node IDs for each instance. Caching can speed up training of deeper trees.'): False,\n",
       " Param(parent='RandomForestClassifier_1eb616697736', name='checkpointInterval', doc='set checkpoint interval (>= 1) or disable checkpoint (-1). E.g. 10 means that the cache will get checkpointed every 10 iterations. Note: this setting will be ignored if the checkpoint directory is not set in the SparkContext'): 10,\n",
       " Param(parent='RandomForestClassifier_1eb616697736', name='featureSubsetStrategy', doc='The number of features to consider for splits at each tree node. Supported options: auto, all, onethird, sqrt, log2, (0.0-1.0], [1-n].'): 'auto',\n",
       " Param(parent='RandomForestClassifier_1eb616697736', name='featuresCol', doc='features column name'): 'features',\n",
       " Param(parent='RandomForestClassifier_1eb616697736', name='impurity', doc='Criterion used for information gain calculation (case-insensitive). Supported options: entropy, gini'): 'gini',\n",
       " Param(parent='RandomForestClassifier_1eb616697736', name='labelCol', doc='label column name'): 'label',\n",
       " Param(parent='RandomForestClassifier_1eb616697736', name='maxBins', doc='Max number of bins for discretizing continuous features.  Must be >=2 and >= number of categories for any categorical feature.'): 32,\n",
       " Param(parent='RandomForestClassifier_1eb616697736', name='maxDepth', doc='Maximum depth of the tree. (>= 0) E.g., depth 0 means 1 leaf node; depth 1 means 1 internal node + 2 leaf nodes.'): 7,\n",
       " Param(parent='RandomForestClassifier_1eb616697736', name='maxMemoryInMB', doc='Maximum memory in MB allocated to histogram aggregation.'): 256,\n",
       " Param(parent='RandomForestClassifier_1eb616697736', name='minInfoGain', doc='Minimum information gain for a split to be considered at a tree node.'): 0.0,\n",
       " Param(parent='RandomForestClassifier_1eb616697736', name='minInstancesPerNode', doc='Minimum number of instances each child must have after split.  If a split causes the left or right child to have fewer than minInstancesPerNode, the split will be discarded as invalid. Should be >= 1.'): 1,\n",
       " Param(parent='RandomForestClassifier_1eb616697736', name='numTrees', doc='Number of trees to train (>= 1)'): 30,\n",
       " Param(parent='RandomForestClassifier_1eb616697736', name='predictionCol', doc='prediction column name'): 'prediction',\n",
       " Param(parent='RandomForestClassifier_1eb616697736', name='probabilityCol', doc='Column name for predicted class conditional probabilities. Note: Not all models output well-calibrated probability estimates! These probabilities should be treated as confidences, not precise probabilities'): 'probability',\n",
       " Param(parent='RandomForestClassifier_1eb616697736', name='rawPredictionCol', doc='raw prediction (a.k.a. confidence) column name'): 'rawPrediction',\n",
       " Param(parent='RandomForestClassifier_1eb616697736', name='seed', doc='random seed'): 42,\n",
       " Param(parent='RandomForestClassifier_1eb616697736', name='subsamplingRate', doc='Fraction of the training data used for learning each decision tree, in range (0, 1].'): 1.0}"
      ]
     },
     "execution_count": 60,
     "metadata": {},
     "output_type": "execute_result"
    }
   ],
   "source": [
    "results_rf = rfModel.bestModel.transform(test)\n",
    "evaluator=MulticlassClassificationEvaluator()\n",
    "print(\"Accuracy: {}\".format(evaluator.evaluate(results_rf, {evaluator.metricName: \"accuracy\"})))\n",
    "print(\"F1 Score: {}\".format(evaluator.evaluate(results_rf, {evaluator.metricName: \"f1\"})))\n",
    "rf_best_model = rfModel.bestModel\n",
    "rf_best_model.save(\"best-random-forest-model-1\")\n",
    "rf_best_model.extractParamMap()"
   ]
  },
  {
   "cell_type": "markdown",
   "metadata": {},
   "source": [
    "最佳的RandomForest模型树的数量为10，树的深度为7。最佳的RandomForest模型训练集的F1 Score为0.741，测试集的F1 Score为0.780，没有明显的过拟合。还可以继续增加树的深度以及减少树的数量来改善RandomForest模型的性能，提升其灵活性，但代价是模型的稳健性下降，更容易被干扰，也更容易过拟合。DecisionTree模型非常灵活，但极易过拟合，缺乏稳健性；RandomForest模型作为DecisionTree的集成方法，主要解决其稳健性差，容易过拟合的问题。"
   ]
  },
  {
   "cell_type": "markdown",
   "metadata": {},
   "source": [
    "**Feature Importance:**"
   ]
  },
  {
   "cell_type": "markdown",
   "metadata": {},
   "source": [
    "**Best Model:**\n",
    "\n",
    "(训练多次发现，GridSearch有的时候不能得到最优参数组合，这里重新选择曾经得到的最优参数组合训练模型)"
   ]
  },
  {
   "cell_type": "code",
   "execution_count": 25,
   "metadata": {},
   "outputs": [
    {
     "name": "stdout",
     "output_type": "stream",
     "text": [
      "Training Time : 277.36540722846985\n"
     ]
    },
    {
     "data": {
      "text/plain": [
       "[0.7229835711032783]"
      ]
     },
     "execution_count": 25,
     "metadata": {},
     "output_type": "execute_result"
    }
   ],
   "source": [
    "start = time.time()\n",
    "rf_ = RandomForestClassifier(seed=42, numTrees=10, maxDepth=7)\n",
    "paraGrid = ParamGridBuilder().build()\n",
    "crossval = CrossValidator(estimator=rf_, estimatorParamMaps=paraGrid, \\\n",
    "                          evaluator=MulticlassClassificationEvaluator(metricName=\"f1\"), numFolds=3)\n",
    "rfModel_ = crossval.fit(train)\n",
    "end = time.time()\n",
    "print(\"Training Time : {}\".format(end-start))\n",
    "rfModel_.avgMetrics"
   ]
  },
  {
   "cell_type": "code",
   "execution_count": 26,
   "metadata": {},
   "outputs": [
    {
     "name": "stdout",
     "output_type": "stream",
     "text": [
      "Accuracy: 0.8235294117647058\n",
      "F1 Score: 0.7797160243407708\n"
     ]
    }
   ],
   "source": [
    "results_rf_ = rfModel_.bestModel.transform(test)\n",
    "evaluator=MulticlassClassificationEvaluator()\n",
    "print(\"Accuracy: {}\".format(evaluator.evaluate(results_rf_, {evaluator.metricName: \"accuracy\"})))\n",
    "print(\"F1 Score: {}\".format(evaluator.evaluate(results_rf_, {evaluator.metricName: \"f1\"})))"
   ]
  },
  {
   "cell_type": "code",
   "execution_count": 27,
   "metadata": {},
   "outputs": [
    {
     "data": {
      "image/png": "[encoded data removed]",
      "text/plain": [
       "<matplotlib.figure.Figure at 0x7f390823da20>"
      ]
     },
     "metadata": {
      "needs_background": "light"
     },
     "output_type": "display_data"
    }
   ],
   "source": [
    "fig = plt.figure(figsize=(15, 10))\n",
    "ax = fig.add_subplot(1, 1, 1)\n",
    "feature_importance = rfModel_.bestModel.featureImportances.values\n",
    "labels = [\"gender\",\"Roll Advert\",\"Help\",\"Settings\",\"Add Friend\",\"Downgrade\",\"Thumbs Up\",\"Song Number\",\"Add to Playlist\"]\n",
    "feature_importance_pd = pd.DataFrame(data=feature_importance, index=labels, columns=[\"feature_importance\"])\n",
    "sns.barplot(x=\"feature_importance\", y=feature_importance_pd.index, data=feature_importance_pd, ax=ax, color=\"blue\")\n",
    "plt.xlabel(\"Importance Score\", fontsize=12)\n",
    "plt.ylabel(\"Features\", fontsize=12)\n",
    "plt.title(\"Random Forest Feature Importance\", fontsize=15);"
   ]
  },
  {
   "cell_type": "markdown",
   "metadata": {},
   "source": [
    "使用了LogisticRegression,LinearSVC,RandomForest,GradientBoosting 四种分类器，对其进行交叉验证以及网格参数选取，比较发现RandomForest的f1-score分数最高，达到了0.780。这里选择f1-score作为评估指标，因为数据集中的标签分布不均匀，项目中重点关注的Churn用户占少数，所以综合考虑precission/recall的f1-score评估指标更为合适"
   ]
  },
  {
   "cell_type": "markdown",
   "metadata": {},
   "source": [
    "# 最后一步\n",
    "清理你的代码，添加注释和重命名变量，使得代码更易读和易于维护。参考 Spark 项目概述页面和数据科学家毕业项目审阅要求，确保你的项目包含了毕业项目要求的所有内容，并且满足所有审阅要求。记得在 GitHub 代码库里包含一份全面的文档——README文件，以及一个网络应用程序或博客文章。"
   ]
  }
 ],
 "metadata": {
  "kernelspec": {
   "display_name": "Python 3",
   "language": "python",
   "name": "python3"
  },
  "language_info": {
   "codemirror_mode": {
    "name": "ipython",
    "version": 3
   },
   "file_extension": ".py",
   "mimetype": "text/x-python",
   "name": "python",
   "nbconvert_exporter": "python",
   "pygments_lexer": "ipython3",
   "version": "3.6.3"
  }
 },
 "nbformat": 4,
 "nbformat_minor": 2
}
